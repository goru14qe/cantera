{
 "cells": [
  {
   "cell_type": "code",
   "execution_count": 1,
   "id": "cadce218-2518-4c4e-a858-37c9803be6b7",
   "metadata": {
    "tags": []
   },
   "outputs": [
    {
     "data": {
      "application/vnd.jupyter.widget-view+json": {
       "model_id": "883c67e20d524c2ba728004ac7d094f6",
       "version_major": 2,
       "version_minor": 0
      },
      "text/plain": [
       "interactive(children=(FloatText(value=1.0, description='u:'), FloatText(value=0.01, description='dt:'), FloatT…"
      ]
     },
     "metadata": {},
     "output_type": "display_data"
    }
   ],
   "source": [
    "# Import necessary libraries\n",
    "import ipywidgets as widgets\n",
    "from ipywidgets import interact, interactive\n",
    "from IPython.display import display\n",
    "\n",
    "# Function to calculate the CFL number\n",
    "def calculate_cfl(velocity, dt, dx):\n",
    "    return (velocity * dt) / dx\n",
    "\n",
    "# Create interactive widgets for user input\n",
    "dx_widget = widgets.FloatText(value=0.1, description='dx:')\n",
    "dt_widget = widgets.FloatText(value=0.01, description='dt:')\n",
    "velocity_widget = widgets.FloatText(value=1.0, description='u:')\n",
    "\n",
    "# Create an interactive function for calculating the CFL number\n",
    "def update_cfl(velocity, dt, dx):\n",
    "    cfl = calculate_cfl(velocity, dt, dx)\n",
    "    print(f'CFL: {cfl}')\n",
    "\n",
    "# Create an interactive widget with the update function\n",
    "interactive_plot = interactive(update_cfl, dx=dx_widget, dt=dt_widget,velocity=velocity_widget)\n",
    "\n",
    "# Display the widgets\n",
    "display(interactive_plot)\n"
   ]
  },
  {
   "cell_type": "code",
   "execution_count": 2,
   "id": "7b2ac27b",
   "metadata": {},
   "outputs": [
    {
     "data": {
      "application/vnd.jupyter.widget-view+json": {
       "model_id": "7d5a683eec394fc0b3346749ccfd0443",
       "version_major": 2,
       "version_minor": 0
      },
      "text/plain": [
       "interactive(children=(FloatText(value=0.5, description='CFL:'), FloatText(value=0.1, description='dx:'), Float…"
      ]
     },
     "metadata": {},
     "output_type": "display_data"
    }
   ],
   "source": [
    "# Function to calculate the time step and pressure\n",
    "def calculate_dt_pressure(cfl, dx, velocity, density):\n",
    "    dt = (cfl * dx) / velocity\n",
    "    pressure = (1/3) * density * (dx / dt)**2\n",
    "    return dt, pressure\n",
    "\n",
    "# Create interactive widgets for user input\n",
    "cfl_widget = widgets.FloatText(value=0.5, description='CFL:')\n",
    "dx_widget = widgets.FloatText(value=0.1, description='dx:')\n",
    "density_widget = widgets.FloatText(value=1.0, description='rho:')\n",
    "velocity_widget = widgets.FloatText(value=1.0, description='Velocity:')\n",
    "\n",
    "# Create an interactive function for calculating dt and pressure\n",
    "def update_dt_pressure(cfl, dx, velocity, density):\n",
    "    dt, pressure = calculate_dt_pressure(cfl, dx, velocity, density)\n",
    "    print(f'dt: {dt}')\n",
    "    print(f'p: {pressure}')\n",
    "\n",
    "# Create an interactive widget with the update function\n",
    "interactive_plot = interactive(update_dt_pressure, cfl=cfl_widget, dx=dx_widget,density=density_widget, velocity=velocity_widget)\n",
    "\n",
    "# Display the widgets\n",
    "display(interactive_plot)\n"
   ]
  },
  {
   "cell_type": "code",
   "execution_count": null,
   "id": "49260769",
   "metadata": {},
   "outputs": [],
   "source": []
  }
 ],
 "metadata": {
  "kernelspec": {
   "display_name": "Python 3 (ipykernel)",
   "language": "python",
   "name": "python3"
  },
  "language_info": {
   "codemirror_mode": {
    "name": "ipython",
    "version": 3
   },
   "file_extension": ".py",
   "mimetype": "text/x-python",
   "name": "python",
   "nbconvert_exporter": "python",
   "pygments_lexer": "ipython3",
   "version": "3.10.12"
  }
 },
 "nbformat": 4,
 "nbformat_minor": 5
}
