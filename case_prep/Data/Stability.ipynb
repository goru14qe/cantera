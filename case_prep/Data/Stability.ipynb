{
 "cells": [
  {
   "cell_type": "code",
   "execution_count": 5,
   "id": "31aa9e31-223a-4e2c-acdb-9b3b4cb6968e",
   "metadata": {
    "tags": []
   },
   "outputs": [
    {
     "name": "stdout",
     "output_type": "stream",
     "text": [
      "Suggested:\n",
      "Relaxation time (tau) = 0.6\n",
      "Time step (delta t) = 1.25e-07 s\n",
      "Lattice spacing (delta x) = 2.50e-05 m\n"
     ]
    }
   ],
   "source": [
    "import numpy as np\n",
    "\n",
    "# Given values\n",
    "nu = 1.6703e-04  # Kinematic viscosity in m^2/s\n",
    "delta_x = 2.5e-5\n",
    "tau = 0.6     # Relaxation time\n",
    "\n",
    "c_s = 1 / np.sqrt(3)  # Lattice speed of sound\n",
    "# Calculate delta t\n",
    "delta_t =  (c_s**2 *(tau - 1/2)*(delta_x**2))/nu\n",
    "\n",
    "# Print results\n",
    "print(f\"Suggested:\")\n",
    "print(f\"Relaxation time (tau) = {tau}\")\n",
    "print(f\"Time step (delta t) = {delta_t:.2e} s\")\n",
    "print(f\"Lattice spacing (delta x) = {delta_x:.2e} m\")\n"
   ]
  }
 ],
 "metadata": {
  "kernelspec": {
   "display_name": "Python 3 (ipykernel)",
   "language": "python",
   "name": "python3"
  },
  "language_info": {
   "codemirror_mode": {
    "name": "ipython",
    "version": 3
   },
   "file_extension": ".py",
   "mimetype": "text/x-python",
   "name": "python",
   "nbconvert_exporter": "python",
   "pygments_lexer": "ipython3",
   "version": "3.10.12"
  }
 },
 "nbformat": 4,
 "nbformat_minor": 5
}
