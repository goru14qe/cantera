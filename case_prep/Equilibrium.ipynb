{
 "cells": [
  {
   "cell_type": "code",
   "execution_count": 1,
   "metadata": {
    "tags": []
   },
   "outputs": [],
   "source": [
    "import cantera as ct\n",
    "import numpy as np\n",
    "import csv\n",
    "from matplotlib import *\n",
    "import matplotlib.pyplot as plt\n",
    "import sys"
   ]
  },
  {
   "cell_type": "code",
   "execution_count": 2,
   "metadata": {
    "tags": []
   },
   "outputs": [],
   "source": [
    "gas = ct.Solution('BFER_methane.yaml', 'CH4_BFER_mix')       # create an object representing the gas phase\n",
    "gas.TPX = 300.0, ct.one_atm, {'CH4':1, 'O2':2, 'N2':7.52}   # set initial state"
   ]
  },
  {
   "cell_type": "code",
   "execution_count": 3,
   "metadata": {
    "tags": []
   },
   "outputs": [
    {
     "name": "stdout",
     "output_type": "stream",
     "text": [
      "300.0\n",
      "-------------------------------------------------------\n",
      "Density (rho_0):\t 1.1225e+00 kg/m³\n",
      "Kine Visc (nu_0):\t 1.6058e-05 m²/s\n",
      "cp: \t\t\t1077.33 \n",
      "Therm Cond:(lambda)\t 2.7272e-02 W/m/K\n",
      "\n",
      "\n",
      "['O2', 'H2O', 'CH4', 'CO', 'CO2', 'N2']\n"
     ]
    }
   ],
   "source": [
    "Ini_Temp=gas.T\n",
    "# Get properties\n",
    "density = gas.density\n",
    "viscosity = gas.viscosity\n",
    "thermal_conductivity = gas.thermal_conductivity\n",
    "kinematic_viscosity = viscosity / density  # m²/s\n",
    "cp = gas.cp\n",
    "\n",
    "species_names = gas.species_names\n",
    "molar_masses = gas.molecular_weights/1000  # Molar masses in kg/mol\n",
    "diff_coeffs = gas.mix_diff_coeffs  # m²/s\n",
    "mass_fractions = gas.Y\n",
    "mol_frac = gas.X\n",
    "\n",
    "print(gas.T)\n",
    "print(\"-------------------------------------------------------\")\n",
    "print(f\"Density (rho_0):\\t {density:.4e} kg/m³\")\n",
    "print(f\"Kine Visc (nu_0):\\t {kinematic_viscosity:.4e} m²/s\")\n",
    "print(f\"cp: \\t\\t\\t{cp:.2f} \")\n",
    "print(f\"Therm Cond:(lambda)\\t {thermal_conductivity:.4e} W/m/K\\n\\n\")\n",
    "\n",
    "print(gas.species_names)"
   ]
  },
  {
   "cell_type": "code",
   "execution_count": 4,
   "metadata": {},
   "outputs": [
    {
     "name": "stdout",
     "output_type": "stream",
     "text": [
      "#name     Molar Mass\n",
      "O2     0.031998\n",
      "H2O    0.018015\n",
      "CH4    0.016043\n",
      "CO     0.028010\n",
      "CO2    0.044009\n",
      "N2     0.028014\n",
      "\n",
      "\n",
      "#    Initial mass fractions (FLOW)\n",
      "O2     0.220141    H2O    0.000000\n",
      "CH4    0.055187    CO     0.000000\n",
      "CO2    0.000000    N2     0.724672\n",
      "\n",
      "#    Initial diffusion coefficients (FLOW)\n",
      "O2     2.0261e-05    H2O    2.2707e-05\n",
      "CH4    2.3413e-05    CO     2.0812e-05\n",
      "CO2    1.5866e-05    N2     2.0610e-05\n"
     ]
    }
   ],
   "source": [
    "print(\"#name     Molar Mass\")\n",
    "for i in range(len(species_names)):\n",
    "    print(f\"{species_names[i]:<6} {molar_masses[i]:.6f}\")    \n",
    "    \n",
    "print(\"\\n\\n#    Initial mass fractions (FLOW)\")\n",
    "for i in range(len(species_names)):\n",
    "    print(f\"{species_names[i]:<6} {mass_fractions[i]:.6f}\", end=\"    \" if i % 2 == 0 else \"\\n\")\n",
    "\n",
    "print(\"\\n#    Initial diffusion coefficients (FLOW)\")\n",
    "for i in range(len(species_names)):\n",
    "    print(f\"{species_names[i]:<6} {diff_coeffs[i]:.4e}\", end=\"    \" if i % 2 == 0 else \"\\n\")\n"
   ]
  },
  {
   "cell_type": "code",
   "execution_count": 5,
   "metadata": {
    "tags": []
   },
   "outputs": [
    {
     "name": "stdout",
     "output_type": "stream",
     "text": [
      "2258.2454526607758\n",
      "-------------------------------------------------------\n",
      "Density (rho_0):\t 1.4835e-01 kg/m³\n",
      "Kine Visc (nu_0):\t 4.8308e-04 m²/s\n",
      "cp: \t\t\t1516.71 \n",
      "Therm Cond:(lambda)\t 1.5579e-01 W/m/K\n",
      "\n",
      "\n",
      "['O2', 'H2O', 'CH4', 'CO', 'CO2', 'N2']\n"
     ]
    }
   ],
   "source": [
    "gas.equilibrate('HP')                 # equilibrate using Temperature (T) and Pressure (P)\n",
    "\n",
    "Ini_Temp=gas.T\n",
    "# Get properties\n",
    "density = gas.density\n",
    "viscosity = gas.viscosity\n",
    "thermal_conductivity = gas.thermal_conductivity\n",
    "kinematic_viscosity = viscosity / density  # m²/s\n",
    "cp = gas.cp\n",
    "\n",
    "species_names = gas.species_names\n",
    "molar_masses = gas.molecular_weights/1000  # Molar masses in kg/mol\n",
    "diff_coeffs = gas.mix_diff_coeffs  # m²/s\n",
    "mass_fractions = gas.Y\n",
    "mol_frac = gas.X\n",
    "\n",
    "print(gas.T)\n",
    "print(\"-------------------------------------------------------\")\n",
    "print(f\"Density (rho_0):\\t {density:.4e} kg/m³\")\n",
    "print(f\"Kine Visc (nu_0):\\t {kinematic_viscosity:.4e} m²/s\")\n",
    "print(f\"cp: \\t\\t\\t{cp:.2f} \")\n",
    "print(f\"Therm Cond:(lambda)\\t {thermal_conductivity:.4e} W/m/K\\n\\n\")\n",
    "\n",
    "print(gas.species_names)"
   ]
  },
  {
   "cell_type": "code",
   "execution_count": 6,
   "metadata": {},
   "outputs": [
    {
     "name": "stdout",
     "output_type": "stream",
     "text": [
      "#name     Molar Mass\n",
      "O2     0.031998\n",
      "H2O    0.018015\n",
      "CH4    0.016043\n",
      "CO     0.028010\n",
      "CO2    0.044009\n",
      "N2     0.028014\n",
      "\n",
      "\n",
      "#    Initial mass fractions (FLOW)\n",
      "O2     0.006044    H2O    0.123940\n",
      "CH4    0.000000    CO     0.010581\n",
      "CO2    0.134762    N2     0.724672\n",
      "\n",
      "#    Initial diffusion coefficients (FLOW)\n",
      "O2     6.4746e-04    H2O    8.7845e-04\n",
      "CH4    7.0535e-04    CO     6.3839e-04\n",
      "CO2    5.0573e-04    N2     6.5863e-04\n"
     ]
    }
   ],
   "source": [
    "print(\"#name     Molar Mass\")\n",
    "for i in range(len(species_names)):\n",
    "    print(f\"{species_names[i]:<6} {molar_masses[i]:.6f}\")    \n",
    "    \n",
    "print(\"\\n\\n#    Initial mass fractions (FLOW)\")\n",
    "for i in range(len(species_names)):\n",
    "    print(f\"{species_names[i]:<6} {mass_fractions[i]:.6f}\", end=\"    \" if i % 2 == 0 else \"\\n\")\n",
    "\n",
    "print(\"\\n#    Initial diffusion coefficients (FLOW)\")\n",
    "for i in range(len(species_names)):\n",
    "    print(f\"{species_names[i]:<6} {diff_coeffs[i]:.4e}\", end=\"    \" if i % 2 == 0 else \"\\n\")\n"
   ]
  },
  {
   "cell_type": "markdown",
   "metadata": {},
   "source": []
  }
 ],
 "metadata": {
  "kernelspec": {
   "display_name": "Python 3 (ipykernel)",
   "language": "python",
   "name": "python3"
  },
  "language_info": {
   "codemirror_mode": {
    "name": "ipython",
    "version": 3
   },
   "file_extension": ".py",
   "mimetype": "text/x-python",
   "name": "python",
   "nbconvert_exporter": "python",
   "pygments_lexer": "ipython3",
   "version": "3.10.12"
  }
 },
 "nbformat": 4,
 "nbformat_minor": 4
}
