{
 "cells": [
  {
   "cell_type": "markdown",
   "metadata": {},
   "source": [
    "# IV - 0D computations"
   ]
  },
  {
   "cell_type": "markdown",
   "metadata": {},
   "source": [
    "## 1. Knowledge of 0D computations"
   ]
  },
  {
   "cell_type": "markdown",
   "metadata": {},
   "source": [
    "### Import statements"
   ]
  },
  {
   "cell_type": "code",
   "execution_count": 1,
   "metadata": {
    "tags": []
   },
   "outputs": [],
   "source": [
    "import sys\n",
    "import numpy as np\n",
    "import cantera as ct\n",
    "import matplotlib.pyplot as plt\n",
    "from matplotlib import *"
   ]
  },
  {
   "cell_type": "markdown",
   "metadata": {},
   "source": [
    "### Set the mechanism properties"
   ]
  },
  {
   "cell_type": "code",
   "execution_count": 2,
   "metadata": {
    "tags": []
   },
   "outputs": [],
   "source": [
    "gas = ct.Solution('gri30.yaml')\n",
    "gas.TPX = 1000.0, ct.one_atm, {'CH4':1, 'O2':2, 'N2':7.52} "
   ]
  },
  {
   "cell_type": "markdown",
   "metadata": {},
   "source": [
    "### Create the reactor and the ReactorNet associated to it"
   ]
  },
  {
   "cell_type": "code",
   "execution_count": 3,
   "metadata": {
    "tags": []
   },
   "outputs": [],
   "source": [
    "# Create Reactor and fill with gas\n",
    "r = ct.Reactor(gas)\n",
    "\n",
    "# Prepare the simulation with a ReactorNet object\n",
    "sim = ct.ReactorNet([r])\n",
    "time = 8e-8"
   ]
  },
  {
   "cell_type": "markdown",
   "metadata": {},
   "source": [
    "### Compute the reactor"
   ]
  },
  {
   "cell_type": "code",
   "execution_count": 20,
   "metadata": {
    "scrolled": true,
    "tags": []
   },
   "outputs": [
    {
     "name": "stdout",
     "output_type": "stream",
     "text": [
      "     t [s]      T [K]\n",
      " 1.408e+00   2541.146\n",
      " 1.416e+00   2541.146\n",
      " 1.424e+00   2541.146\n",
      " 1.432e+00   2541.146\n",
      " 1.440e+00   2541.146\n",
      " 1.448e+00   2541.146\n",
      " 1.456e+00   2541.146\n",
      " 1.464e+00   2541.146\n",
      " 1.472e+00   2541.146\n",
      " 1.480e+00   2541.146\n",
      " 1.488e+00   2541.146\n",
      " 1.496e+00   2541.146\n",
      " 1.504e+00   2541.146\n",
      " 1.512e+00   2541.146\n",
      " 1.520e+00   2541.146\n",
      " 1.528e+00   2541.146\n",
      " 1.536e+00   2541.146\n",
      " 1.544e+00   2541.146\n",
      " 1.552e+00   2541.146\n",
      " 1.560e+00   2541.146\n",
      " 1.568e+00   2541.146\n",
      " 1.576e+00   2541.146\n",
      " 1.584e+00   2541.146\n",
      " 1.592e+00   2541.146\n",
      " 1.600e+00   2541.146\n",
      " 1.608e+00   2541.146\n",
      " 1.616e+00   2541.146\n",
      " 1.624e+00   2541.146\n",
      " 1.632e+00   2541.146\n",
      " 1.640e+00   2541.146\n",
      " 1.648e+00   2541.146\n",
      " 1.656e+00   2541.146\n",
      " 1.664e+00   2541.146\n",
      " 1.672e+00   2541.146\n",
      " 1.680e+00   2541.146\n",
      " 1.688e+00   2541.146\n",
      " 1.696e+00   2541.146\n",
      " 1.704e+00   2541.146\n",
      " 1.712e+00   2541.146\n",
      " 1.720e+00   2541.146\n",
      " 1.728e+00   2541.146\n",
      " 1.736e+00   2541.146\n",
      " 1.744e+00   2541.146\n",
      " 1.752e+00   2541.146\n",
      " 1.760e+00   2541.146\n",
      " 1.768e+00   2541.146\n",
      " 1.776e+00   2541.146\n",
      " 1.784e+00   2541.146\n",
      " 1.792e+00   2541.146\n",
      " 1.800e+00   2541.146\n",
      " 1.808e+00   2541.146\n",
      " 1.816e+00   2541.146\n",
      " 1.824e+00   2541.146\n",
      " 1.832e+00   2541.146\n",
      " 1.840e+00   2541.146\n",
      " 1.848e+00   2541.146\n",
      " 1.856e+00   2541.146\n",
      " 1.864e+00   2541.146\n",
      " 1.872e+00   2541.146\n",
      " 1.880e+00   2541.146\n",
      " 1.888e+00   2541.146\n",
      " 1.896e+00   2541.146\n",
      " 1.904e+00   2541.146\n",
      " 1.912e+00   2541.146\n",
      " 1.920e+00   2541.146\n",
      " 1.928e+00   2541.146\n",
      " 1.936e+00   2541.146\n",
      " 1.944e+00   2541.146\n",
      " 1.952e+00   2541.146\n",
      " 1.960e+00   2541.146\n",
      " 1.968e+00   2541.146\n",
      " 1.976e+00   2541.146\n",
      " 1.984e+00   2541.146\n",
      " 1.992e+00   2541.146\n",
      " 2.000e+00   2541.146\n",
      " 2.008e+00   2541.146\n",
      " 2.016e+00   2541.146\n",
      " 2.024e+00   2541.146\n",
      " 2.032e+00   2541.146\n",
      " 2.040e+00   2541.146\n",
      " 2.048e+00   2541.146\n",
      " 2.056e+00   2541.146\n",
      " 2.064e+00   2541.146\n",
      " 2.072e+00   2541.146\n",
      " 2.080e+00   2541.146\n",
      " 2.088e+00   2541.146\n",
      " 2.096e+00   2541.146\n",
      " 2.104e+00   2541.146\n",
      " 2.112e+00   2541.146\n",
      " 2.120e+00   2541.146\n",
      " 2.128e+00   2541.146\n",
      " 2.136e+00   2541.146\n",
      " 2.144e+00   2541.146\n",
      " 2.152e+00   2541.146\n",
      " 2.160e+00   2541.146\n",
      " 2.168e+00   2541.146\n",
      " 2.176e+00   2541.146\n",
      " 2.184e+00   2541.146\n",
      " 2.192e+00   2541.146\n",
      " 2.200e+00   2541.146\n",
      " 2.208e+00   2541.146\n",
      " 2.216e+00   2541.146\n",
      " 2.224e+00   2541.146\n",
      " 2.232e+00   2541.146\n",
      " 2.240e+00   2541.146\n",
      " 2.248e+00   2541.146\n",
      " 2.256e+00   2541.146\n",
      " 2.264e+00   2541.146\n",
      " 2.272e+00   2541.146\n",
      " 2.280e+00   2541.146\n",
      " 2.288e+00   2541.146\n",
      " 2.296e+00   2541.146\n",
      " 2.304e+00   2541.146\n",
      " 2.312e+00   2541.146\n",
      " 2.320e+00   2541.146\n",
      " 2.328e+00   2541.146\n",
      " 2.336e+00   2541.146\n",
      " 2.344e+00   2541.146\n",
      " 2.352e+00   2541.146\n",
      " 2.360e+00   2541.146\n",
      " 2.368e+00   2541.146\n",
      " 2.376e+00   2541.146\n",
      " 2.384e+00   2541.146\n",
      " 2.392e+00   2541.146\n",
      " 2.400e+00   2541.146\n",
      " 2.408e+00   2541.146\n",
      " 2.416e+00   2541.146\n",
      " 2.424e+00   2541.146\n",
      " 2.432e+00   2541.146\n",
      " 2.440e+00   2541.146\n",
      " 2.448e+00   2541.146\n",
      " 2.456e+00   2541.146\n",
      " 2.464e+00   2541.146\n",
      " 2.472e+00   2541.146\n",
      " 2.480e+00   2541.146\n",
      " 2.488e+00   2541.146\n",
      " 2.496e+00   2541.146\n",
      " 2.504e+00   2541.146\n",
      " 2.512e+00   2541.146\n",
      " 2.520e+00   2541.146\n",
      " 2.528e+00   2541.146\n",
      " 2.536e+00   2541.146\n",
      " 2.544e+00   2541.146\n",
      " 2.552e+00   2541.146\n",
      " 2.560e+00   2541.146\n",
      " 2.568e+00   2541.146\n",
      " 2.576e+00   2541.146\n",
      " 2.584e+00   2541.146\n",
      " 2.592e+00   2541.146\n",
      " 2.600e+00   2541.146\n",
      " 2.608e+00   2541.146\n",
      " 2.616e+00   2541.146\n",
      " 2.624e+00   2541.146\n",
      " 2.632e+00   2541.146\n",
      " 2.640e+00   2541.146\n",
      " 2.648e+00   2541.146\n",
      " 2.656e+00   2541.146\n",
      " 2.664e+00   2541.146\n",
      " 2.672e+00   2541.146\n",
      " 2.680e+00   2541.146\n",
      " 2.688e+00   2541.146\n",
      " 2.696e+00   2541.146\n",
      " 2.704e+00   2541.146\n",
      " 2.712e+00   2541.146\n",
      " 2.720e+00   2541.146\n",
      " 2.728e+00   2541.146\n",
      " 2.736e+00   2541.146\n",
      " 2.744e+00   2541.146\n",
      " 2.752e+00   2541.146\n",
      " 2.760e+00   2541.146\n",
      " 2.768e+00   2541.146\n",
      " 2.776e+00   2541.146\n",
      " 2.784e+00   2541.146\n",
      " 2.792e+00   2541.146\n",
      " 2.800e+00   2541.146\n",
      " 2.808e+00   2541.146\n",
      " 2.816e+00   2541.146\n",
      " 2.824e+00   2541.146\n",
      " 2.832e+00   2541.146\n",
      " 2.840e+00   2541.146\n",
      " 2.848e+00   2541.146\n",
      " 2.856e+00   2541.146\n",
      " 2.864e+00   2541.146\n",
      " 2.872e+00   2541.146\n",
      " 2.880e+00   2541.146\n",
      " 2.888e+00   2541.146\n",
      " 2.896e+00   2541.146\n",
      " 2.904e+00   2541.146\n",
      " 2.912e+00   2541.146\n",
      " 2.920e+00   2541.146\n",
      " 2.928e+00   2541.146\n",
      " 2.936e+00   2541.146\n",
      " 2.944e+00   2541.146\n",
      " 2.952e+00   2541.146\n",
      " 2.960e+00   2541.146\n",
      " 2.968e+00   2541.146\n",
      " 2.976e+00   2541.146\n",
      " 2.984e+00   2541.146\n",
      " 2.992e+00   2541.146\n",
      " 3.000e+00   2541.146\n",
      " 3.008e+00   2541.146\n",
      " 3.016e+00   2541.146\n",
      " 3.024e+00   2541.146\n",
      " 3.032e+00   2541.146\n",
      " 3.040e+00   2541.146\n",
      " 3.048e+00   2541.146\n",
      " 3.056e+00   2541.146\n",
      " 3.064e+00   2541.146\n",
      " 3.072e+00   2541.146\n",
      " 3.080e+00   2541.146\n",
      " 3.088e+00   2541.146\n",
      " 3.096e+00   2541.146\n",
      " 3.104e+00   2541.146\n",
      " 3.112e+00   2541.146\n",
      " 3.120e+00   2541.146\n",
      " 3.128e+00   2541.146\n",
      " 3.136e+00   2541.146\n",
      " 3.144e+00   2541.146\n",
      " 3.152e+00   2541.146\n",
      " 3.160e+00   2541.146\n",
      " 3.168e+00   2541.146\n",
      " 3.176e+00   2541.146\n",
      " 3.184e+00   2541.146\n",
      " 3.192e+00   2541.146\n",
      " 3.200e+00   2541.146\n",
      " 3.208e+00   2541.146\n",
      " 3.216e+00   2541.146\n",
      " 3.224e+00   2541.146\n",
      " 3.232e+00   2541.146\n",
      " 3.240e+00   2541.146\n",
      " 3.248e+00   2541.146\n",
      " 3.256e+00   2541.146\n",
      " 3.264e+00   2541.146\n",
      " 3.272e+00   2541.146\n",
      " 3.280e+00   2541.146\n",
      " 3.288e+00   2541.146\n",
      " 3.296e+00   2541.146\n",
      " 3.304e+00   2541.146\n",
      " 3.312e+00   2541.146\n",
      " 3.320e+00   2541.146\n",
      " 3.328e+00   2541.146\n",
      " 3.336e+00   2541.146\n",
      " 3.344e+00   2541.146\n",
      " 3.352e+00   2541.146\n",
      " 3.360e+00   2541.146\n",
      " 3.368e+00   2541.146\n",
      " 3.376e+00   2541.146\n",
      " 3.384e+00   2541.146\n",
      " 3.392e+00   2541.146\n",
      " 3.400e+00   2541.146\n",
      " 3.408e+00   2541.146\n",
      " 3.416e+00   2541.146\n",
      " 3.424e+00   2541.146\n",
      " 3.432e+00   2541.146\n",
      " 3.440e+00   2541.146\n",
      " 3.448e+00   2541.146\n",
      " 3.456e+00   2541.146\n",
      " 3.464e+00   2541.146\n",
      " 3.472e+00   2541.146\n",
      " 3.480e+00   2541.146\n",
      " 3.488e+00   2541.146\n",
      " 3.496e+00   2541.146\n",
      " 3.504e+00   2541.146\n",
      " 3.512e+00   2541.146\n",
      " 3.520e+00   2541.146\n",
      " 3.528e+00   2541.146\n",
      " 3.536e+00   2541.146\n",
      " 3.544e+00   2541.146\n",
      " 3.552e+00   2541.146\n",
      " 3.560e+00   2541.146\n",
      " 3.568e+00   2541.146\n",
      " 3.576e+00   2541.146\n",
      " 3.584e+00   2541.146\n",
      " 3.592e+00   2541.146\n",
      " 3.600e+00   2541.146\n",
      " 3.608e+00   2541.146\n",
      " 3.616e+00   2541.146\n",
      " 3.624e+00   2541.146\n",
      " 3.632e+00   2541.146\n",
      " 3.640e+00   2541.146\n",
      " 3.648e+00   2541.146\n",
      " 3.656e+00   2541.146\n",
      " 3.664e+00   2541.146\n",
      " 3.672e+00   2541.146\n",
      " 3.680e+00   2541.146\n",
      " 3.688e+00   2541.146\n",
      " 3.696e+00   2541.146\n",
      " 3.704e+00   2541.146\n",
      " 3.712e+00   2541.146\n",
      " 3.720e+00   2541.146\n",
      " 3.728e+00   2541.146\n",
      " 3.736e+00   2541.146\n",
      " 3.744e+00   2541.146\n",
      " 3.752e+00   2541.146\n",
      " 3.760e+00   2541.146\n",
      " 3.768e+00   2541.146\n",
      " 3.776e+00   2541.146\n",
      " 3.784e+00   2541.146\n",
      " 3.792e+00   2541.146\n",
      " 3.800e+00   2541.146\n",
      " 3.808e+00   2541.146\n",
      " 3.816e+00   2541.146\n",
      " 3.824e+00   2541.146\n",
      " 3.832e+00   2541.146\n",
      " 3.840e+00   2541.146\n",
      " 3.848e+00   2541.146\n",
      " 3.856e+00   2541.146\n",
      " 3.864e+00   2541.146\n",
      " 3.872e+00   2541.146\n",
      " 3.880e+00   2541.146\n",
      " 3.888e+00   2541.146\n",
      " 3.896e+00   2541.146\n",
      " 3.904e+00   2541.146\n",
      " 3.912e+00   2541.146\n",
      " 3.920e+00   2541.146\n",
      " 3.928e+00   2541.146\n",
      " 3.936e+00   2541.146\n",
      " 3.944e+00   2541.146\n",
      " 3.952e+00   2541.146\n",
      " 3.960e+00   2541.146\n",
      " 3.968e+00   2541.146\n",
      " 3.976e+00   2541.146\n",
      " 3.984e+00   2541.146\n",
      " 3.992e+00   2541.146\n",
      " 4.000e+00   2541.146\n",
      " 4.008e+00   2541.146\n",
      " 4.016e+00   2541.146\n",
      " 4.024e+00   2541.146\n",
      " 4.032e+00   2541.146\n",
      " 4.040e+00   2541.146\n",
      " 4.048e+00   2541.146\n",
      " 4.056e+00   2541.146\n",
      " 4.064e+00   2541.146\n",
      " 4.072e+00   2541.146\n",
      " 4.080e+00   2541.146\n",
      " 4.088e+00   2541.146\n",
      " 4.096e+00   2541.146\n",
      " 4.104e+00   2541.146\n",
      " 4.112e+00   2541.146\n",
      " 4.120e+00   2541.146\n",
      " 4.128e+00   2541.146\n",
      " 4.136e+00   2541.146\n",
      " 4.144e+00   2541.146\n",
      " 4.152e+00   2541.146\n",
      " 4.160e+00   2541.146\n",
      " 4.168e+00   2541.146\n",
      " 4.176e+00   2541.146\n",
      " 4.184e+00   2541.146\n",
      " 4.192e+00   2541.146\n",
      " 4.200e+00   2541.146\n",
      " 4.208e+00   2541.146\n",
      " 4.216e+00   2541.146\n",
      " 4.224e+00   2541.146\n",
      " 4.232e+00   2541.146\n",
      " 4.240e+00   2541.146\n",
      " 4.248e+00   2541.146\n",
      " 4.256e+00   2541.146\n",
      " 4.264e+00   2541.146\n",
      " 4.272e+00   2541.146\n",
      " 4.280e+00   2541.146\n",
      " 4.288e+00   2541.146\n",
      " 4.296e+00   2541.146\n",
      " 4.304e+00   2541.146\n",
      " 4.312e+00   2541.146\n",
      " 4.320e+00   2541.146\n",
      " 4.328e+00   2541.146\n",
      " 4.336e+00   2541.146\n",
      " 4.344e+00   2541.146\n",
      " 4.352e+00   2541.146\n",
      " 4.360e+00   2541.146\n",
      " 4.368e+00   2541.146\n",
      " 4.376e+00   2541.146\n",
      " 4.384e+00   2541.146\n",
      " 4.392e+00   2541.146\n",
      " 4.400e+00   2541.146\n",
      " 4.408e+00   2541.146\n",
      " 4.416e+00   2541.146\n",
      " 4.424e+00   2541.146\n",
      " 4.432e+00   2541.146\n",
      " 4.440e+00   2541.146\n",
      " 4.448e+00   2541.146\n",
      " 4.456e+00   2541.146\n",
      " 4.464e+00   2541.146\n",
      " 4.472e+00   2541.146\n",
      " 4.480e+00   2541.146\n",
      " 4.488e+00   2541.146\n",
      " 4.496e+00   2541.146\n",
      " 4.504e+00   2541.146\n",
      " 4.512e+00   2541.146\n",
      " 4.520e+00   2541.146\n",
      " 4.528e+00   2541.146\n",
      " 4.536e+00   2541.146\n",
      " 4.544e+00   2541.146\n",
      " 4.552e+00   2541.146\n",
      " 4.560e+00   2541.146\n",
      " 4.568e+00   2541.146\n",
      " 4.576e+00   2541.146\n",
      " 4.584e+00   2541.146\n",
      " 4.592e+00   2541.146\n",
      " 4.600e+00   2541.146\n"
     ]
    }
   ],
   "source": [
    "# Arrays to hold the datas\n",
    "n_points = 400\n",
    "times = np.zeros(n_points)\n",
    "data = np.zeros((n_points, 4))\n",
    "\n",
    "# Advance the simulation in time\n",
    "# and print the internal evolution of temperature, volume and internal energy\n",
    "print(('%10s %10s' % ('t [s]', 'T [K]')))\n",
    "for n in range(n_points):\n",
    "    time += 8.e-3\n",
    "    sim.advance(time)\n",
    "    times[n] = time  # time in s\n",
    "    data[n, 0] = r.T                               # set the temperature in the first column\n",
    "    data[n, 1:] = r.thermo['O2', 'CO2', 'CH4'].X     # set the molar fractions in the other column\n",
    "    print(('%10.3e %10.3f' % (sim.time, r.T)))"
   ]
  },
  {
   "cell_type": "markdown",
   "metadata": {},
   "source": [
    "### Plot results"
   ]
  },
  {
   "cell_type": "code",
   "execution_count": 5,
   "metadata": {
    "tags": []
   },
   "outputs": [
    {
     "data": {
      "image/png": "[encoded data removed]",
      "text/plain": [
       "<Figure size 1400x1000 with 4 Axes>"
      ]
     },
     "metadata": {},
     "output_type": "display_data"
    }
   ],
   "source": [
    "rcParams['figure.figsize'] = (14, 10)\n",
    "\n",
    "plt.clf()\n",
    "\n",
    "plt.subplot(2, 2, 1)\n",
    "plt.plot(times, data[:, 0])\n",
    "plt.xlabel('Time (ms)')\n",
    "plt.ylabel('Temperature (K)')\n",
    "\n",
    "plt.subplot(2, 2, 2)\n",
    "plt.plot(times, data[:, 1])\n",
    "plt.xlabel('Time (ms)')\n",
    "plt.ylabel('O2 Mole Fraction')\n",
    "\n",
    "plt.subplot(2, 2, 3)\n",
    "plt.plot(times, data[:, 2])\n",
    "plt.xlabel('Time (ms)')\n",
    "plt.ylabel('CO2 Mole Fraction')\n",
    "\n",
    "plt.subplot(2, 2, 4)\n",
    "plt.plot(times, data[:, 3])\n",
    "plt.xlabel('Time (ms)')\n",
    "plt.ylabel('CH4 Mole Fraction')\n",
    "\n",
    "plt.show()"
   ]
  },
  {
   "cell_type": "markdown",
   "metadata": {},
   "source": [
    "There are the characteristic evolutions that one can observe when simulating 0D cases. You should be aware that your case must auto-ignite (for some temperature, it is not sufficiently hot to auto-ignite, therefore nothing happens) and that the simulated time should be sufficient to capture the time where it ignites."
   ]
  },
  {
   "cell_type": "markdown",
   "metadata": {},
   "source": [
    "<div class=\"alert alert-danger \"><b>Try to move the temperature of the gas state :<br>\n",
    "- at 960 K<br>\n",
    "- at 1040 K\n",
    "<br><br>\n",
    "What do you observe ?</b></div>"
   ]
  },
  {
   "cell_type": "markdown",
   "metadata": {},
   "source": [
    "As you can see, slightly shifting the temperature up or down moves the auto-ignition time. As you never know a priori the order of magnitude of the ignition time, it is good to use the step version until you reach burnt gases."
   ]
  },
  {
   "cell_type": "markdown",
   "metadata": {},
   "source": [
    "## 3. A simple constant pressure reactor"
   ]
  },
  {
   "cell_type": "markdown",
   "metadata": {},
   "source": [
    "Here, we want to create a simple constant pressure reactor. To do so, it is necessary to create a reactor and its environment (which will be a Reservoir). The interface between the two objects created is handled by a wall, of which the expansion rate can be defined by the user."
   ]
  },
  {
   "cell_type": "markdown",
   "metadata": {},
   "source": [
    "### Set the mechanism properties"
   ]
  },
  {
   "cell_type": "code",
   "execution_count": 6,
   "metadata": {},
   "outputs": [
    {
     "name": "stderr",
     "output_type": "stream",
     "text": [
      "C:\\Users\\Safari\\AppData\\Local\\Temp\\ipykernel_27300\\959159443.py:2: DeprecationWarning: XML_Node::build: \n",
      "The CTI and XML input file formats are deprecated and will be removed in\n",
      "Cantera 3.0. Use 'cti2yaml.py' or 'ctml2yaml.py' to convert CTI or XML input\n",
      "files to the YAML format. See https://cantera.org/tutorials/legacy2yaml.html\n",
      "for more information.\n",
      "  gri3 = ct.Solution('gri30.xml')\n"
     ]
    }
   ],
   "source": [
    "# Mechanisms used for the process\n",
    "gri3 = ct.Solution('gri30.xml')\n",
    "air = ct.Solution('air.xml')\n",
    "\n",
    "# Gas state\n",
    "gri3.TPX = 1000.0, ct.one_atm, 'CH4:0.5,O2:1,N2:3.76'"
   ]
  },
  {
   "cell_type": "markdown",
   "metadata": {},
   "source": [
    "### Set the reservoir"
   ]
  },
  {
   "cell_type": "markdown",
   "metadata": {},
   "source": [
    "<div class=\"alert alert-danger \"><b> Try to set :<br>\n",
    "- an IdealGasReactor object with the gri3 object created above<br>\n",
    "- a Reservoir representing the environment with the air object created above\n",
    "</p></div>"
   ]
  },
  {
   "cell_type": "code",
   "execution_count": 7,
   "metadata": {},
   "outputs": [],
   "source": [
    "# Reactor and environment\n",
    "r = ct.IdealGasReactor(gri3)\n",
    "env = ct.Reservoir(air)\n",
    "\n",
    "# Wall\n",
    "w = ct.Wall(r, env)\n",
    "w.expansion_rate_coeff = 1.0e6  # set expansion parameter. dV/dt = KA(P_1 - P_2)\n",
    "w.area = 1.0\n",
    "\n",
    "# Prepare the simulation with a ReactorNet object\n",
    "sim = ct.ReactorNet([r])\n",
    "time = 4.e-1"
   ]
  },
  {
   "cell_type": "markdown",
   "metadata": {},
   "source": [
    "As explained in the lecture, note that the environment defines the air in which the reactor is set in. We also define a wall between the reactor and the environment, and make it flexible, so that the pressure in the reactor is held at the environment pressure."
   ]
  },
  {
   "cell_type": "markdown",
   "metadata": {},
   "source": [
    "### Simulate the reactor"
   ]
  },
  {
   "cell_type": "code",
   "execution_count": 8,
   "metadata": {},
   "outputs": [
    {
     "name": "stdout",
     "output_type": "stream",
     "text": [
      "     t [s]      T [K]     P [Pa]       h [J/kg]\n",
      " 4.050e-01   1000.862 101325.000   5.879461e+05\n",
      " 4.100e-01   1000.883 101325.000   5.879461e+05\n",
      " 4.150e-01   1000.905 101325.000   5.879461e+05\n",
      " 4.200e-01   1000.927 101325.000   5.879461e+05\n",
      " 4.250e-01   1000.949 101325.000   5.879461e+05\n",
      " 4.300e-01   1000.972 101325.000   5.879461e+05\n",
      " 4.350e-01   1000.996 101325.000   5.879461e+05\n",
      " 4.400e-01   1001.020 101325.000   5.879461e+05\n",
      " 4.450e-01   1001.044 101325.000   5.879461e+05\n",
      " 4.500e-01   1001.069 101325.000   5.879461e+05\n",
      " 4.550e-01   1001.094 101325.000   5.879461e+05\n",
      " 4.600e-01   1001.120 101325.000   5.879461e+05\n",
      " 4.650e-01   1001.146 101325.000   5.879461e+05\n",
      " 4.700e-01   1001.173 101325.000   5.879461e+05\n",
      " 4.750e-01   1001.200 101325.000   5.879461e+05\n",
      " 4.800e-01   1001.228 101325.000   5.879461e+05\n",
      " 4.850e-01   1001.256 101325.000   5.879461e+05\n",
      " 4.900e-01   1001.285 101325.000   5.879461e+05\n",
      " 4.950e-01   1001.315 101325.000   5.879461e+05\n",
      " 5.000e-01   1001.345 101325.000   5.879461e+05\n",
      " 5.050e-01   1001.376 101325.000   5.879461e+05\n",
      " 5.100e-01   1001.407 101325.000   5.879461e+05\n",
      " 5.150e-01   1001.439 101325.000   5.879461e+05\n",
      " 5.200e-01   1001.471 101325.000   5.879461e+05\n",
      " 5.250e-01   1001.504 101325.000   5.879461e+05\n",
      " 5.300e-01   1001.538 101325.000   5.879460e+05\n",
      " 5.350e-01   1001.572 101325.000   5.879461e+05\n",
      " 5.400e-01   1001.608 101325.000   5.879461e+05\n",
      " 5.450e-01   1001.643 101325.000   5.879461e+05\n",
      " 5.500e-01   1001.680 101325.000   5.879461e+05\n",
      " 5.550e-01   1001.717 101325.000   5.879461e+05\n",
      " 5.600e-01   1001.755 101325.000   5.879461e+05\n",
      " 5.650e-01   1001.794 101325.000   5.879461e+05\n",
      " 5.700e-01   1001.834 101325.000   5.879461e+05\n",
      " 5.750e-01   1001.875 101325.000   5.879461e+05\n",
      " 5.800e-01   1001.916 101325.000   5.879461e+05\n",
      " 5.850e-01   1001.958 101325.000   5.879461e+05\n",
      " 5.900e-01   1002.001 101325.000   5.879461e+05\n",
      " 5.950e-01   1002.045 101325.000   5.879461e+05\n",
      " 6.000e-01   1002.090 101325.000   5.879461e+05\n",
      " 6.050e-01   1002.136 101325.000   5.879461e+05\n",
      " 6.100e-01   1002.183 101325.000   5.879461e+05\n",
      " 6.150e-01   1002.231 101325.000   5.879461e+05\n",
      " 6.200e-01   1002.280 101325.000   5.879461e+05\n",
      " 6.250e-01   1002.330 101325.000   5.879461e+05\n",
      " 6.300e-01   1002.381 101325.000   5.879461e+05\n",
      " 6.350e-01   1002.433 101325.000   5.879461e+05\n",
      " 6.400e-01   1002.486 101325.000   5.879461e+05\n",
      " 6.450e-01   1002.541 101325.000   5.879461e+05\n",
      " 6.500e-01   1002.596 101325.000   5.879461e+05\n",
      " 6.550e-01   1002.653 101325.000   5.879461e+05\n",
      " 6.600e-01   1002.712 101325.000   5.879461e+05\n",
      " 6.650e-01   1002.771 101325.000   5.879461e+05\n",
      " 6.700e-01   1002.832 101325.000   5.879461e+05\n",
      " 6.750e-01   1002.894 101325.000   5.879461e+05\n",
      " 6.800e-01   1002.958 101325.000   5.879461e+05\n",
      " 6.850e-01   1003.024 101325.000   5.879461e+05\n",
      " 6.900e-01   1003.091 101325.000   5.879461e+05\n",
      " 6.950e-01   1003.159 101325.000   5.879461e+05\n",
      " 7.000e-01   1003.229 101325.000   5.879461e+05\n",
      " 7.050e-01   1003.301 101325.000   5.879461e+05\n",
      " 7.100e-01   1003.374 101325.000   5.879461e+05\n",
      " 7.150e-01   1003.450 101325.000   5.879461e+05\n",
      " 7.200e-01   1003.527 101325.000   5.879461e+05\n",
      " 7.250e-01   1003.606 101325.000   5.879461e+05\n",
      " 7.300e-01   1003.687 101325.000   5.879461e+05\n",
      " 7.350e-01   1003.770 101325.000   5.879461e+05\n",
      " 7.400e-01   1003.856 101325.000   5.879461e+05\n",
      " 7.450e-01   1003.943 101325.000   5.879461e+05\n",
      " 7.500e-01   1004.033 101325.000   5.879461e+05\n",
      " 7.550e-01   1004.125 101325.000   5.879461e+05\n",
      " 7.600e-01   1004.220 101325.000   5.879461e+05\n",
      " 7.650e-01   1004.317 101325.000   5.879461e+05\n",
      " 7.700e-01   1004.417 101325.000   5.879461e+05\n",
      " 7.750e-01   1004.520 101325.000   5.879461e+05\n",
      " 7.800e-01   1004.625 101325.000   5.879461e+05\n",
      " 7.850e-01   1004.734 101325.000   5.879461e+05\n",
      " 7.900e-01   1004.845 101325.000   5.879461e+05\n",
      " 7.950e-01   1004.960 101325.000   5.879461e+05\n",
      " 8.000e-01   1005.078 101325.000   5.879461e+05\n",
      " 8.050e-01   1005.200 101325.000   5.879461e+05\n",
      " 8.100e-01   1005.325 101325.000   5.879461e+05\n",
      " 8.150e-01   1005.454 101325.000   5.879461e+05\n",
      " 8.200e-01   1005.587 101325.000   5.879461e+05\n",
      " 8.250e-01   1005.724 101325.000   5.879461e+05\n",
      " 8.300e-01   1005.865 101325.000   5.879461e+05\n",
      " 8.350e-01   1006.011 101325.000   5.879461e+05\n",
      " 8.400e-01   1006.162 101325.000   5.879462e+05\n",
      " 8.450e-01   1006.317 101325.000   5.879462e+05\n",
      " 8.500e-01   1006.478 101325.000   5.879462e+05\n",
      " 8.550e-01   1006.644 101325.000   5.879462e+05\n",
      " 8.600e-01   1006.816 101325.000   5.879462e+05\n",
      " 8.650e-01   1006.994 101325.000   5.879462e+05\n",
      " 8.700e-01   1007.179 101325.000   5.879462e+05\n",
      " 8.750e-01   1007.370 101325.000   5.879462e+05\n",
      " 8.800e-01   1007.568 101325.000   5.879462e+05\n",
      " 8.850e-01   1007.774 101325.000   5.879462e+05\n",
      " 8.900e-01   1007.987 101325.000   5.879461e+05\n",
      " 8.950e-01   1008.209 101325.000   5.879461e+05\n",
      " 9.000e-01   1008.440 101325.000   5.879461e+05\n",
      " 9.050e-01   1008.680 101325.000   5.879461e+05\n",
      " 9.100e-01   1008.931 101325.000   5.879461e+05\n",
      " 9.150e-01   1009.192 101325.000   5.879461e+05\n",
      " 9.200e-01   1009.464 101325.000   5.879462e+05\n",
      " 9.250e-01   1009.749 101325.000   5.879462e+05\n",
      " 9.300e-01   1010.047 101325.000   5.879463e+05\n",
      " 9.350e-01   1010.359 101325.000   5.879463e+05\n",
      " 9.400e-01   1010.686 101325.000   5.879463e+05\n",
      " 9.450e-01   1011.029 101325.000   5.879463e+05\n",
      " 9.500e-01   1011.390 101325.000   5.879463e+05\n",
      " 9.550e-01   1011.770 101325.000   5.879463e+05\n",
      " 9.600e-01   1012.171 101325.000   5.879463e+05\n",
      " 9.650e-01   1012.594 101325.000   5.879463e+05\n",
      " 9.700e-01   1013.043 101325.000   5.879463e+05\n",
      " 9.750e-01   1013.518 101325.000   5.879463e+05\n",
      " 9.800e-01   1014.023 101325.000   5.879463e+05\n",
      " 9.850e-01   1014.561 101325.000   5.879463e+05\n",
      " 9.900e-01   1015.136 101325.000   5.879463e+05\n",
      " 9.950e-01   1015.752 101325.000   5.879463e+05\n",
      " 1.000e+00   1016.414 101325.000   5.879463e+05\n",
      " 1.005e+00   1017.128 101325.000   5.879463e+05\n",
      " 1.010e+00   1017.901 101325.000   5.879463e+05\n",
      " 1.015e+00   1018.741 101325.000   5.879463e+05\n",
      " 1.020e+00   1019.659 101325.000   5.879463e+05\n",
      " 1.025e+00   1020.667 101325.000   5.879463e+05\n",
      " 1.030e+00   1021.782 101325.000   5.879464e+05\n",
      " 1.035e+00   1023.024 101325.000   5.879463e+05\n",
      " 1.040e+00   1024.418 101325.000   5.879464e+05\n",
      " 1.045e+00   1026.000 101325.000   5.879464e+05\n",
      " 1.050e+00   1027.817 101325.000   5.879464e+05\n",
      " 1.055e+00   1029.934 101325.000   5.879464e+05\n",
      " 1.060e+00   1032.447 101325.000   5.879464e+05\n",
      " 1.065e+00   1035.501 101325.000   5.879464e+05\n",
      " 1.070e+00   1039.327 101325.000   5.879464e+05\n",
      " 1.075e+00   1044.332 101325.000   5.879464e+05\n",
      " 1.080e+00   1051.304 101325.000   5.879464e+05\n",
      " 1.085e+00   1062.047 101325.000   5.879465e+05\n",
      " 1.090e+00   1082.088 101325.000   5.879465e+05\n",
      " 1.095e+00   1146.065 101325.000   5.879464e+05\n",
      " 1.100e+00   2549.421 101325.000   5.879466e+05\n",
      " 1.105e+00   2545.390 101325.000   5.879466e+05\n",
      " 1.110e+00   2543.192 101325.000   5.879466e+05\n",
      " 1.115e+00   2542.105 101325.000   5.879466e+05\n",
      " 1.120e+00   2541.590 101325.000   5.879466e+05\n",
      " 1.125e+00   2541.351 101325.000   5.879466e+05\n",
      " 1.130e+00   2541.240 101325.000   5.879466e+05\n",
      " 1.135e+00   2541.189 101325.000   5.879466e+05\n",
      " 1.140e+00   2541.166 101325.000   5.879466e+05\n",
      " 1.145e+00   2541.156 101325.000   5.879466e+05\n",
      " 1.150e+00   2541.151 101325.000   5.879466e+05\n",
      " 1.155e+00   2541.148 101325.000   5.879466e+05\n",
      " 1.160e+00   2541.147 101325.000   5.879466e+05\n",
      " 1.165e+00   2541.147 101325.000   5.879466e+05\n",
      " 1.170e+00   2541.147 101325.000   5.879466e+05\n",
      " 1.175e+00   2541.147 101325.000   5.879466e+05\n",
      " 1.180e+00   2541.147 101325.000   5.879466e+05\n",
      " 1.185e+00   2541.147 101325.000   5.879466e+05\n",
      " 1.190e+00   2541.147 101325.000   5.879466e+05\n",
      " 1.195e+00   2541.146 101325.000   5.879466e+05\n",
      " 1.200e+00   2541.146 101325.000   5.879466e+05\n",
      " 1.205e+00   2541.146 101325.000   5.879466e+05\n",
      " 1.210e+00   2541.146 101325.000   5.879466e+05\n",
      " 1.215e+00   2541.146 101325.000   5.879466e+05\n",
      " 1.220e+00   2541.146 101325.000   5.879466e+05\n",
      " 1.225e+00   2541.146 101325.000   5.879466e+05\n",
      " 1.230e+00   2541.146 101325.000   5.879466e+05\n",
      " 1.235e+00   2541.146 101325.000   5.879466e+05\n",
      " 1.240e+00   2541.146 101325.000   5.879466e+05\n",
      " 1.245e+00   2541.146 101325.000   5.879466e+05\n",
      " 1.250e+00   2541.146 101325.000   5.879466e+05\n",
      " 1.255e+00   2541.146 101325.000   5.879466e+05\n",
      " 1.260e+00   2541.146 101325.000   5.879466e+05\n",
      " 1.265e+00   2541.146 101325.000   5.879466e+05\n",
      " 1.270e+00   2541.146 101325.000   5.879466e+05\n",
      " 1.275e+00   2541.146 101325.000   5.879466e+05\n",
      " 1.280e+00   2541.146 101325.000   5.879466e+05\n",
      " 1.285e+00   2541.146 101325.000   5.879466e+05\n",
      " 1.290e+00   2541.146 101325.000   5.879466e+05\n",
      " 1.295e+00   2541.146 101325.000   5.879466e+05\n",
      " 1.300e+00   2541.146 101325.000   5.879466e+05\n",
      " 1.305e+00   2541.146 101325.000   5.879466e+05\n",
      " 1.310e+00   2541.146 101325.000   5.879466e+05\n",
      " 1.315e+00   2541.146 101325.000   5.879466e+05\n",
      " 1.320e+00   2541.146 101325.000   5.879466e+05\n",
      " 1.325e+00   2541.146 101325.000   5.879466e+05\n",
      " 1.330e+00   2541.146 101325.000   5.879466e+05\n",
      " 1.335e+00   2541.146 101325.000   5.879466e+05\n",
      " 1.340e+00   2541.146 101325.000   5.879466e+05\n",
      " 1.345e+00   2541.146 101325.000   5.879466e+05\n",
      " 1.350e+00   2541.146 101325.000   5.879466e+05\n",
      " 1.355e+00   2541.146 101325.000   5.879466e+05\n",
      " 1.360e+00   2541.146 101325.000   5.879466e+05\n",
      " 1.365e+00   2541.146 101325.000   5.879466e+05\n",
      " 1.370e+00   2541.146 101325.000   5.879466e+05\n",
      " 1.375e+00   2541.146 101325.000   5.879466e+05\n",
      " 1.380e+00   2541.146 101325.000   5.879466e+05\n",
      " 1.385e+00   2541.146 101325.000   5.879466e+05\n",
      " 1.390e+00   2541.146 101325.000   5.879466e+05\n",
      " 1.395e+00   2541.146 101325.000   5.879466e+05\n",
      " 1.400e+00   2541.146 101325.000   5.879466e+05\n"
     ]
    }
   ],
   "source": [
    "# Arrays to hold the datas\n",
    "times = np.zeros(200)\n",
    "data = np.zeros((200, 4))\n",
    "\n",
    "# Advance the simulation in time\n",
    "print(('%10s %10s %10s %14s' % ('t [s]', 'T [K]', 'P [Pa]', 'h [J/kg]')))\n",
    "for n in range(200):\n",
    "    time += 5.e-3\n",
    "    sim.advance(time)\n",
    "    times[n] = time  # time in s\n",
    "    data[n, 0] = r.T\n",
    "    data[n, 1:] = r.thermo['O2', 'CO2', 'CH4'].X\n",
    "    print(('%10.3e %10.3f %10.3f %14.6e' % (sim.time, r.T,\n",
    "                                            r.thermo.P, r.thermo.h)))"
   ]
  },
  {
   "cell_type": "code",
   "execution_count": 9,
   "metadata": {},
   "outputs": [
    {
     "data": {
      "image/png": "[encoded data removed]",
      "text/plain": [
       "<Figure size 1400x1000 with 4 Axes>"
      ]
     },
     "metadata": {},
     "output_type": "display_data"
    }
   ],
   "source": [
    "rcParams['figure.figsize'] = (14, 10)\n",
    "\n",
    "plt.clf()\n",
    "\n",
    "plt.subplot(2, 2, 1)\n",
    "plt.plot(times, data[:, 0])\n",
    "plt.xlabel('Time (ms)')\n",
    "plt.ylabel('Temperature (K)')\n",
    "\n",
    "plt.subplot(2, 2, 2)\n",
    "plt.plot(times, data[:, 1])\n",
    "plt.xlabel('Time (ms)')\n",
    "plt.ylabel('O2 Mole Fraction')\n",
    "\n",
    "plt.subplot(2, 2, 3)\n",
    "plt.plot(times, data[:, 2])\n",
    "plt.xlabel('Time (ms)')\n",
    "plt.ylabel('CO2 Mole Fraction')\n",
    "\n",
    "plt.subplot(2, 2, 4)\n",
    "plt.plot(times, data[:, 3])\n",
    "plt.xlabel('Time (ms)')\n",
    "plt.ylabel('CH4 Mole Fraction')\n",
    "\n",
    "plt.show()"
   ]
  },
  {
   "cell_type": "markdown",
   "metadata": {},
   "source": [
    "<div class=\"alert alert-danger \"> Try to modify the script by creating an <b> IdealGasConstPressureReactor </b> instead of setting the environment into a reservoir to maintain the pressure.</div>"
   ]
  },
  {
   "cell_type": "markdown",
   "metadata": {},
   "source": [
    "### Reset gas state and set the new IdealGasConstPressureReactor"
   ]
  },
  {
   "cell_type": "code",
   "execution_count": 10,
   "metadata": {},
   "outputs": [],
   "source": [
    "# Mechanisms used for the process\n",
    "gri3 = ct.Solution('gri30.xml')\n",
    "\n",
    "# Gas state\n",
    "gri3.TPX = 1000.0, ct.one_atm, 'CH4:0.5,O2:1,N2:3.76'\n",
    "\n",
    "r = ct.IdealGasConstPressureReactor(gri3)\n",
    "\n",
    "# Prepare the simulation with a ReactorNet object\n",
    "sim = ct.ReactorNet([r])\n",
    "time = 4.e-1"
   ]
  },
  {
   "cell_type": "markdown",
   "metadata": {},
   "source": [
    "### Simulate the new case"
   ]
  },
  {
   "cell_type": "code",
   "execution_count": 11,
   "metadata": {},
   "outputs": [
    {
     "name": "stdout",
     "output_type": "stream",
     "text": [
      "     t [s]      T [K]     P [Pa]       h [J/kg]\n",
      " 4.050e-01   1000.862 101325.000   5.879464e+05\n",
      " 4.100e-01   1000.883 101325.000   5.879464e+05\n",
      " 4.150e-01   1000.905 101325.000   5.879464e+05\n",
      " 4.200e-01   1000.927 101325.000   5.879464e+05\n",
      " 4.250e-01   1000.950 101325.000   5.879464e+05\n",
      " 4.300e-01   1000.973 101325.000   5.879464e+05\n",
      " 4.350e-01   1000.996 101325.000   5.879464e+05\n",
      " 4.400e-01   1001.020 101325.000   5.879464e+05\n",
      " 4.450e-01   1001.044 101325.000   5.879464e+05\n",
      " 4.500e-01   1001.069 101325.000   5.879464e+05\n",
      " 4.550e-01   1001.094 101325.000   5.879464e+05\n",
      " 4.600e-01   1001.120 101325.000   5.879464e+05\n",
      " 4.650e-01   1001.146 101325.000   5.879464e+05\n",
      " 4.700e-01   1001.173 101325.000   5.879464e+05\n",
      " 4.750e-01   1001.201 101325.000   5.879464e+05\n",
      " 4.800e-01   1001.228 101325.000   5.879464e+05\n",
      " 4.850e-01   1001.257 101325.000   5.879464e+05\n",
      " 4.900e-01   1001.286 101325.000   5.879464e+05\n",
      " 4.950e-01   1001.315 101325.000   5.879464e+05\n",
      " 5.000e-01   1001.345 101325.000   5.879464e+05\n",
      " 5.050e-01   1001.376 101325.000   5.879464e+05\n",
      " 5.100e-01   1001.407 101325.000   5.879464e+05\n",
      " 5.150e-01   1001.439 101325.000   5.879464e+05\n",
      " 5.200e-01   1001.471 101325.000   5.879464e+05\n",
      " 5.250e-01   1001.504 101325.000   5.879464e+05\n",
      " 5.300e-01   1001.538 101325.000   5.879464e+05\n",
      " 5.350e-01   1001.573 101325.000   5.879464e+05\n",
      " 5.400e-01   1001.608 101325.000   5.879464e+05\n",
      " 5.450e-01   1001.644 101325.000   5.879464e+05\n",
      " 5.500e-01   1001.680 101325.000   5.879464e+05\n",
      " 5.550e-01   1001.718 101325.000   5.879464e+05\n",
      " 5.600e-01   1001.756 101325.000   5.879464e+05\n",
      " 5.650e-01   1001.795 101325.000   5.879464e+05\n",
      " 5.700e-01   1001.834 101325.000   5.879464e+05\n",
      " 5.750e-01   1001.875 101325.000   5.879464e+05\n",
      " 5.800e-01   1001.916 101325.000   5.879464e+05\n",
      " 5.850e-01   1001.958 101325.000   5.879464e+05\n",
      " 5.900e-01   1002.001 101325.000   5.879464e+05\n",
      " 5.950e-01   1002.045 101325.000   5.879464e+05\n",
      " 6.000e-01   1002.090 101325.000   5.879464e+05\n",
      " 6.050e-01   1002.136 101325.000   5.879464e+05\n",
      " 6.100e-01   1002.183 101325.000   5.879464e+05\n",
      " 6.150e-01   1002.231 101325.000   5.879464e+05\n",
      " 6.200e-01   1002.280 101325.000   5.879464e+05\n",
      " 6.250e-01   1002.330 101325.000   5.879464e+05\n",
      " 6.300e-01   1002.381 101325.000   5.879464e+05\n",
      " 6.350e-01   1002.433 101325.000   5.879464e+05\n",
      " 6.400e-01   1002.486 101325.000   5.879464e+05\n",
      " 6.450e-01   1002.541 101325.000   5.879464e+05\n",
      " 6.500e-01   1002.596 101325.000   5.879464e+05\n",
      " 6.550e-01   1002.653 101325.000   5.879464e+05\n",
      " 6.600e-01   1002.712 101325.000   5.879464e+05\n",
      " 6.650e-01   1002.771 101325.000   5.879464e+05\n",
      " 6.700e-01   1002.832 101325.000   5.879464e+05\n",
      " 6.750e-01   1002.895 101325.000   5.879464e+05\n",
      " 6.800e-01   1002.959 101325.000   5.879464e+05\n",
      " 6.850e-01   1003.024 101325.000   5.879464e+05\n",
      " 6.900e-01   1003.091 101325.000   5.879464e+05\n",
      " 6.950e-01   1003.159 101325.000   5.879464e+05\n",
      " 7.000e-01   1003.229 101325.000   5.879464e+05\n",
      " 7.050e-01   1003.301 101325.000   5.879464e+05\n",
      " 7.100e-01   1003.375 101325.000   5.879464e+05\n",
      " 7.150e-01   1003.450 101325.000   5.879464e+05\n",
      " 7.200e-01   1003.527 101325.000   5.879464e+05\n",
      " 7.250e-01   1003.606 101325.000   5.879464e+05\n",
      " 7.300e-01   1003.687 101325.000   5.879464e+05\n",
      " 7.350e-01   1003.771 101325.000   5.879464e+05\n",
      " 7.400e-01   1003.856 101325.000   5.879464e+05\n",
      " 7.450e-01   1003.944 101325.000   5.879464e+05\n",
      " 7.500e-01   1004.033 101325.000   5.879464e+05\n",
      " 7.550e-01   1004.126 101325.000   5.879464e+05\n",
      " 7.600e-01   1004.220 101325.000   5.879464e+05\n",
      " 7.650e-01   1004.317 101325.000   5.879464e+05\n",
      " 7.700e-01   1004.417 101325.000   5.879464e+05\n",
      " 7.750e-01   1004.520 101325.000   5.879464e+05\n",
      " 7.800e-01   1004.625 101325.000   5.879464e+05\n",
      " 7.850e-01   1004.734 101325.000   5.879464e+05\n",
      " 7.900e-01   1004.845 101325.000   5.879464e+05\n",
      " 7.950e-01   1004.960 101325.000   5.879464e+05\n",
      " 8.000e-01   1005.078 101325.000   5.879464e+05\n",
      " 8.050e-01   1005.200 101325.000   5.879464e+05\n",
      " 8.100e-01   1005.325 101325.000   5.879464e+05\n",
      " 8.150e-01   1005.454 101325.000   5.879464e+05\n",
      " 8.200e-01   1005.587 101325.000   5.879464e+05\n",
      " 8.250e-01   1005.724 101325.000   5.879464e+05\n",
      " 8.300e-01   1005.865 101325.000   5.879464e+05\n",
      " 8.350e-01   1006.011 101325.000   5.879464e+05\n",
      " 8.400e-01   1006.162 101325.000   5.879464e+05\n",
      " 8.450e-01   1006.317 101325.000   5.879464e+05\n",
      " 8.500e-01   1006.478 101325.000   5.879464e+05\n",
      " 8.550e-01   1006.645 101325.000   5.879464e+05\n",
      " 8.600e-01   1006.817 101325.000   5.879464e+05\n",
      " 8.650e-01   1006.995 101325.000   5.879464e+05\n",
      " 8.700e-01   1007.179 101325.000   5.879464e+05\n",
      " 8.750e-01   1007.370 101325.000   5.879464e+05\n",
      " 8.800e-01   1007.568 101325.000   5.879464e+05\n",
      " 8.850e-01   1007.774 101325.000   5.879464e+05\n",
      " 8.900e-01   1007.988 101325.000   5.879464e+05\n",
      " 8.950e-01   1008.210 101325.000   5.879464e+05\n",
      " 9.000e-01   1008.440 101325.000   5.879464e+05\n",
      " 9.050e-01   1008.681 101325.000   5.879464e+05\n",
      " 9.100e-01   1008.931 101325.000   5.879464e+05\n",
      " 9.150e-01   1009.192 101325.000   5.879464e+05\n",
      " 9.200e-01   1009.465 101325.000   5.879464e+05\n",
      " 9.250e-01   1009.749 101325.000   5.879464e+05\n",
      " 9.300e-01   1010.047 101325.000   5.879464e+05\n",
      " 9.350e-01   1010.359 101325.000   5.879464e+05\n",
      " 9.400e-01   1010.686 101325.000   5.879464e+05\n",
      " 9.450e-01   1011.029 101325.000   5.879464e+05\n",
      " 9.500e-01   1011.390 101325.000   5.879464e+05\n",
      " 9.550e-01   1011.770 101325.000   5.879464e+05\n",
      " 9.600e-01   1012.171 101325.000   5.879464e+05\n",
      " 9.650e-01   1012.595 101325.000   5.879464e+05\n",
      " 9.700e-01   1013.043 101325.000   5.879464e+05\n",
      " 9.750e-01   1013.518 101325.000   5.879464e+05\n",
      " 9.800e-01   1014.024 101325.000   5.879464e+05\n",
      " 9.850e-01   1014.562 101325.000   5.879464e+05\n",
      " 9.900e-01   1015.137 101325.000   5.879464e+05\n",
      " 9.950e-01   1015.753 101325.000   5.879464e+05\n",
      " 1.000e+00   1016.415 101325.000   5.879464e+05\n",
      " 1.005e+00   1017.129 101325.000   5.879464e+05\n",
      " 1.010e+00   1017.901 101325.000   5.879464e+05\n",
      " 1.015e+00   1018.741 101325.000   5.879464e+05\n",
      " 1.020e+00   1019.659 101325.000   5.879464e+05\n",
      " 1.025e+00   1020.668 101325.000   5.879464e+05\n",
      " 1.030e+00   1021.783 101325.000   5.879464e+05\n",
      " 1.035e+00   1023.024 101325.000   5.879464e+05\n",
      " 1.040e+00   1024.419 101325.000   5.879464e+05\n",
      " 1.045e+00   1026.001 101325.000   5.879464e+05\n",
      " 1.050e+00   1027.818 101325.000   5.879464e+05\n",
      " 1.055e+00   1029.936 101325.000   5.879464e+05\n",
      " 1.060e+00   1032.449 101325.000   5.879464e+05\n",
      " 1.065e+00   1035.502 101325.000   5.879464e+05\n",
      " 1.070e+00   1039.329 101325.000   5.879464e+05\n",
      " 1.075e+00   1044.335 101325.000   5.879464e+05\n",
      " 1.080e+00   1051.308 101325.000   5.879464e+05\n",
      " 1.085e+00   1062.054 101325.000   5.879464e+05\n",
      " 1.090e+00   1082.104 101325.000   5.879464e+05\n",
      " 1.095e+00   1146.143 101325.000   5.879464e+05\n",
      " 1.100e+00   2549.418 101325.000   5.879464e+05\n",
      " 1.105e+00   2545.389 101325.000   5.879464e+05\n",
      " 1.110e+00   2543.191 101325.000   5.879464e+05\n",
      " 1.115e+00   2542.105 101325.000   5.879464e+05\n",
      " 1.120e+00   2541.590 101325.000   5.879464e+05\n",
      " 1.125e+00   2541.351 101325.000   5.879464e+05\n",
      " 1.130e+00   2541.240 101325.000   5.879464e+05\n",
      " 1.135e+00   2541.189 101325.000   5.879464e+05\n",
      " 1.140e+00   2541.166 101325.000   5.879464e+05\n",
      " 1.145e+00   2541.155 101325.000   5.879464e+05\n",
      " 1.150e+00   2541.151 101325.000   5.879464e+05\n",
      " 1.155e+00   2541.148 101325.000   5.879464e+05\n",
      " 1.160e+00   2541.147 101325.000   5.879464e+05\n",
      " 1.165e+00   2541.147 101325.000   5.879464e+05\n",
      " 1.170e+00   2541.147 101325.000   5.879464e+05\n",
      " 1.175e+00   2541.147 101325.000   5.879464e+05\n",
      " 1.180e+00   2541.146 101325.000   5.879464e+05\n",
      " 1.185e+00   2541.146 101325.000   5.879464e+05\n",
      " 1.190e+00   2541.146 101325.000   5.879464e+05\n",
      " 1.195e+00   2541.146 101325.000   5.879464e+05\n",
      " 1.200e+00   2541.146 101325.000   5.879464e+05\n",
      " 1.205e+00   2541.146 101325.000   5.879464e+05\n",
      " 1.210e+00   2541.146 101325.000   5.879464e+05\n",
      " 1.215e+00   2541.146 101325.000   5.879464e+05\n",
      " 1.220e+00   2541.146 101325.000   5.879464e+05\n",
      " 1.225e+00   2541.146 101325.000   5.879464e+05\n",
      " 1.230e+00   2541.146 101325.000   5.879464e+05\n",
      " 1.235e+00   2541.146 101325.000   5.879464e+05\n",
      " 1.240e+00   2541.146 101325.000   5.879464e+05\n",
      " 1.245e+00   2541.146 101325.000   5.879464e+05\n",
      " 1.250e+00   2541.146 101325.000   5.879464e+05\n",
      " 1.255e+00   2541.146 101325.000   5.879464e+05\n",
      " 1.260e+00   2541.146 101325.000   5.879464e+05\n",
      " 1.265e+00   2541.146 101325.000   5.879464e+05\n",
      " 1.270e+00   2541.146 101325.000   5.879464e+05\n",
      " 1.275e+00   2541.146 101325.000   5.879464e+05\n",
      " 1.280e+00   2541.146 101325.000   5.879464e+05\n",
      " 1.285e+00   2541.146 101325.000   5.879464e+05\n",
      " 1.290e+00   2541.146 101325.000   5.879464e+05\n",
      " 1.295e+00   2541.146 101325.000   5.879464e+05\n",
      " 1.300e+00   2541.146 101325.000   5.879464e+05\n",
      " 1.305e+00   2541.146 101325.000   5.879464e+05\n",
      " 1.310e+00   2541.146 101325.000   5.879464e+05\n",
      " 1.315e+00   2541.146 101325.000   5.879464e+05\n",
      " 1.320e+00   2541.146 101325.000   5.879464e+05\n",
      " 1.325e+00   2541.146 101325.000   5.879464e+05\n",
      " 1.330e+00   2541.146 101325.000   5.879464e+05\n",
      " 1.335e+00   2541.146 101325.000   5.879464e+05\n",
      " 1.340e+00   2541.146 101325.000   5.879464e+05\n",
      " 1.345e+00   2541.146 101325.000   5.879464e+05\n",
      " 1.350e+00   2541.146 101325.000   5.879464e+05\n",
      " 1.355e+00   2541.146 101325.000   5.879464e+05\n",
      " 1.360e+00   2541.146 101325.000   5.879464e+05\n",
      " 1.365e+00   2541.146 101325.000   5.879464e+05\n",
      " 1.370e+00   2541.146 101325.000   5.879464e+05\n",
      " 1.375e+00   2541.146 101325.000   5.879464e+05\n",
      " 1.380e+00   2541.146 101325.000   5.879464e+05\n",
      " 1.385e+00   2541.146 101325.000   5.879464e+05\n",
      " 1.390e+00   2541.146 101325.000   5.879464e+05\n",
      " 1.395e+00   2541.146 101325.000   5.879464e+05\n",
      " 1.400e+00   2541.146 101325.000   5.879464e+05\n"
     ]
    }
   ],
   "source": [
    "# Arrays to hold the datas\n",
    "times = np.zeros(200)\n",
    "data = np.zeros((200, 4))\n",
    "\n",
    "# Advance the simulation in time\n",
    "print(('%10s %10s %10s %14s' % ('t [s]', 'T [K]', 'P [Pa]', 'h [J/kg]')))\n",
    "for n in range(200):\n",
    "    time += 5.e-3\n",
    "    sim.advance(time)\n",
    "    times[n] = time  # time in s\n",
    "    data[n, 0] = r.T\n",
    "    data[n, 1:] = r.thermo['O2', 'CO2', 'CH4'].X\n",
    "    print(('%10.3e %10.3f %10.3f %14.6e' % (sim.time, r.T,\n",
    "                                            r.thermo.P, r.thermo.h)))"
   ]
  },
  {
   "cell_type": "markdown",
   "metadata": {},
   "source": [
    "### Plot the results and compare with the previous one"
   ]
  },
  {
   "cell_type": "code",
   "execution_count": 12,
   "metadata": {},
   "outputs": [
    {
     "data": {
      "image/png": "[encoded data removed]",
      "text/plain": [
       "<Figure size 1400x1000 with 4 Axes>"
      ]
     },
     "metadata": {},
     "output_type": "display_data"
    }
   ],
   "source": [
    "rcParams['figure.figsize'] = (14, 10)\n",
    "\n",
    "plt.clf()\n",
    "\n",
    "plt.subplot(2, 2, 1)\n",
    "plt.plot(times, data[:, 0])\n",
    "plt.xlabel('Time (ms)')\n",
    "plt.ylabel('Temperature (K)')\n",
    "\n",
    "plt.subplot(2, 2, 2)\n",
    "plt.plot(times, data[:, 1])\n",
    "plt.xlabel('Time (ms)')\n",
    "plt.ylabel('O2 Mole Fraction')\n",
    "\n",
    "plt.subplot(2, 2, 3)\n",
    "plt.plot(times, data[:, 2])\n",
    "plt.xlabel('Time (ms)')\n",
    "plt.ylabel('CO2 Mole Fraction')\n",
    "\n",
    "plt.subplot(2, 2, 4)\n",
    "plt.plot(times, data[:, 3])\n",
    "plt.xlabel('Time (ms)')\n",
    "plt.ylabel('CH4 Mole Fraction')\n",
    "\n",
    "plt.show()"
   ]
  },
  {
   "cell_type": "markdown",
   "metadata": {},
   "source": [
    "## 4. An example of application : mixing two streams"
   ]
  },
  {
   "cell_type": "markdown",
   "metadata": {},
   "source": [
    "Up until now, we have seen how to generate simple closed vessels. However, it is sometimes interesting\n",
    "to mix different streams, or to feed the exhaust of a reservoir with constant parameters to a reacting\n",
    "reactor. In this exercise, we will design a script that simulates the stoichiometric constant volume\n",
    "mixing of a stream of air with a stream of pure gaseous methane."
   ]
  },
  {
   "cell_type": "markdown",
   "metadata": {},
   "source": [
    "![title](Images/Scheme.png)"
   ]
  },
  {
   "cell_type": "markdown",
   "metadata": {},
   "source": [
    "### Set the two gases and the molar mass associated"
   ]
  },
  {
   "cell_type": "markdown",
   "metadata": {},
   "source": [
    "<div class=\"alert alert-danger \"><b> You will have to :<br>\n",
    "- set a first gas a with an air mixture at 0.21 of O2, 0.01 of AR and 0.78 of N2<br>\n",
    "- set a second gas b with a gri30 mixture at 1 of CH4\n",
    "<b></div>"
   ]
  },
  {
   "cell_type": "code",
   "execution_count": 13,
   "metadata": {},
   "outputs": [],
   "source": [
    "gas_a = ct.Solution('air.xml')\n",
    "gas_a.TPX = 300, ct.one_atm, 'O2:0.21, N2:0.78, AR:0.01'\n",
    "mw_a = gas_a.mean_molecular_weight/1000 #kg/mol\n",
    "\n",
    "gas_b = ct.Solution('gri30.xml')\n",
    "gas_b.TPX = 300.0, ct.one_atm, 'CH4:1'\n",
    "mw_b = gas_b.mean_molecular_weight/1000 #kg/mol"
   ]
  },
  {
   "cell_type": "markdown",
   "metadata": {},
   "source": [
    "### Creation of two reservoirs and an exhaust one (ReactorBase)"
   ]
  },
  {
   "cell_type": "markdown",
   "metadata": {},
   "source": [
    "<div class=\"alert alert-danger \"><b> You will have to :<br>\n",
    "- set a first reservoir from gas a<br>\n",
    "- set a second reservoir from gas b<br>\n",
    "- set a downstream reservoir filled with gas b\n",
    "<b></div>"
   ]
  },
  {
   "cell_type": "code",
   "execution_count": 14,
   "metadata": {},
   "outputs": [],
   "source": [
    "res_a = ct.Reservoir(gas_a)\n",
    "res_b = ct.Reservoir(gas_b)\n",
    "downstream = ct.Reservoir(gas_b)"
   ]
  },
  {
   "cell_type": "markdown",
   "metadata": {},
   "source": [
    "### Generate the reactor that will receive the mixed stream (ReactorBase)"
   ]
  },
  {
   "cell_type": "markdown",
   "metadata": {},
   "source": [
    "<div class=\"alert alert-danger \"><b> You will have to :<br>\n",
    "- change the condition of the gas b to respect an air mix.<br>\n",
    "- create and IdealGasReactor with the energy equation set to 'on'.\n",
    "<b></div>"
   ]
  },
  {
   "cell_type": "code",
   "execution_count": 15,
   "metadata": {},
   "outputs": [],
   "source": [
    "gas_b.TPX = 300, ct.one_atm, 'O2:1., N2:3.78, CH4:0.5'\n",
    "mixer = ct.IdealGasReactor(gas_b, energy='on')"
   ]
  },
  {
   "cell_type": "markdown",
   "metadata": {},
   "source": [
    "Watch out here, the mixture should be the one of gas_b, as the reactions will occur with the mechanism from gri30 (and not from the air)."
   ]
  },
  {
   "cell_type": "markdown",
   "metadata": {},
   "source": [
    "### Creation of the mass flow controller that will control the mixing (FlowDevice)"
   ]
  },
  {
   "cell_type": "markdown",
   "metadata": {},
   "source": [
    "Now that you have specified all the elements of the reactor, you need to detail the link between them. This is what is done in the following lines :"
   ]
  },
  {
   "cell_type": "code",
   "execution_count": 16,
   "metadata": {},
   "outputs": [],
   "source": [
    "mfca = ct.MassFlowController(res_a, mixer, mdot=mw_a*2./0.21)\n",
    "mfcb = ct.MassFlowController(res_b, mixer, mdot=mw_b*1.0)"
   ]
  },
  {
   "cell_type": "markdown",
   "metadata": {},
   "source": [
    "### Creation of the valve between the mixer and the downstream (FlowDevice)"
   ]
  },
  {
   "cell_type": "markdown",
   "metadata": {},
   "source": [
    "Finally, the valve is created."
   ]
  },
  {
   "cell_type": "code",
   "execution_count": 17,
   "metadata": {},
   "outputs": [],
   "source": [
    "outlet = ct.Valve(mixer, downstream, K=10.0)"
   ]
  },
  {
   "cell_type": "markdown",
   "metadata": {},
   "source": [
    "This valve will enable the system to keep a constant pressure at the inlet of the mixer and at the outlet."
   ]
  },
  {
   "cell_type": "markdown",
   "metadata": {},
   "source": [
    "### Creation of the net reactor to compute simulation"
   ]
  },
  {
   "cell_type": "markdown",
   "metadata": {},
   "source": [
    "<div class=\"alert alert-danger \"><b> You need to create the ReactorNet with the mixer. <b></div>"
   ]
  },
  {
   "cell_type": "code",
   "execution_count": 18,
   "metadata": {},
   "outputs": [],
   "source": [
    "sim = ct.ReactorNet([mixer])"
   ]
  },
  {
   "cell_type": "code",
   "execution_count": 19,
   "metadata": {},
   "outputs": [
    {
     "name": "stdout",
     "output_type": "stream",
     "text": [
      "         t [s]          T [K]       h [J/kg]         P [Pa]          X_CH4\n"
     ]
    },
    {
     "ename": "AttributeError",
     "evalue": "'cantera._cantera.MassFlowController' object has no attribute 'mdot'",
     "output_type": "error",
     "traceback": [
      "\u001b[1;31m---------------------------------------------------------------------------\u001b[0m",
      "\u001b[1;31mAttributeError\u001b[0m                            Traceback (most recent call last)",
      "Cell \u001b[1;32mIn[19], line 6\u001b[0m\n\u001b[0;32m      4\u001b[0m t \u001b[38;5;241m=\u001b[39m \u001b[38;5;241m0.0\u001b[39m\n\u001b[0;32m      5\u001b[0m \u001b[38;5;28;01mfor\u001b[39;00m n \u001b[38;5;129;01min\u001b[39;00m \u001b[38;5;28mrange\u001b[39m(\u001b[38;5;241m100\u001b[39m):\n\u001b[1;32m----> 6\u001b[0m     tres \u001b[38;5;241m=\u001b[39m mixer\u001b[38;5;241m.\u001b[39mmass\u001b[38;5;241m/\u001b[39m(\u001b[43mmfca\u001b[49m\u001b[38;5;241;43m.\u001b[39;49m\u001b[43mmdot\u001b[49m(t) \u001b[38;5;241m+\u001b[39m mfcb\u001b[38;5;241m.\u001b[39mmdot(t))\n\u001b[0;32m      7\u001b[0m     t \u001b[38;5;241m+\u001b[39m\u001b[38;5;241m=\u001b[39m \u001b[38;5;241m2\u001b[39m\u001b[38;5;241m*\u001b[39mtres\n\u001b[0;32m      8\u001b[0m     sim\u001b[38;5;241m.\u001b[39madvance(t)\n",
      "\u001b[1;31mAttributeError\u001b[0m: 'cantera._cantera.MassFlowController' object has no attribute 'mdot'"
     ]
    }
   ],
   "source": [
    "# Since the mixer is a reactor, we need to integrate in time to reach steady\n",
    "# state. A few residence times should be enough.\n",
    "print('{0:>14s} {1:>14s} {2:>14s} {3:>14s} {4:>14s}'.format('t [s]', 'T [K]', 'h [J/kg]', 'P [Pa]', 'X_CH4'))\n",
    "t = 0.0\n",
    "for n in range(100):\n",
    "    tres = mixer.mass/(mfca.mdot(t) + mfcb.mdot(t))\n",
    "    t += 2*tres\n",
    "    sim.advance(t)\n",
    "    print('{0:14.5g} {1:14.5g} {2:14.5g} {3:14.5g} {4:14.5g}'.format(t, mixer.T, mixer.thermo.h, mixer.thermo.P, mixer.thermo['CH4'].X[0]))\n",
    "\n",
    "print(mixer.thermo.report())"
   ]
  },
  {
   "cell_type": "markdown",
   "metadata": {},
   "source": [
    "Notice that the gas did not ignite, and that the composition is indeed stoichiometric. We could trigger\n",
    "the ignition, by assuming that the reactor is 'already lit'. To do so, you need to initialize the content\n",
    "of the reactor with hot gases. The simplest way to do so is by filling it with stoichiometric mixture of\n",
    "air and methane at equilibrium. This is easily done by replacing the lines :<br>\n",
    "<code>\n",
    "gas_b.TPX = 300.0, ct.one_atm, 'O2:0.21, N2:0.78, AR:0.01'\n",
    "mixer = ct.IdealGasReactor(gas_b)\n",
    "</code><br>\n",
    "with :\n",
    "<br><code>\n",
    "gas_b.TPX = 300.0,ct.one_atm,'O2:1., N2:3.78, CH4:0.5'\n",
    "gas_b.equilibrate(\"HP\")\n",
    "mixer = ct.IdealGasReactor(gas_b)\n",
    "</code>"
   ]
  },
  {
   "cell_type": "markdown",
   "metadata": {},
   "source": [
    "## 5. Autoignition timing"
   ]
  },
  {
   "cell_type": "markdown",
   "metadata": {},
   "source": [
    "An interesting feature of 0D simulations is that it allows to compute the temporal evolution of a\n",
    "mixture under specific conditions towards its equilibrium state. That evolution can be viewed as\n",
    "a sort of **autoignition** of the mixture.<br>\n",
    "To go further, that last exercise will guide you through\n",
    "such a computation of the autoignition timing of a methane/air mixture. Several definitions of the\n",
    "autoignition timing can be found in the literature. The most commonly accepted definition relies\n",
    "on the temperature gradient : the time of the sharpest temperature increase is spotted as being the\n",
    "autoignition point. In order to catch this time with precision, the time step of the simulation should\n",
    "be as small as possible."
   ]
  },
  {
   "cell_type": "markdown",
   "metadata": {},
   "source": [
    "### Create the gas object"
   ]
  },
  {
   "cell_type": "code",
   "execution_count": null,
   "metadata": {},
   "outputs": [],
   "source": [
    "gas = ct.Solution('gri30.yaml')\n",
    "gas.TPX = 1250, ct.one_atm, 'CH4:0.5, O2:1, N2:3.76'"
   ]
  },
  {
   "cell_type": "markdown",
   "metadata": {},
   "source": [
    "### Initialisation of the different values"
   ]
  },
  {
   "cell_type": "code",
   "execution_count": null,
   "metadata": {},
   "outputs": [],
   "source": [
    "# Initial temperatures\n",
    "Temperature_range = list(range(800, 1700, 100))\n",
    "\n",
    "# Specify the number of time steps and the time step size\n",
    "nt = 100000\n",
    "dt = 1.e-4  # s\n",
    "\n",
    "# Storing auto ignitions\n",
    "auto_ignitions = []"
   ]
  },
  {
   "cell_type": "code",
   "execution_count": null,
   "metadata": {},
   "outputs": [],
   "source": [
    "for index, Temperature in enumerate(Temperature_range):\n",
    "    #################################################################\n",
    "    # Initial temperature, Pressure and stoichiometry\n",
    "    gas.TPX = Temperature, ct.one_atm, 'CH4:0.5, O2:1, N2:3.76'\n",
    "    # Create the batch reactor\n",
    "    r = ct.IdealGasReactor(gas)\n",
    "    # Now create a reactor network consisting of the single batch reactor\n",
    "    sim = ct.ReactorNet([r])\n",
    "    # Storage space\n",
    "    mfrac = []\n",
    "    # ...\n",
    "    time = []\n",
    "    temperature = []\n",
    "    HR = []\n",
    "    # Run the simulation\n",
    "    # Initial simulation time\n",
    "    current_time = 0.0\n",
    "    # Loop for nt time steps of dt seconds.\n",
    "    for n in range(nt):\n",
    "        current_time += dt\n",
    "        sim.advance(current_time)\n",
    "        time.append(current_time)\n",
    "        temperature.append(r.T)\n",
    "        mfrac.append(r.thermo.Y)\n",
    "        HR.append(- np.dot(gas.net_production_rates, gas.partial_molar_enthalpies))\n",
    "    #################################################################\n",
    "    # Catch the autoignition timing\n",
    "    #################################################################\n",
    "    # Get the ignition delay time by the maximum value of the Heat Release rate\n",
    "    auto_ignition = time[HR.index(max(HR))]\n",
    "    print('For T = ' + str(Temperature) + ', Autoignition time = ' + str(auto_ignition) + ' s')\n",
    "    # Posterity\n",
    "    FinalTemp = temperature[nt - 1]\n",
    "    auto_ignitions.append(auto_ignition)\n",
    "    # #################################################################\n",
    "    # # Save results\n",
    "    # #################################################################\n",
    "    # # write output CSV file for importing into Excel\n",
    "    # csv_file = '3-Output/Phi-1_P-1_T-' + str(Temperature) + '_UV.csv'\n",
    "    # with open(csv_file, 'w') as outfile:\n",
    "    # writer = csv.writer(outfile)\n",
    "    # writer.writerow(['Auto ignition time [s]', 'Final Temperature [K]'] + gas.species_names)\n",
    "    # writer.writerow([auto_ignition, FinalTemp] + list(mfrac[:]))\n",
    "    # print('output written to ' + csv_file)\n",
    "T_invert = [1000 / Temperature for Temperature in Temperature_range]"
   ]
  },
  {
   "cell_type": "code",
   "execution_count": null,
   "metadata": {},
   "outputs": [],
   "source": [
    "#################################################################\n",
    "# Plot results\n",
    "#################################################################\n",
    "# create plot\n",
    "plt.plot(Temperature_range, auto_ignitions, 'b-o')\n",
    "plt.xlabel(r'Temperature [K]', fontsize=20)\n",
    "plt.ylabel(\"Auto ignition [s]\", fontsize=20)\n",
    "plt.yscale('log')\n",
    "plt.title(r'Autoignition of $CH_{4}$ + Air mixture at $\\Phi$ = 1, and P = 1 bar',\n",
    "fontsize=22, horizontalalignment='center')\n",
    "plt.axis(fontsize=20)\n",
    "plt.grid()\n",
    "plt.show()"
   ]
  },
  {
   "cell_type": "markdown",
   "metadata": {},
   "source": [
    "This is a typical curve of the auto-ignition time as a function of the initial temperature, meaning that when the temperature increases, this time is reduced."
   ]
  },
  {
   "cell_type": "code",
   "execution_count": null,
   "metadata": {},
   "outputs": [],
   "source": []
  }
 ],
 "metadata": {
  "kernelspec": {
   "display_name": "Python 3 (ipykernel)",
   "language": "python",
   "name": "python3"
  },
  "language_info": {
   "codemirror_mode": {
    "name": "ipython",
    "version": 3
   },
   "file_extension": ".py",
   "mimetype": "text/x-python",
   "name": "python",
   "nbconvert_exporter": "python",
   "pygments_lexer": "ipython3",
   "version": "3.10.12"
  }
 },
 "nbformat": 4,
 "nbformat_minor": 4
}
