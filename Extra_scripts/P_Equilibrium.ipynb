{
 "cells": [
  {
   "cell_type": "code",
   "execution_count": 1,
   "metadata": {
    "tags": []
   },
   "outputs": [],
   "source": [
    "import cantera as ct\n",
    "import numpy as np\n",
    "import csv\n",
    "from matplotlib import *\n",
    "import matplotlib.pyplot as plt\n",
    "import sys"
   ]
  },
  {
   "cell_type": "code",
   "execution_count": 2,
   "metadata": {
    "tags": []
   },
   "outputs": [],
   "source": [
    "#gas = ct.Solution(thermo='IdealGas', kinetics='GasKinetics', species=spec, reactions=rxns, name='my_custom_name')\n",
    "gas = ct.Solution('BFER_methane.yaml', 'CH4_BFER_mix')       # create an object representing the gas phase\n",
    "gas.TPX = 298.15, 100000,{'CH4':1, 'O2':2, 'N2':7.52}      # set initial state"
   ]
  },
  {
   "cell_type": "code",
   "execution_count": 3,
   "metadata": {
    "tags": []
   },
   "outputs": [
    {
     "name": "stdout",
     "output_type": "stream",
     "text": [
      "\n",
      "  CH4_BFER_mix:\n",
      "\n",
      "       temperature   298.15 K\n",
      "          pressure   1e+05 Pa\n",
      "           density   1.1147 kg/m^3\n",
      "  mean mol. weight   27.633 kg/kmol\n",
      "   phase of matter   gas\n",
      "\n",
      "                          1 kg             1 kmol     \n",
      "                     ---------------   ---------------\n",
      "          enthalpy       -2.5658e+05       -7.0902e+06  J\n",
      "   internal energy       -3.4629e+05       -9.5691e+06  J\n",
      "           entropy              7245         2.002e+05  J/K\n",
      "    Gibbs function       -2.4167e+06       -6.6781e+07  J\n",
      " heat capacity c_p            1076.9             29759  J/K\n",
      " heat capacity c_v            776.02             21444  J/K\n",
      "\n",
      "                      mass frac. Y      mole frac. X     chem. pot. / RT\n",
      "                     ---------------   ---------------   ---------------\n",
      "                O2           0.22014           0.19011           -26.347\n",
      "               CH4          0.055187          0.095057           -54.875\n",
      "                N2           0.72467           0.71483           -23.382\n",
      "     [   +3 minor]                 0                 0  \n",
      "\n",
      "None\n",
      "-------------------------------------------------------\n",
      "Density (rho_0):\t 1.11e+00 kg/m³\n",
      "Kine Visc (nu_0):\t 1.61e-05 m²/s\n",
      "cp: \t\t\t1076.91 \n",
      "Therm Cond:(lambda)\t 2.71e-02 W/m/K\n",
      "\n",
      "\n",
      "Species: O2\n",
      "Mass Fraction: 2.20e-01\n",
      "Mix Diffusion Coefficient: 2.03e-05\n",
      "\n",
      "Species: H2O\n",
      "Mass Fraction: 0.00e+00\n",
      "Mix Diffusion Coefficient: 2.27e-05\n",
      "\n",
      "Species: CH4\n",
      "Mass Fraction: 5.52e-02\n",
      "Mix Diffusion Coefficient: 2.35e-05\n",
      "\n",
      "Species: CO\n",
      "Mass Fraction: 0.00e+00\n",
      "Mix Diffusion Coefficient: 2.09e-05\n",
      "\n",
      "Species: CO2\n",
      "Mass Fraction: 0.00e+00\n",
      "Mix Diffusion Coefficient: 1.59e-05\n",
      "\n",
      "Species: N2\n",
      "Mass Fraction: 7.25e-01\n",
      "Mix Diffusion Coefficient: 2.07e-05\n",
      "\n"
     ]
    }
   ],
   "source": [
    "density = gas.density\n",
    "viscosity = gas.viscosity\n",
    "thermal_conductivity = gas.thermal_conductivity\n",
    "kinematic_viscosity = viscosity / density  # m²/s\n",
    "cp = gas.cp\n",
    "\n",
    "species_names = gas.species_names\n",
    "#molar_masses = gas.molecular_weights  # kg/kmol\n",
    "diff_coeffs = gas.mix_diff_coeffs  # m²/s\n",
    "mass_fractions = gas.Y\n",
    "\n",
    "print(gas())    \n",
    "print(\"-------------------------------------------------------\")\n",
    "print(f\"Density (rho_0):\\t {density:.2e} kg/m³\")\n",
    "print(f\"Kine Visc (nu_0):\\t {kinematic_viscosity:.2e} m²/s\")\n",
    "print(f\"cp: \\t\\t\\t{cp:.2f} \")\n",
    "print(f\"Therm Cond:(lambda)\\t {thermal_conductivity:.2e} W/m/K\\n\\n\")\n",
    "\n",
    "for i, specie in enumerate(species_names):\n",
    "    print(f\"Species: {specie}\")\n",
    "    #print(f\"Molar Mass: {molar_masses[i]:.2e} kg/kmol\")\n",
    "    print(f\"Mass Fraction: {mass_fractions[i]:.2e}\")\n",
    "    print(f\"Mix Diffusion Coefficient: {diff_coeffs[i]:.2e}\")\n",
    "    print(\"\")"
   ]
  },
  {
   "cell_type": "code",
   "execution_count": null,
   "metadata": {
    "tags": []
   },
   "outputs": [],
   "source": [
    "# Plot kinematic viscosity and thermal conductivity as a function of temperature\n",
    "temperatures = np.linspace(300, 2000, 100)\n",
    "kinematic_viscosity_values = np.zeros_like(temperatures)\n",
    "thermal_conductivity_values = np.zeros_like(temperatures)\n",
    "\n",
    "for i, T in enumerate(temperatures):\n",
    "    gas.TP = T, 100000\n",
    "    kinematic_viscosity_values[i] = gas.viscosity / gas.density\n",
    "    thermal_conductivity_values[i] = gas.thermal_conductivity\n",
    "\n",
    "plt.figure()\n",
    "plt.plot(temperatures, kinematic_viscosity_values, label='Kinematic Viscosity')\n",
    "plt.plot(temperatures, thermal_conductivity_values, label='Thermal Conductivity')\n",
    "plt.xlabel('Temperature (K)')\n",
    "plt.ylabel('Value')\n",
    "plt.legend()\n",
    "plt.title('Kinematic Viscosity and Thermal Conductivity vs Temperature')\n",
    "plt.show()"
   ]
  },
  {
   "cell_type": "code",
   "execution_count": null,
   "metadata": {
    "tags": []
   },
   "outputs": [],
   "source": [
    "gas.equilibrate('HP')                 # equilibrate using Temperature (T) and Pressure (P)\n",
    "\n",
    "density = gas.density\n",
    "viscosity = gas.viscosity\n",
    "thermal_conductivity = gas.thermal_conductivity\n",
    "kinematic_viscosity = viscosity / density  # m²/s\n",
    "\n",
    "species_names = gas.species_names\n",
    "#molar_masses = gas.molecular_weights  # kg/kmol\n",
    "diff_coeffs = gas.mix_diff_coeffs  # m²/s\n",
    "mass_fractions = gas.Y\n",
    "\n",
    "print(gas())    \n",
    "print(f\"Density: {density:.2e} kg/m³\")\n",
    "print(f\"Kinematic Viscosity: {kinematic_viscosity:.2e} m²/s\")\n",
    "print(f\"Thermal Conductivity: {thermal_conductivity:.2e} W/m/K\\n\\n\")\n",
    "\n",
    "for i, specie in enumerate(species_names):\n",
    "    print(f\"Species: {specie}\")\n",
    "    #print(f\"Molar Mass: {molar_masses[i]:.2e} kg/kmol\")\n",
    "    print(f\"Mass Fraction: {mass_fractions[i]:.2e}\")\n",
    "    print(f\"Mix Diffusion Coefficient: {diff_coeffs[i]:.2e}\")\n",
    "    print(\"\")"
   ]
  },
  {
   "cell_type": "markdown",
   "metadata": {},
   "source": [
    "We will now perform **several constant pressure equilibrium calculations of an ethylene/air mixture, at\n",
    "an initial temperature of 300K and under atmospheric pressure**, in order to obtain the adiabatic flame temperature and burnt gas state for several equivalence ratios.<br>\n",
    "The goal of this exercise is to find a way to loop through several gaseous composition, in order to perform several computations in a single script; and to learn how to properly store the results in a *csv* file."
   ]
  },
  {
   "cell_type": "code",
   "execution_count": null,
   "metadata": {
    "tags": []
   },
   "outputs": [],
   "source": [
    "gas = ct.Solution('CK2CTI/mech.yaml')\n",
    "\n",
    "T = 300.0                     # Temperature\n",
    "P = 101325.0                  # Pressure\n",
    "\n",
    "phi_min = 0.3                 # Minimal equivalence ratio\n",
    "phi_max = 3.5                 # Maximal equivalence ratio\n",
    "npoints = 50                  # Point in-between the two preceeding values\n",
    "\n",
    "fuel_species = 'C2H4'         # fuel species\n",
    "air_N2_O2_molar_ratio = 3.76  # ratio representing the air"
   ]
  },
  {
   "cell_type": "markdown",
   "metadata": {},
   "source": [
    "### Loop of equilibrium"
   ]
  },
  {
   "cell_type": "code",
   "execution_count": null,
   "metadata": {
    "tags": []
   },
   "outputs": [],
   "source": [
    "phi = np.zeros(npoints)                  # 1D array\n",
    "tad = np.zeros(npoints)                  # 1D array\n",
    "\n",
    "xeq = np.zeros((gas.n_species, npoints)) # 2D array\n",
    "\n",
    "for i in range(npoints):\n",
    "\n",
    "    gas.TP = T, P\n",
    "    \n",
    "    phi[i] = phi_min + (phi_max - phi_min) * i / (npoints - 1)\n",
    "    gas.set_equivalence_ratio(phi[i], {fuel_species: 1}, {'O2': 1, 'N2': air_N2_O2_molar_ratio})\n",
    "\n",
    "    gas.equilibrate('HP') # Equilibrate the mixture adiabatically at constant P with the solver vcs\n",
    "    \n",
    "    xeq[:, i] = gas.X\n",
    "    tad[i] = gas.T\n",
    "    print(\"At phi = \",\"%10.4f\"% (phi[i])+ \"  Tad = \",\"%10.4f\"% (tad[i]))"
   ]
  },
  {
   "cell_type": "markdown",
   "metadata": {},
   "source": [
    "### Save files"
   ]
  },
  {
   "cell_type": "code",
   "execution_count": null,
   "metadata": {
    "tags": []
   },
   "outputs": [],
   "source": [
    "csv_file = 'result_2.csv'\n",
    "with open(csv_file, 'w') as outfile:\n",
    "    writer = csv.writer(outfile)\n",
    "    writer.writerow(['Phi', 'T (K)'] + gas.species_names)\n",
    "    for i in range(npoints):\n",
    "        writer.writerow([phi[i], tad[i]] + list(xeq[:, i]))\n",
    "print(\"Output written to\", \"%s\" % csv_file)"
   ]
  },
  {
   "cell_type": "markdown",
   "metadata": {},
   "source": [
    "### Plot the results"
   ]
  },
  {
   "cell_type": "code",
   "execution_count": null,
   "metadata": {
    "tags": []
   },
   "outputs": [],
   "source": [
    "rcParams['figure.figsize'] = (14, 10)\n",
    "\n",
    "plt.plot(phi, tad, '-')\n",
    "\n",
    "plt.title(r'Tad vs. $\\Phi$ for $C_{2}H_{4}/Air$ flames')\n",
    "plt.xlabel(r'$\\Phi$', fontsize=20)\n",
    "plt.ylabel(\"Adiabatic flame temperature (K)\")\n",
    "\n",
    "plt.grid()\n",
    "\n",
    "plt.show()\n",
    "plt.savefig('plot_tad.png', bbox_inches='tight')"
   ]
  },
  {
   "cell_type": "code",
   "execution_count": null,
   "metadata": {
    "scrolled": true,
    "tags": []
   },
   "outputs": [],
   "source": [
    "for i, cas in enumerate(gas.species_names):\n",
    "    if cas in ['O2','CO2','CO']:\n",
    "        plt.plot(phi,xeq[i,:], label = cas)\n",
    "        plt.xlabel('Equivalence ratio')\n",
    "        plt.ylabel('Mole fractions')\n",
    "        plt.legend(loc='best')\n",
    "        plt.show()"
   ]
  },
  {
   "cell_type": "markdown",
   "metadata": {},
   "source": [
    "## Conclusion"
   ]
  },
  {
   "cell_type": "markdown",
   "metadata": {},
   "source": [
    "We have just generated the skeleton of a script to perform a series of common equilibrium calculations\n",
    "to obtain the constant pressure equilibrium composition of a fuel/air mixture. Starting from there,\n",
    "you could modify your initial conditions, plot the mole/mass fractions of other species, change the\n",
    "solver or even try another fuel (methane, acetylene) without changing your mechanism.<br>\n",
    "Technically, adiabatic flame calculations could also be performed at constant volume: simply invoke\n",
    "the good equilibrate option of your equilibrate function, 'UV' (see 3.1.2), in your script."
   ]
  },
  {
   "cell_type": "code",
   "execution_count": null,
   "metadata": {},
   "outputs": [],
   "source": []
  },
  {
   "cell_type": "code",
   "execution_count": null,
   "metadata": {},
   "outputs": [],
   "source": []
  }
 ],
 "metadata": {
  "kernelspec": {
   "display_name": "Python 3 (ipykernel)",
   "language": "python",
   "name": "python3"
  },
  "language_info": {
   "codemirror_mode": {
    "name": "ipython",
    "version": 3
   },
   "file_extension": ".py",
   "mimetype": "text/x-python",
   "name": "python",
   "nbconvert_exporter": "python",
   "pygments_lexer": "ipython3",
   "version": "3.10.12"
  }
 },
 "nbformat": 4,
 "nbformat_minor": 4
}
