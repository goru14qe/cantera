{
 "cells": [
  {
   "cell_type": "markdown",
   "metadata": {},
   "source": [
    "# I - An example to start with ..."
   ]
  },
  {
   "cell_type": "markdown",
   "metadata": {},
   "source": [
    "<div align=\"justify\"> This first tutorial's main objective is to help you get started with the Python interface of Cantera. The goal here is <b> to get acquainted with the notion of objects and functions </b> that we will encounter\n",
    "in all Python scripts. <br>\n",
    "We will start by defining a simple gaseous object directly in a script, before\n",
    "introducing the Python terminal and its possibilities. Next, we will see how to access and modify the\n",
    "    state of this newly instantiated <b> gas </b> object through adequate functions; before concluding with a\n",
    "general discussion on the specificities of gaseous objects. <br>\n",
    "    The second objective of this first tutorial is to introduce the <b> data file format </b> of Cantera, which\n",
    "will be the subject of the second tutorial.</div>"
   ]
  },
  {
   "cell_type": "markdown",
   "metadata": {},
   "source": [
    "## 1. Importation of cantera"
   ]
  },
  {
   "cell_type": "code",
   "execution_count": 1,
   "metadata": {
    "tags": []
   },
   "outputs": [],
   "source": [
    "import cantera as ct\n",
    "from cantera import ck2cti"
   ]
  },
  {
   "cell_type": "markdown",
   "metadata": {},
   "source": [
    "## 2. Create solution from cti file"
   ]
  },
  {
   "cell_type": "markdown",
   "metadata": {},
   "source": [
    "<div align=\"justify\"> This will create an instance of the class <i> Solution </i> from cantera package.\n",
    "<br>\n",
    "The file <code>gri30.xml</code> contains all the important informations about the chemistry, meaning :</div>\n",
    "\n",
    "- the <b> properties </b> of the different species\n",
    "- the <b> reactions </b>\n",
    "- the <b> kinetics </b> used\n",
    "- the <b> type of transport </b> used\n"
   ]
  },
  {
   "cell_type": "code",
   "execution_count": 2,
   "metadata": {
    "collapsed": true,
    "jupyter": {
     "outputs_hidden": true
    },
    "tags": []
   },
   "outputs": [],
   "source": [
    "gas = ct.Solution(\"gri30.yaml\")"
   ]
  },
  {
   "cell_type": "markdown",
   "metadata": {},
   "source": [
    "<div align=\"justify\">\n",
    "NB : This could have also been written : <code>gas = ct.Solution(\"gri30.cti\")</code>.\n",
    "<br>\n",
    "Indeed, cti and xml are only two different format and can be read the same way by cantera.\n",
    "The only difference is that cti file are more human readable than xml files. If you want to put your cti into xml format, you can do the <b> ctml_writer </b> command as follows in the console : <br>\n",
    "<code> ctml_writer blabla.cti </code>\n",
    "\n",
    "You will see some more information about the structure and the data present in this file at the end of this tutorial.\n",
    "</div>"
   ]
  },
  {
   "cell_type": "markdown",
   "metadata": {},
   "source": [
    "## 3. Choose and print the thermodynamic state of the gas"
   ]
  },
  {
   "cell_type": "markdown",
   "metadata": {},
   "source": [
    "<div align=\"justify\">\n",
    "To define the mixture of the gas correctly, it is necessary to define <b> two thermodynamic parameters </b> and the quantities of the different species (<b> molar fraction X </b> or <b> mass fraction Y </b>).   \n",
    "These commands gives all the interesting informations for the gas state, namely the temperature, the pressure and the density of the mixture. \n",
    "    \n",
    "It also gives information about the species in the mixture as mass fractions Y or molar fractions X.\n",
    "</div>"
   ]
  },
  {
   "cell_type": "markdown",
   "metadata": {},
   "source": [
    "NB : If you are lost, you can still use the function **help** to see what are the functions available for a gaseous object."
   ]
  },
  {
   "cell_type": "code",
   "execution_count": 3,
   "metadata": {
    "collapsed": true,
    "jupyter": {
     "outputs_hidden": true
    },
    "tags": []
   },
   "outputs": [],
   "source": [
    "gas.TP = 500, 101325"
   ]
  },
  {
   "cell_type": "markdown",
   "metadata": {},
   "source": [
    "You can use several functions to define the state of your gas, that is to say :\n",
    "- gas.**TP** (Temperature Pressure)\n",
    "- gas.**TD** (Temperature Density)\n",
    "- gas.**HP** (Enthalpy Pressure)\n",
    "- gas.**UV** (Specific Internal Energy, Specific Volume)\n",
    "- gas.**SP** (Entropy Pressure)\n",
    "- gas.**SV** (Entropy Specific Volume)."
   ]
  },
  {
   "cell_type": "markdown",
   "metadata": {
    "tags": []
   },
   "source": [
    "### Wrong method"
   ]
  },
  {
   "cell_type": "markdown",
   "metadata": {},
   "source": [
    "Here, we chose to define the molar fraction of the gas directly by the following :"
   ]
  },
  {
   "cell_type": "code",
   "execution_count": 5,
   "metadata": {
    "collapsed": true,
    "jupyter": {
     "outputs_hidden": true
    },
    "tags": []
   },
   "outputs": [],
   "source": [
    "gas.X = {'CH4':1, 'O2':2, 'N2':7.52}"
   ]
  },
  {
   "cell_type": "code",
   "execution_count": 6,
   "metadata": {
    "collapsed": true,
    "jupyter": {
     "outputs_hidden": true
    },
    "tags": []
   },
   "outputs": [
    {
     "name": "stdout",
     "output_type": "stream",
     "text": [
      "\n",
      "  gas:\n",
      "\n",
      "       temperature   500 K\n",
      "          pressure   7392.2 Pa\n",
      "           density   0.049136 kg/m^3\n",
      "  mean mol. weight   27.633 kg/kmol\n",
      "   phase of matter   gas\n",
      "\n",
      "                          1 kg             1 kmol     \n",
      "                     ---------------   ---------------\n",
      "          enthalpy            -33317       -9.2066e+05  J\n",
      "   internal energy       -1.8376e+05       -5.0779e+06  J\n",
      "           entropy            8599.2        2.3763e+05  J/K\n",
      "    Gibbs function       -4.3329e+06       -1.1973e+08  J\n",
      " heat capacity c_p            1140.4             31514  J/K\n",
      " heat capacity c_v            839.53             23199  J/K\n",
      "\n",
      "                      mass frac. Y      mole frac. X     chem. pot. / RT\n",
      "                     ---------------   ---------------   ---------------\n",
      "                O2           0.22014           0.19011           -29.358\n",
      "               CH4          0.055187          0.095057           -45.856\n",
      "                N2           0.72467           0.71483           -26.385\n",
      "     [  +50 minor]                 0                 0  \n",
      "\n",
      "None\n"
     ]
    }
   ],
   "source": [
    "print(gas())"
   ]
  },
  {
   "cell_type": "markdown",
   "metadata": {},
   "source": [
    "What do you notice here ? Look at the pressure : it is not the same than what has been define above. You should never defined pressure and temperature and call the command \"gas.Y\" afterwards. Below are explained correct methods to set the case correctly."
   ]
  },
  {
   "cell_type": "markdown",
   "metadata": {},
   "source": [
    "### First method"
   ]
  },
  {
   "cell_type": "code",
   "execution_count": 7,
   "metadata": {
    "collapsed": true,
    "jupyter": {
     "outputs_hidden": true
    },
    "tags": []
   },
   "outputs": [],
   "source": [
    "gas.TPX = 500, 101325, {'CH4':1, 'O2':2, 'N2':7.52}"
   ]
  },
  {
   "cell_type": "code",
   "execution_count": 8,
   "metadata": {
    "collapsed": true,
    "jupyter": {
     "outputs_hidden": true
    },
    "tags": []
   },
   "outputs": [
    {
     "name": "stdout",
     "output_type": "stream",
     "text": [
      "\n",
      "  gas:\n",
      "\n",
      "       temperature   500 K\n",
      "          pressure   1.0132e+05 Pa\n",
      "           density   0.67352 kg/m^3\n",
      "  mean mol. weight   27.633 kg/kmol\n",
      "   phase of matter   gas\n",
      "\n",
      "                          1 kg             1 kmol     \n",
      "                     ---------------   ---------------\n",
      "          enthalpy            -33317       -9.2066e+05  J\n",
      "   internal energy       -1.8376e+05       -5.0779e+06  J\n",
      "           entropy            7811.5        2.1586e+05  J/K\n",
      "    Gibbs function       -3.9391e+06       -1.0885e+08  J\n",
      " heat capacity c_p            1140.4             31514  J/K\n",
      " heat capacity c_v            839.53             23199  J/K\n",
      "\n",
      "                      mass frac. Y      mole frac. X     chem. pot. / RT\n",
      "                     ---------------   ---------------   ---------------\n",
      "                O2           0.22014           0.19011            -26.74\n",
      "               CH4          0.055187          0.095057           -43.238\n",
      "                N2           0.72467           0.71483           -23.767\n",
      "     [  +50 minor]                 0                 0  \n",
      "\n",
      "None\n"
     ]
    }
   ],
   "source": [
    "print(gas())"
   ]
  },
  {
   "cell_type": "markdown",
   "metadata": {},
   "source": [
    "### Second method"
   ]
  },
  {
   "cell_type": "markdown",
   "metadata": {},
   "source": [
    "Here, we will set an equivalence ratio equal to unity with a mix of fuel (CH4) and oxidizer (air), which is doing the same as above."
   ]
  },
  {
   "cell_type": "code",
   "execution_count": 9,
   "metadata": {
    "collapsed": true,
    "jupyter": {
     "outputs_hidden": true
    },
    "tags": []
   },
   "outputs": [],
   "source": [
    "gas.TP = 500, 101325"
   ]
  },
  {
   "cell_type": "code",
   "execution_count": 10,
   "metadata": {
    "tags": []
   },
   "outputs": [],
   "source": [
    "gas.set_equivalence_ratio(1, 'CH4: 1', 'O2:1.0, N2:3.76')"
   ]
  },
  {
   "cell_type": "code",
   "execution_count": 11,
   "metadata": {
    "tags": []
   },
   "outputs": [
    {
     "name": "stdout",
     "output_type": "stream",
     "text": [
      "\n",
      "  gas:\n",
      "\n",
      "       temperature   500 K\n",
      "          pressure   1.0132e+05 Pa\n",
      "           density   0.67352 kg/m^3\n",
      "  mean mol. weight   27.633 kg/kmol\n",
      "   phase of matter   gas\n",
      "\n",
      "                          1 kg             1 kmol     \n",
      "                     ---------------   ---------------\n",
      "          enthalpy            -33317       -9.2066e+05  J\n",
      "   internal energy       -1.8376e+05       -5.0779e+06  J\n",
      "           entropy            7811.5        2.1586e+05  J/K\n",
      "    Gibbs function       -3.9391e+06       -1.0885e+08  J\n",
      " heat capacity c_p            1140.4             31514  J/K\n",
      " heat capacity c_v            839.53             23199  J/K\n",
      "\n",
      "                      mass frac. Y      mole frac. X     chem. pot. / RT\n",
      "                     ---------------   ---------------   ---------------\n",
      "                O2           0.22014           0.19011            -26.74\n",
      "               CH4          0.055187          0.095057           -43.238\n",
      "                N2           0.72467           0.71483           -23.767\n",
      "     [  +50 minor]                 0                 0  \n",
      "\n",
      "None\n"
     ]
    }
   ],
   "source": [
    "print(gas())"
   ]
  },
  {
   "cell_type": "markdown",
   "metadata": {
    "tags": []
   },
   "source": [
    "### Additional informations"
   ]
  },
  {
   "cell_type": "code",
   "execution_count": 12,
   "metadata": {
    "collapsed": true,
    "jupyter": {
     "outputs_hidden": true
    },
    "tags": []
   },
   "outputs": [
    {
     "name": "stdout",
     "output_type": "stream",
     "text": [
      "['H2', 'H', 'O', 'O2', 'OH', 'H2O', 'HO2', 'H2O2', 'C', 'CH', 'CH2', 'CH2(S)', 'CH3', 'CH4', 'CO', 'CO2', 'HCO', 'CH2O', 'CH2OH', 'CH3O', 'CH3OH', 'C2H', 'C2H2', 'C2H3', 'C2H4', 'C2H5', 'C2H6', 'HCCO', 'CH2CO', 'HCCOH', 'N', 'NH', 'NH2', 'NH3', 'NNH', 'NO', 'NO2', 'N2O', 'HNO', 'CN', 'HCN', 'H2CN', 'HCNN', 'HCNO', 'HOCN', 'HNCO', 'NCO', 'N2', 'AR', 'C3H7', 'C3H8', 'CH2CHO', 'CH3CHO']\n"
     ]
    }
   ],
   "source": [
    "print(gas.species_names)"
   ]
  },
  {
   "cell_type": "code",
   "execution_count": 13,
   "metadata": {
    "collapsed": true,
    "jupyter": {
     "outputs_hidden": true
    },
    "tags": []
   },
   "outputs": [
    {
     "name": "stdout",
     "output_type": "stream",
     "text": [
      "15\n"
     ]
    }
   ],
   "source": [
    "print(gas.species_index('CO2'))"
   ]
  },
  {
   "cell_type": "markdown",
   "metadata": {},
   "source": [
    "Other informations concerning functions associated to the thermodynamic properties of the gas object can be found on the help function or on the following link :\n",
    "<br>\n",
    "https://cantera.org/documentation/docs-2.4/sphinx/html/cython/thermo.html"
   ]
  },
  {
   "cell_type": "markdown",
   "metadata": {},
   "source": [
    "## 4. Kinetic state of the gas"
   ]
  },
  {
   "cell_type": "markdown",
   "metadata": {},
   "source": [
    "As well as for the thermodynamic state of the gas, the kinetic state can be found at the following link :\n",
    "<br>\n",
    "https://cantera.org/documentation/docs-2.4/sphinx/html/cython/kinetics.html"
   ]
  },
  {
   "cell_type": "code",
   "execution_count": 14,
   "metadata": {
    "collapsed": true,
    "jupyter": {
     "outputs_hidden": true
    },
    "tags": []
   },
   "outputs": [
    {
     "name": "stdout",
     "output_type": "stream",
     "text": [
      "[ 0.00000000e+00  3.47828405e-33  9.56903041e-36 -1.90362726e-19\n",
      "  0.00000000e+00  0.00000000e+00  1.90362726e-19  0.00000000e+00\n",
      "  0.00000000e+00  0.00000000e+00  0.00000000e+00  0.00000000e+00\n",
      "  1.90362726e-19 -1.90362726e-19  0.00000000e+00  0.00000000e+00\n",
      "  0.00000000e+00  0.00000000e+00  0.00000000e+00  0.00000000e+00\n",
      "  0.00000000e+00  0.00000000e+00  0.00000000e+00  0.00000000e+00\n",
      "  0.00000000e+00  0.00000000e+00  0.00000000e+00  0.00000000e+00\n",
      "  0.00000000e+00  0.00000000e+00  0.00000000e+00  0.00000000e+00\n",
      "  0.00000000e+00  0.00000000e+00  9.36554007e-42  0.00000000e+00\n",
      "  0.00000000e+00  9.56903021e-36  0.00000000e+00  0.00000000e+00\n",
      "  0.00000000e+00  0.00000000e+00  0.00000000e+00  0.00000000e+00\n",
      "  0.00000000e+00  0.00000000e+00  0.00000000e+00 -9.56903958e-36\n",
      "  0.00000000e+00  0.00000000e+00  0.00000000e+00  0.00000000e+00\n",
      "  0.00000000e+00]\n"
     ]
    }
   ],
   "source": [
    "print(gas.net_production_rates)"
   ]
  },
  {
   "cell_type": "markdown",
   "metadata": {},
   "source": [
    "Here, this is nearly zero as no reaction has occured in the mix."
   ]
  },
  {
   "cell_type": "markdown",
   "metadata": {},
   "source": [
    "## 5. Transport properties"
   ]
  },
  {
   "cell_type": "markdown",
   "metadata": {},
   "source": [
    "For the transport, the functions can be found here :\n",
    "<br>\n",
    "https://cantera.org/documentation/docs-2.4/sphinx/html/cython/transport.html"
   ]
  },
  {
   "cell_type": "code",
   "execution_count": 15,
   "metadata": {
    "collapsed": true,
    "jupyter": {
     "outputs_hidden": true
    },
    "tags": []
   },
   "outputs": [
    {
     "name": "stdout",
     "output_type": "stream",
     "text": [
      "[[3.42124097e-04 5.16151994e-04 2.56083688e-04 ... 1.17126509e-04\n",
      "  1.41677813e-04 1.41605277e-04]\n",
      " [5.16151994e-04 7.60053454e-04 4.32837049e-04 ... 1.75260115e-04\n",
      "  2.14515413e-04 2.14459249e-04]\n",
      " [2.56083688e-04 4.32837049e-04 1.20461181e-04 ... 4.54816494e-05\n",
      "  5.49614597e-05 5.47908102e-05]\n",
      " ...\n",
      " [1.17126509e-04 1.75260115e-04 4.54816494e-05 ... 1.65717206e-05\n",
      "  1.85877331e-05 1.84798072e-05]\n",
      " [1.41677813e-04 2.14515413e-04 5.49614597e-05 ... 1.85877331e-05\n",
      "  2.10837922e-05 2.09628379e-05]\n",
      " [1.41605277e-04 2.14459249e-04 5.47908102e-05 ... 1.84798072e-05\n",
      "  2.09628379e-05 2.08411817e-05]]\n"
     ]
    }
   ],
   "source": [
    "print(gas.binary_diff_coeffs)"
   ]
  },
  {
   "cell_type": "markdown",
   "metadata": {},
   "source": [
    "The code throws an error, which is pretty normal as nothing chemical was computed for the moment. The gas object created is indeed just a mix of different species, nothing has reacted (explaining the kinetics net production rates nearly close to zero and the transport properties not implemented)."
   ]
  },
  {
   "cell_type": "markdown",
   "metadata": {},
   "source": [
    "Here, with the version we used at CERFACS, four types of transport are available. The four differs in the following way :\n",
    "- **multi** is the most complicated and detailed version, it uses each diffusion coefficient $D_{kj}$ to represent the interaction between each species (k being a species and j another one).\n",
    "- **mix** is the most used version in Cantera as it allows the user to approximate results without losing too much precision. The approximation made is that every species has one interaction with the whole mix following the rule :\n",
    "$D_{km} = \\frac{1-Y_k}{\\sum_{j\\ne k}^{K} \\frac{X_j}{Djk}}$.\n",
    "- **AVBP** which is the transport used to compare results with AVBP solver used at cerfacs (this transport is not included in the normal version). This supposes a constant Schmidt number ( $Sc = \\frac{\\rho}{\\mu D_{km}}$, $\\rho$ being the density and $\\mu$ the viscosity ) for all the species and $D_{km}$ is guessed from this relation.\n",
    "- **UnityLewis** which has been implemented in the official release 2.4 of Cantera but integrated in CERFACS version 2.3.\n",
    "\n",
    "https://cantera.org/science/phases.html"
   ]
  },
  {
   "cell_type": "markdown",
   "metadata": {},
   "source": [
    "This types of transport are used in the cti file, as you will see in a minute."
   ]
  },
  {
   "cell_type": "markdown",
   "metadata": {},
   "source": [
    "## Conclusion"
   ]
  },
  {
   "cell_type": "markdown",
   "metadata": {},
   "source": [
    "The purpose of this part was to explain :\n",
    "- how one can set up the thermodynamic state of a gas for a computation\n",
    "- how one will be able to print interesting data from the gaseous object\n",
    "<br>\n",
    "In the next part, we will focus on the object used to created the cantera gas object : the cti file."
   ]
  },
  {
   "cell_type": "markdown",
   "metadata": {},
   "source": [
    "Things to retain from the first tutorial :\n",
    "- you should always import Cantera at the beginning of your file.\n",
    "- the solution is imported from a cti file or an xml file.\n",
    "- you should set the thermodynamic state and the amount of species of your gas before starting any computation."
   ]
  },
  {
   "cell_type": "markdown",
   "metadata": {},
   "source": [
    "## Appendix : The cti and xml files"
   ]
  },
  {
   "cell_type": "markdown",
   "metadata": {},
   "source": [
    "### a. Creation of the data file from CHEMKIN files"
   ]
  },
  {
   "cell_type": "markdown",
   "metadata": {},
   "source": [
    "The information required to compute the previous quantities were specified in the **.xml** file, also\n",
    "labeled **mechanism file** or **data file**. Cantera also supports a data file format that is easier to\n",
    "write than the '.xml' format, with the extension '.cti'.<br>\n",
    "For the following part, you can open a cti script in the *Mechanisms* folder (for instance the **gri30** mechanism) to have a visual idea of what is a cti file."
   ]
  },
  {
   "cell_type": "markdown",
   "metadata": {},
   "source": [
    "Cantera simulations will always involve one or more phases of matter. Depending on the calculation being performed, it may be necessary to evaluate **thermodynamic properties**, but also **transport properties**, and/or **homogeneous reaction rates** for the phase(s) present. In problems with multiple phases, the properties of the interfaces between phases, and the heterogeneous reaction rates at these interfaces, may also be required.<br><br>\n",
    "\n",
    "Before the properties can be evaluated, each phase must be defined, meaning that the models\n",
    "used to compute its properties and reaction rates must be specified, along with any parameters the\n",
    "models require. For example, a solid phase might be defined as being incompressible, with a specified\n",
    "density and composition. A gaseous phase for a combustion simulation might be defined as an ideal\n",
    "gas consisting of a mixture of many species that react with one another via a specified set of reactions.<br>\n",
    "If phases contain multiple species and reactions, as it is often the case in combustion application,\n",
    "a large amount of data is required to define it, since the contribution of each species to the thermodynamic and transport properties must be specified, and rate information must be given for each\n",
    "reaction. **Rather than defining this information via an application program, the Cantera approach\n",
    "is to put the phase and interface definitions in a text file that can be called from and read by an\n",
    "application program - or a script**.<br><br>\n",
    "\n",
    "In this tutorial, we will review what must be included in such 'data files', or 'mechanism files', and\n",
    "provide guidelines on how to write them to define phases and interfaces to use them in Cantera simulations.\n",
    "We will start by a review of some basic writing rules, followed by a discussion on how they are processed,\n",
    "and of how errors are handled. We will work with examples in the last sections."
   ]
  },
  {
   "cell_type": "markdown",
   "metadata": {},
   "source": [
    "To be able to translate the files from chemkin (mechanism file, thermo database and transport database) to cantera (data file), it is necessary to use the command <code>ck2cti</code>.<br>\n",
    "Normally, this command should be executed on a terminal. Here, the python script is used as an inbetween, therefore calling the subprocess module is needed. If you look into the folder now, the data file mechanism should be created."
   ]
  },
  {
   "cell_type": "code",
   "execution_count": 20,
   "metadata": {
    "scrolled": true,
    "tags": []
   },
   "outputs": [
    {
     "name": "stderr",
     "output_type": "stream",
     "text": [
      "INFO:root:Skipping unexpected species \"C(S)\" while reading thermodynamics entry.\n",
      "INFO:root:Skipping unexpected species \"n-C4H7\" while reading thermodynamics entry.\n",
      "INFO:root:Skipping unexpected species \"c-C6H3\" while reading thermodynamics entry.\n",
      "INFO:root:Skipping unexpected species \"A1C2HC2H2\" while reading thermodynamics entry.\n",
      "INFO:root:Skipping unexpected species \"A2HR5\" while reading thermodynamics entry.\n",
      "INFO:root:Skipping unexpected species \"A2R5\" while reading thermodynamics entry.\n",
      "INFO:root:Skipping unexpected species \"A4H\" while reading thermodynamics entry.\n"
     ]
    },
    {
     "name": "stdout",
     "output_type": "stream",
     "text": [
      "Wrote CTI mechanism file to 'CK2CTI/mech.cti'.\n",
      "Mechanism contains 99 species and 533 reactions.\n"
     ]
    },
    {
     "data": {
      "text/plain": [
       "[]"
      ]
     },
     "execution_count": 20,
     "metadata": {},
     "output_type": "execute_result"
    }
   ],
   "source": [
    "ck2cti.convertMech('CK2CTI/mech.inp', thermoFile='CK2CTI/therm.dat', transportFile='CK2CTI/tran.dat', outName=None, permissive=None)"
   ]
  },
  {
   "cell_type": "markdown",
   "metadata": {},
   "source": [
    "### b. The **.cti** file"
   ]
  },
  {
   "cell_type": "markdown",
   "metadata": {},
   "source": [
    "<p class=\"bg-primary\" style=\"padding:1em\">\n",
    "The typical shape of a **cti** file will be the following :\n",
    "</p>"
   ]
  },
  {
   "cell_type": "markdown",
   "metadata": {},
   "source": [
    "\n",
    "<code>\n",
    "UNITS DIRECTIVE\n",
    "</code>\n",
    "\n",
    "### Phase & Interface data\n",
    "\n",
    "<code>\n",
    "PHASE ENTRIES(name, elements, species, reactions, kinetics, transport, initial_state*, options)<br>\n",
    "INTERFACE ENTRIES(name, elements, species, reactions, phases, site_density, initial_state*)\n",
    "</code>\n",
    "\n",
    "### Species & Elements data\n",
    "\n",
    "<code>\n",
    "ELEMENT ENTRIES(symbol, atomic_mass)\n",
    "SPECIES ENTRIES(name, atoms, thermo ,transport, note, size, charge)\n",
    "</code>\n",
    "\n",
    "### Reaction data\n",
    "<code>\n",
    "REACTION ENTRIES(equation, rate_coeff, id, options)<br>\n",
    "THREE BODY REACTIONS ENTRIES(equation, rate_coeff, efficiencies, id, options)<br>\n",
    "FALLOFF REACTIONS ENTRIES(equation, rate_coeff_inf, rate_coeff_0, efficiencies, falloff, id, options)<br>\n",
    "OTHER TYPES OF ENTRIES ...\n",
    "</code>\n"
   ]
  },
  {
   "cell_type": "markdown",
   "metadata": {},
   "source": [
    "<p class=\"bg-primary\" style=\"padding:1em\">\n",
    "A data file consists of entries and directives, both of which have a syntax much like functions.\n",
    "</p>"
   ]
  },
  {
   "cell_type": "markdown",
   "metadata": {},
   "source": [
    "A **directive** will tell the code how the entry parameters are to be interpreted, such as what is the\n",
    "default unit system, or how certain errors should be handled. For example :"
   ]
  },
  {
   "cell_type": "markdown",
   "metadata": {},
   "source": [
    "<code> units(length = \"cm\", time = \"s\", quantity = \"mol\", act_energy = \"cal/mol\")\n",
    "</code>"
   ]
  },
  {
   "cell_type": "markdown",
   "metadata": {},
   "source": [
    "An **entry** defines an object, for example, a reaction or a species. Entries have fields, that can be assigned\n",
    "values. Take the definition of the argon species :"
   ]
  },
  {
   "cell_type": "markdown",
   "metadata": {},
   "source": [
    "<code>\n",
    "species(name = \"AR\",\n",
    "        atoms = \" Ar:1 \",\n",
    "        thermo = (\n",
    "        NASA( [ 300.00, 1000.00], [ 2.500000000E+00, 0.000000000E+00,\n",
    "                0.000000000E+00, 0.000000000E+00, 0.000000000E+00,\n",
    "                -7.453750000E+02, 4.366000000E+00] ),\n",
    "        NASA( [ 1000.00, 5000.00], [ 2.500000000E+00, 0.000000000E+00,\n",
    "                0.000000000E+00, 0.000000000E+00, 0.000000000E+00,\n",
    "                -7.453750000E+02, 4.366000000E+00] )\n",
    "                ),\n",
    "transport = gas_transport(\n",
    "                geom = \"atom\",\n",
    "                diam = 3.33,\n",
    "                well_depth = 136.50),\n",
    "    )\n",
    "</code>"
   ]
  },
  {
   "cell_type": "markdown",
   "metadata": {},
   "source": [
    "Its fields are its **name**, **atoms**, **thermodynamic** and **transport** properties.<br>\n",
    "The syntax is <code> < field name > = < value > </code>, and the fields can be specified on one line or extended across several to be read more easily, as it was the case in the previous example. Some fields are required, otherwise processing the file will abort and an error message will be printed.<br>\n",
    "As can be seen on this example, the transport field for instance is defined via another entry,\n",
    "**gas transport**, which in turn has several fields (*geom*, *diam*, *well depth*). These types of entries\n",
    "are embedded entries, whereas the leftmost column entries are labeled top-level entries. Embedded\n",
    "entries often specify a model or a large group of parameters."
   ]
  },
  {
   "cell_type": "markdown",
   "metadata": {},
   "source": [
    "A cti file can support three different types of reactions :\n",
    "- classic reactions **reaction()** (classic Arrhenius defined like equations)\n",
    "- three-body reactions **three_body_reaction()** (reactions involving another species which can be a probability of being one species or another)\n",
    "- falloff_reaction **fall_off_reaction()** (three-body reactions whose rates k are depending on the concentration of the three-body)\n",
    "\n",
    "If you want more documentation about the reactions in cantera, please follow the link below :<br>\n",
    "https://cantera.org/science/reactions.html"
   ]
  },
  {
   "cell_type": "markdown",
   "metadata": {},
   "source": [
    "NB : The following link will provide you other information about the species data if you are interested in knowing more about it :<br>\n",
    "https://cantera.org/science/science-species.html"
   ]
  },
  {
   "cell_type": "code",
   "execution_count": null,
   "metadata": {
    "collapsed": true,
    "jupyter": {
     "outputs_hidden": true
    },
    "tags": []
   },
   "outputs": [],
   "source": []
  },
  {
   "cell_type": "code",
   "execution_count": null,
   "metadata": {},
   "outputs": [],
   "source": []
  }
 ],
 "metadata": {
  "kernelspec": {
   "display_name": "Python 3 (ipykernel)",
   "language": "python",
   "name": "python3"
  },
  "language_info": {
   "codemirror_mode": {
    "name": "ipython",
    "version": 3
   },
   "file_extension": ".py",
   "mimetype": "text/x-python",
   "name": "python",
   "nbconvert_exporter": "python",
   "pygments_lexer": "ipython3",
   "version": "3.10.12"
  }
 },
 "nbformat": 4,
 "nbformat_minor": 4
}
