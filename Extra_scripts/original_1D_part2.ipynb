{
 "cells": [
  {
   "cell_type": "markdown",
   "metadata": {},
   "source": [
    "## 1. ADIABATIC FLAME - A freely-propagating, premixed flat flame "
   ]
  },
  {
   "cell_type": "code",
   "execution_count": 1,
   "metadata": {},
   "outputs": [],
   "source": [
    "import cantera as ct\n",
    "import numpy as np\n",
    "from matplotlib.pylab import *"
   ]
  },
  {
   "cell_type": "code",
   "execution_count": 2,
   "metadata": {},
   "outputs": [
    {
     "name": "stdout",
     "output_type": "stream",
     "text": [
      "\n",
      "  CH4_BFER_mix:\n",
      "\n",
      "       temperature   600 K\n",
      "          pressure   1e+05 Pa\n",
      "           density   0.55843 kg/m^3\n",
      "  mean mol. weight   27.858 kg/kmol\n",
      "   phase of matter   gas\n",
      "\n",
      "                          1 kg             1 kmol     \n",
      "                     ---------------   ---------------\n",
      "          enthalpy        1.2635e+05        3.5199e+06  J\n",
      "   internal energy            -52724       -1.4688e+06  J\n",
      "           entropy            7951.8        2.2152e+05  J/K\n",
      "    Gibbs function       -4.6447e+06       -1.2939e+08  J\n",
      " heat capacity c_p            1156.9             32229  J/K\n",
      " heat capacity c_v            858.43             23914  J/K\n",
      "\n",
      "                      mass frac. Y      mole frac. X     chem. pot. / RT\n",
      "                     ---------------   ---------------   ---------------\n",
      "                O2            0.2226            0.1938           -27.037\n",
      "               CH4          0.044642          0.077519           -40.885\n",
      "                N2           0.73276           0.72868           -24.055\n",
      "     [   +3 minor]                 0                 0  \n",
      "\n",
      "None\n",
      "-------------------------------------------------------\n",
      "Density (rho_0):\t 5.5843e-01 kg/m³\n",
      "Kine Visc (nu_0):\t 5.3359e-05 m²/s\n",
      "cp: \t\t\t1156.89 \n",
      "Therm Cond:(lambda)\t 4.8337e-02 W/m/K\n",
      "\n",
      "\n",
      "['O2', 'H2O', 'CH4', 'CO', 'CO2', 'N2']\n"
     ]
    }
   ],
   "source": [
    "gas = ct.Solution('BFER_methane.yaml', 'CH4_BFER_mix')                # Import gas phases with mixture transport model\n",
    "# General\n",
    "p = 1e5                                         # pressure\n",
    "tin = 600.0                                     # unburned gas temperature\n",
    "phi = 0.8                                       # equivalence ratio\n",
    "fuel = {'CH4': 1}                               # Methane composition\n",
    "oxidizer = {'O2': 1, 'N2': 3.76}                # Oxygen composition\n",
    "gas.TP = tin, p\n",
    "gas.set_equivalence_ratio(phi, fuel, oxidizer)\n",
    "\n",
    "# Get properties\n",
    "density = gas.density\n",
    "viscosity = gas.viscosity\n",
    "thermal_conductivity = gas.thermal_conductivity\n",
    "kinematic_viscosity = viscosity / density  # m²/s\n",
    "cp = gas.cp\n",
    "\n",
    "species_names = gas.species_names\n",
    "molar_masses = gas.molecular_weights/1000  # Molar masses in kg/mol\n",
    "diff_coeffs = gas.mix_diff_coeffs  # m²/s\n",
    "mass_fractions = gas.Y\n",
    "mol_frac = gas.X\n",
    "\n",
    "print(gas())\n",
    "print(\"-------------------------------------------------------\")\n",
    "print(f\"Density (rho_0):\\t {density:.4e} kg/m³\")\n",
    "print(f\"Kine Visc (nu_0):\\t {kinematic_viscosity:.4e} m²/s\")\n",
    "print(f\"cp: \\t\\t\\t{cp:.2f} \")\n",
    "print(f\"Therm Cond:(lambda)\\t {thermal_conductivity:.4e} W/m/K\\n\\n\")\n",
    "\n",
    "print(gas.species_names)"
   ]
  },
  {
   "cell_type": "code",
   "execution_count": 3,
   "metadata": {},
   "outputs": [
    {
     "name": "stdout",
     "output_type": "stream",
     "text": [
      "#name     Molar Mass\n",
      "O2     0.031998\n",
      "H2O    0.018015\n",
      "CH4    0.016043\n",
      "CO     0.028010\n",
      "CO2    0.044009\n",
      "N2     0.028014\n",
      "\n",
      "\n",
      "#    Initial mass fractions (FLOW)\n",
      "O2     0.222598    H2O    0.000000\n",
      "CH4    0.044642    CO     0.000000\n",
      "CO2    0.000000    N2     0.732760\n",
      "\n",
      "#    Initial diffusion coefficients (FLOW)\n",
      "O2     6.8083e-05    H2O    8.5784e-05\n",
      "CH4    7.8947e-05    CO     6.9644e-05\n",
      "CO2    5.5539e-05    N2     7.0552e-05\n"
     ]
    }
   ],
   "source": [
    "print(\"#name     Molar Mass\")\n",
    "for i in range(len(species_names)):\n",
    "    print(f\"{species_names[i]:<6} {molar_masses[i]:.6f}\")    \n",
    "    \n",
    "print(\"\\n\\n#    Initial mass fractions (FLOW)\")\n",
    "for i in range(len(species_names)):\n",
    "    print(f\"{species_names[i]:<6} {mass_fractions[i]:.6f}\", end=\"    \" if i % 2 == 0 else \"\\n\")\n",
    "\n",
    "print(\"\\n#    Initial diffusion coefficients (FLOW)\")\n",
    "for i in range(len(species_names)):\n",
    "    print(f\"{species_names[i]:<6} {diff_coeffs[i]:.4e}\", end=\"    \" if i % 2 == 0 else \"\\n\")"
   ]
  },
  {
   "cell_type": "code",
   "execution_count": 4,
   "metadata": {},
   "outputs": [],
   "source": [
    "f = ct.FreeFlame(gas, width=0.02)   # Create the free laminar premixed flame specifying the width of the grid\n",
    "f.inlet.X = gas.X                   # Inlet condition on mass fraction\n",
    "f.inlet.T = gas.T                   # Inlet condition on temperature"
   ]
  },
  {
   "cell_type": "markdown",
   "metadata": {},
   "source": [
    "### 1.2 Program starts here"
   ]
  },
  {
   "cell_type": "markdown",
   "metadata": {},
   "source": [
    "#### First flame"
   ]
  },
  {
   "cell_type": "code",
   "execution_count": 13,
   "metadata": {},
   "outputs": [
    {
     "name": "stdout",
     "output_type": "stream",
     "text": [
      "\n",
      "..............................................................................\n",
      "Attempt Newton solution of steady-state problem...    failure. \n",
      "Take 2 timesteps      2.25e-08      1.209\n",
      "Attempt Newton solution of steady-state problem...    failure. \n",
      "Take 5 timesteps     1.709e-07      1.112\n",
      "Attempt Newton solution of steady-state problem...    failure. \n",
      "Take 10 timesteps     1.232e-06     0.2527\n",
      "Attempt Newton solution of steady-state problem...    failure. \n",
      "Take 20 timesteps     0.0006826     -0.276\n",
      "Attempt Newton solution of steady-state problem...    success.\n",
      "\n",
      "Problem solved on [9] point grid(s).\n",
      "\n",
      "..............................................................................\n",
      "no new points needed in flame\n",
      "Solution saved to file ch4_adiabatic.csv as solution no energy.\n"
     ]
    }
   ],
   "source": [
    "f.energy_enabled = False                       # No energy for starters\n",
    "\n",
    "tol_ss = [1.0e-5, 1.0e-9]  # tolerance [rtol atol] for steady-state problem\n",
    "tol_ts = [1.0e-5, 1.0e-9]  # tolerance [rtol atol] for time stepping\n",
    "\n",
    "f.flame.set_steady_tolerances(default=tol_ss)\n",
    "f.flame.set_transient_tolerances(default=tol_ts)\n",
    "\n",
    "# Set calculation parameters\n",
    "#f.set_max_jac_age(50, 50)                           # Maximum number of times the Jacobian will be used before it \n",
    "                                                    # must be re-evaluated\n",
    "f.set_time_step(1.0e-8, [2, 5, 10, 20, 40,80,160])         # Set time steps (in seconds) whenever Newton convergence fails \n",
    "f.set_refine_criteria(ratio=10.0, slope=1, curve=1) # Refinement criteria\n",
    "\n",
    "# Calculation\n",
    "loglevel = 1                                        # amount of diagnostic output (0 to 5)\n",
    "refine_grid = 'disabled'                            # 'refine' or 'remesh' to enable refinement\n",
    "                                                    # 'disabled' to disable\n",
    "f.solve(loglevel, refine_grid)                                      # solve the flame on the grid\n",
    "f.save('ch4_adiabatic.csv', 'no energy','solution with no energy')  # save solution"
   ]
  },
  {
   "cell_type": "markdown",
   "metadata": {},
   "source": [
    "#### Second flame"
   ]
  },
  {
   "cell_type": "code",
   "execution_count": 14,
   "metadata": {},
   "outputs": [],
   "source": [
    "%%capture\n",
    "f.energy_enabled = True                                 # Energy equation enabled\n",
    "refine_grid = 'disabled'                                # 'refine' # Calculation and save of the results\n",
    "f.set_refine_criteria(ratio=3.0, slope=0.05, curve=0.05)  # Refinement criteria when energy equation is enabled\n",
    "\n",
    "f.solve(loglevel, refine_grid)\n",
    "f.save('ch4_adiabatic.csv', 'energy', 'solution with the energy equation enabled')"
   ]
  },
  {
   "cell_type": "code",
   "execution_count": 15,
   "metadata": {},
   "outputs": [
    {
     "name": "stdout",
     "output_type": "stream",
     "text": [
      "mixture-averaged flamespeed = 1.074695 m/s\n"
     ]
    }
   ],
   "source": [
    "print('mixture-averaged flamespeed = {0:7f} m/s'.format(f.velocity[0]))  # m/s"
   ]
  },
  {
   "cell_type": "markdown",
   "metadata": {},
   "source": [
    "#### Third flame and so on ..."
   ]
  },
  {
   "cell_type": "code",
   "execution_count": 16,
   "metadata": {},
   "outputs": [],
   "source": [
    "%%capture\n",
    "f.set_refine_criteria(ratio=2.0, slope=0.05, curve=0.05) # Refinement criteria should be changed ...\n",
    "\n",
    "f.solve(loglevel, refine_grid)                           \n",
    "f.save('ch4_adiabatic.csv', 'energy continuation','solution with the energy equation enabled continuation')"
   ]
  },
  {
   "cell_type": "code",
   "execution_count": 17,
   "metadata": {},
   "outputs": [
    {
     "name": "stdout",
     "output_type": "stream",
     "text": [
      "mixture-averaged flamespeed continuation = 1.074228 m/s\n",
      "mixture-averaged final T = 2222.634923 K\n"
     ]
    }
   ],
   "source": [
    "points = f.flame.n_points\n",
    "print('mixture-averaged flamespeed continuation = {0:7f} m/s'.format(f.velocity[0]))  # m/s\n",
    "print('mixture-averaged final T = {0:7f} K'.format(f.T[points - 1]))  # K"
   ]
  },
  {
   "cell_type": "markdown",
   "metadata": {},
   "source": [
    "#### Fourth flame and so on ..."
   ]
  },
  {
   "cell_type": "code",
   "execution_count": 18,
   "metadata": {},
   "outputs": [],
   "source": [
    "%%capture\n",
    "\n",
    "f.transport_model = 'Multi'      # Switch transport model\n",
    "\n",
    "f.solve(loglevel, refine_grid)\n",
    "\n",
    "f.save('ch4_adiabatic.csv', 'energy_multi',\n",
    "       'solution with the multicomponent transport and energy equation enabled')"
   ]
  },
  {
   "cell_type": "code",
   "execution_count": 19,
   "metadata": {},
   "outputs": [
    {
     "name": "stdout",
     "output_type": "stream",
     "text": [
      "multicomponent flamespeed = 1.097062 m/s\n",
      "multicomponent final T = 2223.332803 K\n"
     ]
    }
   ],
   "source": [
    "points = f.flame.n_points\n",
    "print('multicomponent flamespeed = {0:7f} m/s'.format(f.velocity[0]))  # m/s\n",
    "print('multicomponent final T = {0:7f} K'.format(f.T[points - 1]))  # K"
   ]
  },
  {
   "cell_type": "markdown",
   "metadata": {},
   "source": [
    "You may notice that there are small differences on the flamespeed and on the final temperature between the two transport models, as it was predictable."
   ]
  },
  {
   "cell_type": "markdown",
   "metadata": {},
   "source": [
    "### 1.3 Manipulate the results"
   ]
  },
  {
   "cell_type": "markdown",
   "metadata": {},
   "source": [
    "#### Save your results"
   ]
  },
  {
   "cell_type": "code",
   "execution_count": 20,
   "metadata": {},
   "outputs": [
    {
     "name": "stdout",
     "output_type": "stream",
     "text": [
      "Solution saved to 'ch4_adiabatic.csv'.\n"
     ]
    }
   ],
   "source": [
    "f.write_csv('ch4_adiabatic.csv', quiet=False)  # Write the velocity, temperature, density, and mole fractions \n",
    "                                               # to a CSV file"
   ]
  },
  {
   "cell_type": "markdown",
   "metadata": {},
   "source": [
    "#### Plot your results (temperature, density, velocity, ...)"
   ]
  },
  {
   "cell_type": "code",
   "execution_count": 21,
   "metadata": {},
   "outputs": [
    {
     "data": {
      "image/png": "[encoded data removed]",
      "text/plain": [
       "<Figure size 1400x1000 with 4 Axes>"
      ]
     },
     "metadata": {},
     "output_type": "display_data"
    }
   ],
   "source": [
    "rcParams['figure.figsize'] = (14, 10)\n",
    "\n",
    "# Get the different arrays\n",
    "z = f.flame.grid\n",
    "T = f.T\n",
    "u = f.velocity\n",
    "ifuel = gas.species_index('CH4')\n",
    "\n",
    "fig=figure(1)\n",
    "\n",
    "# create first subplot - adiabatic flame temperature\n",
    "a=fig.add_subplot(221)\n",
    "a.plot(z,T)\n",
    "title(r'$T_{adiabatic}$ vs. Position', fontsize=15)\n",
    "xlabel(r'Position [m]')\n",
    "ylabel(\"Adiabatic Flame Temperature [K]\")\n",
    "a.xaxis.set_major_locator(MaxNLocator(10)) # this controls the number of tick marks on the axis\n",
    "\n",
    "# create second subplot - velocity\n",
    "b=fig.add_subplot(222)\n",
    "b.plot(z,u)\n",
    "title(r'Velocity vs. Position', fontsize=15)\n",
    "xlabel(r'Position [m]')\n",
    "ylabel(\"velocity [m/s]\")\n",
    "b.xaxis.set_major_locator(MaxNLocator(10)) \n",
    "\n",
    "# create third subplot - rho\n",
    "c=fig.add_subplot(223)\n",
    "p = zeros(f.flame.n_points,'d')\n",
    "for n in range(f.flame.n_points):\n",
    "    f.set_gas_state(n)\n",
    "    p[n]= gas.density_mass\n",
    "c.plot(z,p)\n",
    "title(r'Rho vs. Position', fontsize=15)\n",
    "xlabel(r'Position [m]')\n",
    "ylabel(\"Rho [$kg/m^3$]\")\n",
    "c.xaxis.set_major_locator(MaxNLocator(10)) \n",
    "\n",
    "\n",
    "# create fourth subplot - specie CH4\n",
    "d=fig.add_subplot(224)\n",
    "ch4 = zeros(f.flame.n_points,'d')\n",
    "for n in range(f.flame.n_points):\n",
    "    f.set_gas_state(n)\n",
    "    ch4[n]= gas.Y[ifuel]\n",
    "d.plot(z,ch4)\n",
    "title(r'CH4 vs. Position', fontsize=15)\n",
    "xlabel(r'Position [m]')\n",
    "ylabel(\"CH4 Mole Fraction\")\n",
    "d.xaxis.set_major_locator(MaxNLocator(10))\n",
    "\n",
    "# Set title\n",
    "fig.text(0.5,0.95,r'Adiabatic $CH_{4}$ + Air Free Flame at Phi = 0.8 Ti = 600K and P = 1atm',fontsize=22,horizontalalignment='center')\n",
    "\n",
    "subplots_adjust(left=0.08, right=0.96, wspace=0.25, hspace=0.25)"
   ]
  },
  {
   "cell_type": "markdown",
   "metadata": {},
   "source": [
    "<div class=\"alert alert-danger \"><b> The plots here describe the flame front. The evolution of the variables and the different values seem coherent with the simulation.  </b></div>"
   ]
  },
  {
   "cell_type": "markdown",
   "metadata": {},
   "source": [
    "## 2. A burner-stabilized rich premixed methane-oxygen flame at low pressure"
   ]
  },
  {
   "cell_type": "markdown",
   "metadata": {},
   "source": [
    "<p class=\"bg-primary\" style=\"padding:1em\"> This script will show you the creation of a burner. This is basically the same thing as a premixed flame, except that the flame is stabilized on a burner and not freely proapagating. </p> "
   ]
  },
  {
   "cell_type": "markdown",
   "metadata": {},
   "source": [
    "![title](Images/burnervsfree.pdf)\n",
    "From R.J. Kee, M.E. Coltrin and P. Glarborg *Chemically Reacting Flow*"
   ]
  },
  {
   "cell_type": "markdown",
   "metadata": {},
   "source": [
    "### 2.1 Initial solution"
   ]
  },
  {
   "cell_type": "markdown",
   "metadata": {},
   "source": [
    "<div class=\"alert alert-danger \"><b> Try to set a solution from :<br>\n",
    "- the gri30 mechanism (CH4/air flame) <br>\n",
    "- with a pressure of 1 bar, a temperature of 373 K, an equivalence ratio of 1.3\n",
    "<b></div>"
   ]
  },
  {
   "cell_type": "code",
   "execution_count": null,
   "metadata": {},
   "outputs": [],
   "source": [
    "# Import gas phases with mixture transport model\n",
    "gas = ct.Solution('gri30.yaml')\n",
    "\n",
    "# Parameter values :\n",
    "# General\n",
    "p = 1e5  # pressure\n",
    "tin = 373  # unburned gas temperature\n",
    "phi = 1.3\n",
    "\n",
    "fuel = 'CH4: 1'\n",
    "oxidizer = 'O2:1.0, N2:3.76'\n",
    "\n",
    "# Set gas state to that of the unburned gas\n",
    "gas.TP = tin, p\n",
    "gas.set_equivalence_ratio(phi, fuel, oxidizer)"
   ]
  },
  {
   "cell_type": "markdown",
   "metadata": {},
   "source": [
    "<div class=\"alert alert-danger \"><b> Try to construct a BurnerFlame of width 2 cm and implement the limit conditions (f.burner instead of f.inlet for this case).\n",
    "<b></div>"
   ]
  },
  {
   "cell_type": "code",
   "execution_count": null,
   "metadata": {},
   "outputs": [],
   "source": [
    "f = ct.BurnerFlame(gas, width=0.2)\n",
    "\n",
    "f.burner.T =  gas.T\n",
    "f.burner.X =  gas.X              # Conditions\n",
    "\n",
    "mdot = 0.04   \n",
    "f.burner.mdot = mdot"
   ]
  },
  {
   "cell_type": "code",
   "execution_count": null,
   "metadata": {},
   "outputs": [],
   "source": [
    "f.grid"
   ]
  },
  {
   "cell_type": "code",
   "execution_count": null,
   "metadata": {
    "scrolled": true
   },
   "outputs": [],
   "source": [
    "#%%capture\n",
    "#################\n",
    "#f.energy_enabled = False\n",
    "\n",
    "tol_ss = [1.0e-5, 1.0e-9]  # [rtol atol] for steady-state\n",
    "tol_ts = [1.0e-5, 1.0e-4]  # [rtol atol] for time stepping\n",
    "\n",
    "f.flame.set_steady_tolerances(default=tol_ss)\n",
    "f.flame.set_transient_tolerances(default=tol_ts)\n",
    "\n",
    "f.set_refine_criteria(ratio=10.0, slope=1, curve=1)\n",
    "\n",
    "f.set_max_jac_age(50, 50)\n",
    "\n",
    "f.set_time_step(1.0e-5, [1, 2, 5, 10, 20])\n",
    "\n",
    "loglevel = 1  # amount of diagnostic output (0 to 5)\n",
    "\n",
    "#refine_grid = 'refine'  # True to enable refinement, False to\n",
    "\n",
    "#f.solve(loglevel, refine_grid)\n",
    "\n",
    "#f.save('ch4_burner_flame.csv', 'no_energy',\n",
    "#       'solution with the energy equation disabled')\n",
    "\n",
    "#################\n",
    "f.energy_enabled = True\n",
    "\n",
    "f.set_refine_criteria(ratio=3.0, slope=0.1, curve=0.2)\n",
    "\n",
    "#f.solve(loglevel, refine_grid='refine')\n",
    "\n",
    "#f.save('ch4_burner_flame.csv', 'energy',\n",
    "#       'solution with the energy equation enabled')\n",
    "\n",
    "#################\n",
    "f.transport_model = 'Multi'\n",
    "\n",
    "#f.solve(loglevel, refine_grid='refine')\n",
    "\n",
    "#f.save('ch4_burner_flame.csv', 'energy_multi',\n",
    "#       'solution with the energy equation enabled and multicomponent transport')\n",
    "\n",
    "#################\n",
    "f.soret_enabled = True\n",
    "\n",
    "f.solve(loglevel, refine_grid='refine')\n",
    "\n",
    "f.save('ch4_burner_flame.csv', 'energy_soret',\n",
    "       'solution with the energy equation enabled and multicomponent transport')\n"
   ]
  },
  {
   "cell_type": "markdown",
   "metadata": {},
   "source": [
    "<div class=\"alert alert-danger \"><b> Here the plot is for the temperature. Try to change it to plot the laminar flame speed.\n",
    "<b></div>"
   ]
  },
  {
   "cell_type": "code",
   "execution_count": null,
   "metadata": {},
   "outputs": [],
   "source": [
    "import matplotlib.pyplot as plt\n",
    "plt.plot(f.grid, f.velocity)\n",
    "plt.xlabel('grid (m)',fontsize=15)\n",
    "plt.ylabel('Laminar flame speed ($m/s$)',fontsize=15)\n",
    "plt.title('Laminar flame speed vs x-axis for an equivalence ratio of 1.3', fontsize=20)\n",
    "plt.show()\n",
    "\n",
    "f.write_csv('ch4_burner_flame.csv', quiet=True)"
   ]
  },
  {
   "cell_type": "code",
   "execution_count": null,
   "metadata": {},
   "outputs": [],
   "source": [
    "gas = ct.Solution('gri30.yaml', 'gri30')\n",
    "\n",
    "p = 1e5  # pressure\n",
    "\n",
    "comp_f = 'C2H6:1'                       # fuel composition\n",
    "tin_f = 300.0                           # fuel inlet temperature\n",
    "\n",
    "rho_f = p / (8.314 / 0.030 * tin_f)     # fuel inlet density\n",
    "mdot_f = 0.24                           # fuel inlet mass flow rate (kg/m^2/s)\n",
    "vel_f = mdot_f / rho_f                  # fuel inlet velocity\n",
    "print('Velocity of the fuel : ' + str(vel_f))\n",
    "\n",
    "comp_o = 'O2:0.21, N2:0.78, AR:0.01'    # oxidizer composition\n",
    "tin_o = 300.0                           # oxidizer inlet temperature\n",
    "\n",
    "rho_o = p / (8.314 / 0.029 * tin_o)     # oxidizer inlet density\n",
    "mdot_o = 0.72                           # oxidizer inlet mass flow rate (kg/m^2/s)\n",
    "vel_o = mdot_o / rho_o                  # oxidizer inlet velocity\n",
    "print('Velocity of the oxidizer : ' + str(vel_o))\n",
    "\n",
    "gas.TP = tin_o, p\n",
    "\n",
    "width = 0.02\n",
    "a = (vel_o + vel_f) / width              # calculation of the strain rate (s^-1)\n",
    "print('Strain rate of the diffusion flame : ' + str(a))"
   ]
  },
  {
   "cell_type": "code",
   "execution_count": null,
   "metadata": {},
   "outputs": [],
   "source": [
    "initial_grid = np.linspace(0, width, 6)\n",
    "f = ct.CounterflowDiffusionFlame(gas, initial_grid)\n",
    "\n",
    "# Set the state of the two inlets\n",
    "f.fuel_inlet.mdot = mdot_f\n",
    "f.fuel_inlet.X = comp_f\n",
    "f.fuel_inlet.T = tin_f\n",
    "\n",
    "f.oxidizer_inlet.mdot = mdot_o\n",
    "f.oxidizer_inlet.X = comp_o\n",
    "f.oxidizer_inlet.T = tin_o"
   ]
  },
  {
   "cell_type": "code",
   "execution_count": null,
   "metadata": {
    "scrolled": true
   },
   "outputs": [],
   "source": [
    "#%%capture\n",
    "# First flame:\n",
    "# disable the energy equation\n",
    "f.energy_enabled = False\n",
    "\n",
    "# Set error tolerances\n",
    "tol_ss = [1.0e-5, 1.0e-11]  # [rtol, atol] for steady-state problem\n",
    "tol_ts = [1.0e-5, 1.0e-11]  # [rtol, atol] for time stepping\n",
    "f.flame.set_steady_tolerances(default=tol_ss)\n",
    "f.flame.set_transient_tolerances(default=tol_ts)\n",
    "\n",
    "# and solve the problem without refining the grid\n",
    "f.solve(loglevel=1, refine_grid='disabled')\n",
    "\n",
    "#################\n",
    "# Second flame:\n",
    "# specify grid refinement criteria, turn on the energy equation,\n",
    "f.energy_enabled = True\n",
    "\n",
    "f.set_refine_criteria(ratio=3, slope=0.8, curve=0.8)\n",
    "\n",
    "# and solve the problem again\n",
    "f.solve(loglevel=1, refine_grid='refine')\n",
    "\n",
    "# save your results\n",
    "f.save('c2h6_diffusion.csv', 'energy')\n",
    "\n",
    "#################\n",
    "# Third flame:\n",
    "# specify grid refinement criteria, turn on the energy equation,\n",
    "f.energy_enabled = True\n",
    "\n",
    "f.set_refine_criteria(ratio=2, slope=0.2, curve=0.2, prune=0.04)\n",
    "\n",
    "# and solve the problem again\n",
    "f.solve(loglevel=1, refine_grid='refine')\n",
    "\n",
    "# save your results\n",
    "f.save('c2h6_diffusion.csv', 'energy continuation')\n",
    "\n",
    "#################################################################\n",
    "# Save your results if needed\n",
    "#################################################################\n",
    "# write the velocity, temperature, and mole fractions to a CSV file\n",
    "f.write_csv('c2h6_diffusion.csv', quiet=False)"
   ]
  },
  {
   "cell_type": "code",
   "execution_count": null,
   "metadata": {},
   "outputs": [],
   "source": [
    "# Get interesting values\n",
    "z = f.flame.grid\n",
    "T = f.T\n",
    "u = f.velocity\n",
    "\n",
    "# Get interesting indices for computation of species\n",
    "fuel_species = 'C2H6'\n",
    "ifuel = gas.species_index(fuel_species)\n",
    "io2 = gas.species_index('O2')\n",
    "in2 = gas.species_index('N2')\n",
    "\n",
    "# Initiate interesting vectors\n",
    "c2h6 = np.zeros(f.flame.n_points,'d')\n",
    "o2 = np.zeros(f.flame.n_points,'d')\n",
    "hr = np.zeros(f.flame.n_points,'d')\n",
    "\n",
    "# Computes interesting quantities for analyzing a counter-flow flame\n",
    "for n in range(f.flame.n_points):\n",
    "    f.set_gas_state(n)\n",
    "    c2h6[n]= gas.Y[ifuel]\n",
    "    o2[n]= gas.Y[io2]\n",
    "    hr[n] = - np.dot(gas.net_production_rates, gas.partial_molar_enthalpies)"
   ]
  },
  {
   "cell_type": "code",
   "execution_count": null,
   "metadata": {},
   "outputs": [],
   "source": [
    "fig=figure(1)\n",
    "\n",
    "a=fig.add_subplot(111)\n",
    "a.plot(z,T/np.max(T),z,c2h6/np.max(c2h6),z,o2/np.max(o2))\n",
    "plt.title(r'$T_{adiabatic}$ vs. Position',fontsize=25)\n",
    "plt.xlabel(r'Position [m]', fontsize=15)\n",
    "plt.ylabel('Normalized values of different quantities',fontsize=15)\n",
    "plt.legend(['Temperature','$Y_{C_2H_6}$', '$Y_{O_2}$'],fontsize=15)\n",
    "show()"
   ]
  }
 ],
 "metadata": {
  "kernelspec": {
   "display_name": "Python 3",
   "language": "python",
   "name": "python3"
  },
  "language_info": {
   "codemirror_mode": {
    "name": "ipython",
    "version": 3
   },
   "file_extension": ".py",
   "mimetype": "text/x-python",
   "name": "python",
   "nbconvert_exporter": "python",
   "pygments_lexer": "ipython3",
   "version": "3.10.12"
  }
 },
 "nbformat": 4,
 "nbformat_minor": 2
}
