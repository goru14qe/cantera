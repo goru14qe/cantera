{
 "cells": [
  {
   "cell_type": "markdown",
   "metadata": {},
   "source": [
    "# II - Equilibrium calculations"
   ]
  },
  {
   "cell_type": "markdown",
   "metadata": {},
   "source": [
    "### Equilibrium explanations"
   ]
  },
  {
   "cell_type": "markdown",
   "metadata": {},
   "source": [
    "**Equilibrium calculations** are usually performed to obtain the adiabatic flame temperature, the equilibrium composition, and the thermodynamic state of a specific mixture under given conditions. These are virtually performed in every simulation.<br>\n",
    "For example, Cantera will call its equilibrium solver to initialize the gas state before trying to obtain a solution to the equations for a free flame. As such, it is interesting to understand how Cantera proceeds."
   ]
  },
  {
   "cell_type": "markdown",
   "metadata": {},
   "source": [
    "There are 2 different types of solver currently implemented for equilibrium calculation in Cantera that\n",
    "deserves our attention :\n",
    "- **The element potential 'ChemEquil' solver**<br>\n",
    "The class ChemEquil implements a chemical equilibrium solver for single-phase solutions. It is a\n",
    "\"non-stoichiometric\" solver in the terminology of Smith and Missen, meaning that every intermediate\n",
    "state is a valid chemical equilibrium state, but does not necessarily satisfy the element constraints.\n",
    "<br>\n",
    "Non-stoichiometric methods are faster when they converge, but stoichiometric ones tend to be more\n",
    "robust.\n",
    "- **The 'VCS' chemical equilibrium solver**<br>\n",
    "The other type of solver is designed to be used to set a mixture containing one or more phases to\n",
    "a state of chemical equilibrium. It uses a \"stoichiometric\" algorithm, in which each intermediate\n",
    "state satisfies the element constraints but is not a state of chemical equilibrium. \n",
    "<br>\n",
    "More specifically, it\n",
    "implements the VCS algorithm, described in Smith and Missen, \"Chemical Reaction Equilibrium\". It\n",
    "finds a set of component species and a complete set of formation reactions for the non-components in\n",
    "terms of the components."
   ]
  },
  {
   "cell_type": "markdown",
   "metadata": {},
   "source": [
    "As expected, the **ChemEquil solver is the fastest** of the Cantera equilibrium solvers for many single-\n",
    "phase equilibrium problems (particularly if there are only a few elements but very many species), **but\n",
    "can be less stable**. <br>\n",
    "Problem situations include low temperatures where only a few species have non-zero\n",
    "mole fractions, precisely stoichiometric compositions (we will see an example shortly). In general, if\n",
    "speed is important, this solver should always be tried first before falling back to another one in case of\n",
    "failure."
   ]
  },
  {
   "cell_type": "markdown",
   "metadata": {},
   "source": [
    "### The function equilibrate"
   ]
  },
  {
   "cell_type": "markdown",
   "metadata": {},
   "source": [
    "The default setting in Cantera, when launching an equilibrium calculation without specifying\n",
    "the solver, is to try the 'element potential' before falling back to another vcs solver labelled 'gibbs' :\n",
    "<code>\n",
    "gas.equilibrate('TP')\n",
    "</code>"
   ]
  },
  {
   "cell_type": "markdown",
   "metadata": {},
   "source": [
    "The equilibrate function can be applied on a single phase or on a mixture. Here, we recall its definition:\n",
    "<code>\n",
    "equilibrate(self, XY, solver, double rtol, int maxsteps, int maxiter, int loglevel)\n",
    "</code>\n",
    "<br>\n",
    "Parameters:\n",
    "<code>\n",
    "XY                - A two-letter string, which must be one of the set: ['TP','TV','HP','SP','SV','UV'].\n",
    "solver            - Specifies the equilibrium solver to use. May be one of the following :\n",
    "    element_potential = A fast solver using the element potential method.\n",
    "    gibbs             = A slower but more robust Gibbs minimization solver.\n",
    "    vcs               = The VCS non-ideal equilibrium solver.\n",
    "    auto              = The element potential solver will be tried first, then if it fails the gibbs solver will be\n",
    "                        tried.\n",
    "rtol              - The relative error tolerance.\n",
    "maxsteps          - Maximum number of steps in composition to take to find a converged solution.\n",
    "maxiter           - This specifies the number of outer iterations on T or P when some property pair other than TP is\n",
    "                    specified (only for 'gibbs').\n",
    "loglevel          - Is currently deprecated.\n",
    "</code>\n"
   ]
  },
  {
   "cell_type": "markdown",
   "metadata": {},
   "source": [
    "### Useful python imports"
   ]
  },
  {
   "cell_type": "code",
   "execution_count": null,
   "metadata": {
    "tags": []
   },
   "outputs": [],
   "source": [
    "#!cti2yaml BFER_methane.cti"
   ]
  },
  {
   "cell_type": "code",
   "execution_count": 1,
   "metadata": {
    "tags": []
   },
   "outputs": [],
   "source": [
    "import cantera as ct\n",
    "import numpy as np\n",
    "import csv\n",
    "from matplotlib import *\n",
    "import matplotlib.pyplot as plt\n",
    "import sys"
   ]
  },
  {
   "cell_type": "markdown",
   "metadata": {},
   "source": [
    "## 1. Simple homogeneous equilibrium of a gas"
   ]
  },
  {
   "cell_type": "markdown",
   "metadata": {},
   "source": [
    "<div class=\"alert alert-danger \"><b> Please create the gas object so that :<br>\n",
    "- the mechanism used is the gri30<br>\n",
    "- this is an air/CH4 mix<br>\n",
    "- the mix is at stoichiometry<br>\n",
    "- the temperature is 300K and the pressure 1 bar.\n",
    "<b></div>"
   ]
  },
  {
   "cell_type": "code",
   "execution_count": 2,
   "metadata": {
    "tags": []
   },
   "outputs": [
    {
     "name": "stdout",
     "output_type": "stream",
     "text": [
      "\n",
      "  CH4_BFER:\n",
      "\n",
      "       temperature   300 K\n",
      "          pressure   1e+05 Pa\n",
      "           density   1.1078 kg/m^3\n",
      "  mean mol. weight   27.633 kg/kmol\n",
      "   phase of matter   gas\n",
      "\n",
      "                          1 kg             1 kmol     \n",
      "                     ---------------   ---------------\n",
      "          enthalpy       -3.0153e+06       -8.3322e+07  J\n",
      "   internal energy       -3.1055e+06       -8.5816e+07  J\n",
      "           entropy            7233.9         1.999e+05  J/K\n",
      "    Gibbs function       -5.1854e+06       -1.4329e+08  J\n",
      " heat capacity c_p            1111.3             30709  J/K\n",
      " heat capacity c_v            810.41             22394  J/K\n",
      "\n",
      "                      mass frac. Y      mole frac. X     chem. pot. / RT\n",
      "                     ---------------   ---------------   ---------------\n",
      "               H2O           0.12394           0.19011           -121.33\n",
      "               CO2           0.15139          0.095057           -185.84\n",
      "                N2           0.72467           0.71483           -23.382\n",
      "     [   +3 minor]        2.3711e-17        2.0477e-17  \n",
      "\n",
      "None\n"
     ]
    }
   ],
   "source": [
    "gas = ct.Solution('BFER_methane.yaml')           # create an object representing the gas phase\n",
    "gas.TPX = 300, 100000,{'CH4':1, 'O2':2, 'N2':7.52}      # set initial state\n",
    "gas.equilibrate('TP')                 # equilibrate using Temperature (T) and Pressure (P)\n",
    "print(gas())"
   ]
  },
  {
   "cell_type": "markdown",
   "metadata": {},
   "source": [
    "As you see, the gas has been equilibrated since it now shows only quantities for the product of the reaction (H2O and CO2). You can try to set yourself out of the perfect mixing (for example set CH4 to 0.4 and to 0.6) and see the impact on the species in the mix at the end."
   ]
  },
  {
   "cell_type": "markdown",
   "metadata": {},
   "source": [
    "## 2. Failure of a solver"
   ]
  },
  {
   "cell_type": "markdown",
   "metadata": {},
   "source": [
    "Cantera has 3 different equilibrium solvers, 2 of them are worth mentionning: \n",
    "- The 'ChemEquil' solver uses the element potential method for homogeneous equilibrium in gas mixtures. It is fast, but sometimes doesn't converge. \n",
    "- The 'VCS' solver uses the VCS algorithm (Gibbs minimization), which is slower but more robust. It can also handle multiple phases.<br>\n",
    "Here we'll solve a problem for which the ChemEquil solver fails, but the VCS solver has no problem."
   ]
  },
  {
   "cell_type": "markdown",
   "metadata": {},
   "source": [
    "### Properties of the gas"
   ]
  },
  {
   "cell_type": "code",
   "execution_count": 3,
   "metadata": {
    "tags": []
   },
   "outputs": [],
   "source": [
    "pressure = 1.0e5                # pressure\n",
    "temperature = 400.0             # unburned gas temperature\n",
    "comp = 'CH4:0.5, O2:1, N2:3.76' # premixed gas composition\n",
    "\n",
    "gas = ct.Solution('BFER_methane.yaml')\n",
    "gas.TPX = temperature, pressure, comp"
   ]
  },
  {
   "cell_type": "markdown",
   "metadata": {},
   "source": [
    "### Initial state of the gas"
   ]
  },
  {
   "cell_type": "code",
   "execution_count": 4,
   "metadata": {
    "tags": []
   },
   "outputs": [
    {
     "name": "stdout",
     "output_type": "stream",
     "text": [
      "******************************************************** \n",
      "    Initial state :\n",
      "******************************************************** \n",
      "P =   1.0000e+05      Pa\n",
      "T =   4.0000e+02      K\n",
      "V =   1.2035e+00      m3/kg\n",
      "U =   -2.6590e+05      J/kg\n",
      "H =   -1.4554e+05      J/kg\n",
      "S =   7.5652e+03      J/kg/K\n",
      "\n",
      "\n"
     ]
    }
   ],
   "source": [
    "print(\"******************************************************** \")\n",
    "print(\"    Initial state :\")\n",
    "print(\"******************************************************** \")\n",
    "print(\"P =  \", \"%10.4e  \" % (gas.P) + \"    Pa\")\n",
    "print(\"T =  \", \"%10.4e  \" % (gas.T) + \"    K\")\n",
    "print(\"V =  \", \"%10.4e  \" % (gas.volume_mass) + \"    m3/kg\")\n",
    "print(\"U =  \", \"%10.4e  \" % (gas.int_energy_mass) + \"    J/kg\")\n",
    "print(\"H =  \", \"%10.4e  \" % (gas.enthalpy_mass) + \"    J/kg\")\n",
    "print(\"S =  \", \"%10.4e  \" % (gas.entropy_mass) + \"    J/kg/K\")\n",
    "print(\"\")\n",
    "print(\"\")"
   ]
  },
  {
   "cell_type": "markdown",
   "metadata": {},
   "source": [
    "### Comparing chemical potentials and element potentials"
   ]
  },
  {
   "cell_type": "markdown",
   "metadata": {},
   "source": [
    "Here, the chemical potentials (noted mu_xx) are compared to the corresponding calculated values with the element potentials (noted lambda_xx).<br>\n",
    "For instance, mu_H2 = lambda_H x 2.<br>\n",
    "This is a good way to check whether the solver has managed to compute the results correctly. The chemical potentials are the one of the vapor phase."
   ]
  },
  {
   "cell_type": "code",
   "execution_count": 10,
   "metadata": {
    "tags": []
   },
   "outputs": [
    {
     "ename": "ValueError",
     "evalue": "No such species 'O'.",
     "output_type": "error",
     "traceback": [
      "\u001b[1;31m---------------------------------------------------------------------------\u001b[0m",
      "\u001b[1;31mValueError\u001b[0m                                Traceback (most recent call last)",
      "Cell \u001b[1;32mIn[10], line 12\u001b[0m\n\u001b[0;32m      9\u001b[0m mu_CO2 \u001b[38;5;241m=\u001b[39m chemeq[gas\u001b[38;5;241m.\u001b[39mspecies_index(\u001b[38;5;124m\"\u001b[39m\u001b[38;5;124mCO2\u001b[39m\u001b[38;5;124m\"\u001b[39m)]\n\u001b[0;32m     11\u001b[0m \u001b[38;5;66;03m#lambda_H = chemeq[gas.species_index(\"C\")]\u001b[39;00m\n\u001b[1;32m---> 12\u001b[0m lambda_O \u001b[38;5;241m=\u001b[39m chemeq[\u001b[43mgas\u001b[49m\u001b[38;5;241;43m.\u001b[39;49m\u001b[43mspecies_index\u001b[49m\u001b[43m(\u001b[49m\u001b[38;5;124;43m\"\u001b[39;49m\u001b[38;5;124;43mO\u001b[39;49m\u001b[38;5;124;43m\"\u001b[39;49m\u001b[43m)\u001b[49m]\n\u001b[0;32m     13\u001b[0m lambda_H \u001b[38;5;241m=\u001b[39m chemeq[gas\u001b[38;5;241m.\u001b[39mspecies_index(\u001b[38;5;124m\"\u001b[39m\u001b[38;5;124mH\u001b[39m\u001b[38;5;124m\"\u001b[39m)]\n\u001b[0;32m     14\u001b[0m lambda_O \u001b[38;5;241m=\u001b[39m chemeq[gas\u001b[38;5;241m.\u001b[39mspecies_index(\u001b[38;5;124m\"\u001b[39m\u001b[38;5;124mN\u001b[39m\u001b[38;5;124m\"\u001b[39m)]\n",
      "File \u001b[1;32mbuild\\python\\cantera\\thermo.pyx:624\u001b[0m, in \u001b[0;36mcantera._cantera.ThermoPhase.species_index\u001b[1;34m()\u001b[0m\n",
      "File \u001b[1;32mbuild\\python\\cantera\\thermo.pyx:639\u001b[0m, in \u001b[0;36mcantera._cantera.ThermoPhase.species_index\u001b[1;34m()\u001b[0m\n",
      "\u001b[1;31mValueError\u001b[0m: No such species 'O'."
     ]
    }
   ],
   "source": [
    "chemeq = np.zeros(gas.n_species)\n",
    "chemeq = gas.chemical_potentials\n",
    "\n",
    "mu_CH4 = chemeq[gas.species_index(\"CH4\")]\n",
    "mu_O2 = chemeq[gas.species_index(\"O2\")]\n",
    "mu_H2O = chemeq[gas.species_index(\"H2O\")]\n",
    "mu_CO = chemeq[gas.species_index(\"CO\")]\n",
    "mu_N2 = chemeq[gas.species_index(\"N2\")]\n",
    "mu_CO2 = chemeq[gas.species_index(\"CO2\")]\n",
    "\n",
    "#lambda_H = chemeq[gas.species_index(\"C\")]\n",
    "lambda_O = chemeq[gas.species_index(\"O\")]\n",
    "lambda_H = chemeq[gas.species_index(\"H\")]\n",
    "lambda_O = chemeq[gas.species_index(\"N\")]\n"
   ]
  },
  {
   "cell_type": "code",
   "execution_count": null,
   "metadata": {
    "tags": []
   },
   "outputs": [],
   "source": [
    "print()\n",
    "print(\"Comparison between Chem potentials and element potentials:\")\n",
    "print()\n",
    "s_mu_H2 = \"%11.4e\" % mu_H2\n",
    "s_lam_mu_H2 = \"%11.4e\" % (2.0 * lambda_H)\n",
    "print(\"mu_H2   : \", s_mu_H2, \",    \", s_lam_mu_H2)\n",
    "\n",
    "s_mu_O2 = \"%11.4e\" % mu_O2\n",
    "s_lam_mu_O2 = \"%11.4e\" % (2.0 * lambda_O)\n",
    "print(\"mu_O2   : \", s_mu_O2, \",    \", s_lam_mu_O2)\n",
    "\n",
    "s_mu_OH = \"%11.4e\" % mu_OH\n",
    "s_lam_mu_OH = \"%11.4e\" % (lambda_H + lambda_O)\n",
    "print(\"mu_OH   : \", s_mu_OH, \",    \", s_lam_mu_OH)\n",
    "\n",
    "s_mu_H2O = \"%11.4e\" % mu_H2O\n",
    "s_lam_mu_H2O = \"%11.4e\" % (2.0 * lambda_H + lambda_O)\n",
    "print(\"mu_H2O  : \", s_mu_H2O, \",    \", s_lam_mu_H2O)"
   ]
  },
  {
   "cell_type": "markdown",
   "metadata": {},
   "source": [
    "### Program equilibrate"
   ]
  },
  {
   "cell_type": "code",
   "execution_count": null,
   "metadata": {
    "tags": []
   },
   "outputs": [],
   "source": [
    "try:\n",
    "    # print(\"0\")\n",
    "    gas.equilibrate('TP', solver='element_potential')  # use the ChemEquil solver\n",
    "except:\n",
    "    print(\"\")\n",
    "    print(\"ChemEquil solver failed! Trying the vcs solver...\")\n",
    "    gas.equilibrate('TP', solver='vcs')\n",
    "    # gas.equilibrate('TP', solver = 'gibbs')              # the gibbs solver works also"
   ]
  },
  {
   "cell_type": "markdown",
   "metadata": {},
   "source": [
    "### Compare the results with the initial values"
   ]
  },
  {
   "cell_type": "code",
   "execution_count": null,
   "metadata": {
    "tags": []
   },
   "outputs": [],
   "source": [
    "print(\"\")\n",
    "print(\"******************************************************** \")\n",
    "print(\"    Final state :\")\n",
    "print(\"    Tadiabatique = \" + str(gas.T) + \" K\")\n",
    "print(\"******************************************************** \")\n",
    "print(\"P =  \", \"%10.4e  \" % (gas.P) + \"    Pa\")\n",
    "print(\"T =  \", \"%10.4e  \" % (gas.T) + \"    K\")\n",
    "print(\"V =  \", \"%10.4e  \" % (gas.volume_mass) + \"    m3/kg\")\n",
    "print(\"U =  \", \"%10.4e  \" % (gas.int_energy_mass) + \"    J/kg\")\n",
    "print(\"H =  \", \"%10.4e  \" % (gas.enthalpy_mass) + \"    J/kg\")\n",
    "print(\"S =  \", \"%10.4e  \" % (gas.entropy_mass) + \"    J/kg/K\")\n",
    "print(\"\")\n",
    "print(\"\")"
   ]
  },
  {
   "cell_type": "markdown",
   "metadata": {},
   "source": [
    "### Comparing chemical and element equilibrium for the equilibrate mixture"
   ]
  },
  {
   "cell_type": "code",
   "execution_count": null,
   "metadata": {
    "tags": []
   },
   "outputs": [],
   "source": [
    "chemeq = gas.chemical_potentials\n",
    "mu_H2 = chemeq[gas.species_index(\"H2\")]\n",
    "mu_OH = chemeq[gas.species_index(\"OH\")]\n",
    "mu_H2O = chemeq[gas.species_index(\"H2O\")]\n",
    "mu_O2 = chemeq[gas.species_index(\"O2\")]\n",
    "lambda_H = chemeq[gas.species_index(\"H\")]\n",
    "lambda_O = chemeq[gas.species_index(\"O\")]\n",
    "\n",
    "print()\n",
    "print(\"Comparison between Chem potentials and element potentials:\")\n",
    "print()\n",
    "s_mu_H2 = \"%11.4e\" % mu_H2\n",
    "s_lam_mu_H2 = \"%11.4e\" % (2.0 * lambda_H)\n",
    "print(\"mu_H2   : \", s_mu_H2, \",    \", s_lam_mu_H2)\n",
    "\n",
    "s_mu_O2 = \"%11.4e\" % mu_O2\n",
    "s_lam_mu_O2 = \"%11.4e\" % (2.0 * lambda_O)\n",
    "print(\"mu_O2   : \", s_mu_O2, \",    \", s_lam_mu_O2)\n",
    "\n",
    "s_mu_OH = \"%11.4e\" % mu_OH\n",
    "s_lam_mu_OH = \"%11.4e\" % (lambda_H + lambda_O)\n",
    "print(\"mu_OH   : \", s_mu_OH, \",    \", s_lam_mu_OH)\n",
    "\n",
    "s_mu_H2O = \"%11.4e\" % mu_H2O\n",
    "s_lam_mu_H2O = \"%11.4e\" % (2.0 * lambda_H + lambda_O)\n",
    "print(\"mu_H2O  : \", s_mu_H2O, \",    \", s_lam_mu_H2O)"
   ]
  },
  {
   "cell_type": "markdown",
   "metadata": {},
   "source": [
    "### Saving the results"
   ]
  },
  {
   "cell_type": "code",
   "execution_count": null,
   "metadata": {
    "tags": []
   },
   "outputs": [],
   "source": [
    "csv_file = 'all_mole_fractions.csv'\n",
    "with open(csv_file, 'w') as outfile:\n",
    "    writer = csv.writer(outfile)\n",
    "    writer.writerow(['phi', 'T (K)'] + gas.species_names)\n",
    "    writer.writerow(['1', gas.T] + list(gas.X))\n",
    "print(('Output written to {0}'.format(csv_file)))"
   ]
  },
  {
   "cell_type": "markdown",
   "metadata": {},
   "source": [
    "## 3. Perform adiabatic flame calculations as a function of equivalence ratio"
   ]
  },
  {
   "cell_type": "markdown",
   "metadata": {},
   "source": [
    "### Set gas composition and interesting parameters"
   ]
  },
  {
   "cell_type": "markdown",
   "metadata": {},
   "source": [
    "We will now perform **several constant pressure equilibrium calculations of an ethylene/air mixture, at\n",
    "an initial temperature of 300K and under atmospheric pressure**, in order to obtain the adiabatic flame temperature and burnt gas state for several equivalence ratios.<br>\n",
    "The goal of this exercise is to find a way to loop through several gaseous composition, in order to perform several computations in a single script; and to learn how to properly store the results in a *csv* file."
   ]
  },
  {
   "cell_type": "code",
   "execution_count": null,
   "metadata": {
    "tags": []
   },
   "outputs": [],
   "source": [
    "gas = ct.Solution('CK2CTI/mech.yaml')\n",
    "\n",
    "T = 300.0                     # Temperature\n",
    "P = 101325.0                  # Pressure\n",
    "\n",
    "phi_min = 0.3                 # Minimal equivalence ratio\n",
    "phi_max = 3.5                 # Maximal equivalence ratio\n",
    "npoints = 50                  # Point in-between the two preceeding values\n",
    "\n",
    "fuel_species = 'C2H4'         # fuel species\n",
    "air_N2_O2_molar_ratio = 3.76  # ratio representing the air"
   ]
  },
  {
   "cell_type": "markdown",
   "metadata": {},
   "source": [
    "### Loop of equilibrium"
   ]
  },
  {
   "cell_type": "code",
   "execution_count": null,
   "metadata": {
    "tags": []
   },
   "outputs": [],
   "source": [
    "phi = np.zeros(npoints)                  # 1D array\n",
    "tad = np.zeros(npoints)                  # 1D array\n",
    "\n",
    "xeq = np.zeros((gas.n_species, npoints)) # 2D array\n",
    "\n",
    "for i in range(npoints):\n",
    "\n",
    "    gas.TP = T, P\n",
    "    \n",
    "    phi[i] = phi_min + (phi_max - phi_min) * i / (npoints - 1)\n",
    "    gas.set_equivalence_ratio(phi[i], {fuel_species: 1}, {'O2': 1, 'N2': air_N2_O2_molar_ratio})\n",
    "\n",
    "    gas.equilibrate('HP') # Equilibrate the mixture adiabatically at constant P with the solver vcs\n",
    "    \n",
    "    xeq[:, i] = gas.X\n",
    "    tad[i] = gas.T\n",
    "    print(\"At phi = \",\"%10.4f\"% (phi[i])+ \"  Tad = \",\"%10.4f\"% (tad[i]))"
   ]
  },
  {
   "cell_type": "markdown",
   "metadata": {},
   "source": [
    "### Save files"
   ]
  },
  {
   "cell_type": "code",
   "execution_count": null,
   "metadata": {
    "tags": []
   },
   "outputs": [],
   "source": [
    "csv_file = 'result_2.csv'\n",
    "with open(csv_file, 'w') as outfile:\n",
    "    writer = csv.writer(outfile)\n",
    "    writer.writerow(['Phi', 'T (K)'] + gas.species_names)\n",
    "    for i in range(npoints):\n",
    "        writer.writerow([phi[i], tad[i]] + list(xeq[:, i]))\n",
    "print(\"Output written to\", \"%s\" % csv_file)"
   ]
  },
  {
   "cell_type": "markdown",
   "metadata": {},
   "source": [
    "### Plot the results"
   ]
  },
  {
   "cell_type": "code",
   "execution_count": null,
   "metadata": {
    "tags": []
   },
   "outputs": [],
   "source": [
    "rcParams['figure.figsize'] = (14, 10)\n",
    "\n",
    "plt.plot(phi, tad, '-')\n",
    "\n",
    "plt.title(r'Tad vs. $\\Phi$ for $C_{2}H_{4}/Air$ flames')\n",
    "plt.xlabel(r'$\\Phi$', fontsize=20)\n",
    "plt.ylabel(\"Adiabatic flame temperature (K)\")\n",
    "\n",
    "plt.grid()\n",
    "\n",
    "plt.show()\n",
    "plt.savefig('plot_tad.png', bbox_inches='tight')"
   ]
  },
  {
   "cell_type": "code",
   "execution_count": null,
   "metadata": {
    "scrolled": true,
    "tags": []
   },
   "outputs": [],
   "source": [
    "for i, cas in enumerate(gas.species_names):\n",
    "    if cas in ['O2','CO2','CO']:\n",
    "        plt.plot(phi,xeq[i,:], label = cas)\n",
    "        plt.xlabel('Equivalence ratio')\n",
    "        plt.ylabel('Mole fractions')\n",
    "        plt.legend(loc='best')\n",
    "        plt.show()"
   ]
  },
  {
   "cell_type": "markdown",
   "metadata": {},
   "source": [
    "## Conclusion"
   ]
  },
  {
   "cell_type": "markdown",
   "metadata": {},
   "source": [
    "We have just generated the skeleton of a script to perform a series of common equilibrium calculations\n",
    "to obtain the constant pressure equilibrium composition of a fuel/air mixture. Starting from there,\n",
    "you could modify your initial conditions, plot the mole/mass fractions of other species, change the\n",
    "solver or even try another fuel (methane, acetylene) without changing your mechanism.<br>\n",
    "Technically, adiabatic flame calculations could also be performed at constant volume: simply invoke\n",
    "the good equilibrate option of your equilibrate function, 'UV' (see 3.1.2), in your script."
   ]
  },
  {
   "cell_type": "code",
   "execution_count": null,
   "metadata": {},
   "outputs": [],
   "source": []
  },
  {
   "cell_type": "code",
   "execution_count": null,
   "metadata": {},
   "outputs": [],
   "source": []
  }
 ],
 "metadata": {
  "kernelspec": {
   "display_name": "Python 3 (ipykernel)",
   "language": "python",
   "name": "python3"
  },
  "language_info": {
   "codemirror_mode": {
    "name": "ipython",
    "version": 3
   },
   "file_extension": ".py",
   "mimetype": "text/x-python",
   "name": "python",
   "nbconvert_exporter": "python",
   "pygments_lexer": "ipython3",
   "version": "3.10.12"
  }
 },
 "nbformat": 4,
 "nbformat_minor": 4
}
