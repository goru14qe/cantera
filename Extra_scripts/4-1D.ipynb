{
 "cells": [
  {
   "cell_type": "markdown",
   "metadata": {},
   "source": [
    "# V - 1D computations"
   ]
  },
  {
   "cell_type": "markdown",
   "metadata": {},
   "source": [
    "The two following links might help you during the computation of 1D flames :<br>\n",
    "https://cantera.org/documentation/docs-2.4/sphinx/html/cython/onedim.html <br>\n",
    "https://cantera.org/science/flames.html\n",
    "<br>\n",
    "The first one is about the function that can be used for computing a one dimensional flame and the second one explains the equations that are computed.<br>\n",
    "The main difference between Cantera and a solver like AVBP is that equations are already one dimensional in Cantera."
   ]
  },
  {
   "cell_type": "markdown",
   "metadata": {},
   "source": [
    "## 1. ADIABATIC FLAME - A freely-propagating, premixed flat flame "
   ]
  },
  {
   "cell_type": "markdown",
   "metadata": {},
   "source": [
    "<p class=\"bg-primary\" style=\"padding:1em\"> This script will show you the creation of a premixed flame. First the initial solution is created and then, the calculation is performed before plotting the interesting results. </p> "
   ]
  },
  {
   "cell_type": "code",
   "execution_count": 1,
   "metadata": {},
   "outputs": [],
   "source": [
    "import cantera as ct\n",
    "import numpy as np\n",
    "from matplotlib.pylab import *"
   ]
  },
  {
   "cell_type": "markdown",
   "metadata": {},
   "source": [
    "### 1.1 Initial solution"
   ]
  },
  {
   "cell_type": "markdown",
   "metadata": {},
   "source": [
    "#### Import solution"
   ]
  },
  {
   "cell_type": "code",
   "execution_count": 2,
   "metadata": {},
   "outputs": [],
   "source": [
    "gas = ct.Solution('gri30.cti')                  # Import gas phases with mixture transport model"
   ]
  },
  {
   "cell_type": "markdown",
   "metadata": {},
   "source": [
    "#### Set the parameters"
   ]
  },
  {
   "cell_type": "code",
   "execution_count": 3,
   "metadata": {},
   "outputs": [],
   "source": [
    "# General\n",
    "p = 1e5                                         # pressure\n",
    "tin = 600.0                                     # unburned gas temperature\n",
    "phi = 0.8                                       # equivalence ratio\n",
    "\n",
    "fuel = {'CH4': 1}                               # Methane composition\n",
    "oxidizer = {'O2': 1, 'N2': 3.76}                # Oxygen composition"
   ]
  },
  {
   "cell_type": "markdown",
   "metadata": {},
   "source": [
    "#### Set gas state to that of the unburned gas"
   ]
  },
  {
   "cell_type": "code",
   "execution_count": 4,
   "metadata": {},
   "outputs": [],
   "source": [
    "gas.TP = tin, p\n",
    "gas.set_equivalence_ratio(phi, fuel, oxidizer)"
   ]
  },
  {
   "cell_type": "markdown",
   "metadata": {},
   "source": [
    "#### Create the flame and set inlet conditions"
   ]
  },
  {
   "cell_type": "code",
   "execution_count": 5,
   "metadata": {},
   "outputs": [],
   "source": [
    "f = ct.FreeFlame(gas, width=0.02)   # Create the free laminar premixed flame specifying the width of the grid\n",
    "f.inlet.X = gas.X                   # Inlet condition on mass fraction\n",
    "f.inlet.T = gas.T                   # Inlet condition on temperature"
   ]
  },
  {
   "cell_type": "markdown",
   "metadata": {},
   "source": [
    "### 1.2 Program starts here"
   ]
  },
  {
   "cell_type": "markdown",
   "metadata": {},
   "source": [
    "<p class=\"bg-primary\" style=\"padding:1em\"> The idea here is to solve four flames to make the calculation converge. The first flame will be solved without equation energy whereas the others will continue the computation by enabling the calculation using the equation energy and by adding more point to the flame front. </p> "
   ]
  },
  {
   "cell_type": "markdown",
   "metadata": {},
   "source": [
    "#### First flame"
   ]
  },
  {
   "cell_type": "code",
   "execution_count": 6,
   "metadata": {},
   "outputs": [
    {
     "name": "stdout",
     "output_type": "stream",
     "text": [
      "\n",
      "..............................................................................\n",
      "Attempt Newton solution of steady-state problem...    failure. \n",
      "Take 2 timesteps       1.5e-05      1.624\n",
      "Attempt Newton solution of steady-state problem...    failure. \n",
      "Take 5 timesteps     7.594e-05      1.356\n",
      "Attempt Newton solution of steady-state problem...    failure. \n",
      "Take 10 timesteps     0.0002162      1.814\n",
      "Attempt Newton solution of steady-state problem...    failure. \n",
      "Take 20 timesteps       0.01184     -1.328\n",
      "Attempt Newton solution of steady-state problem...    success.\n",
      "\n",
      "Problem solved on [9] point grid(s).\n",
      "\n",
      "..............................................................................\n",
      "grid refinement disabled.\n",
      "Solution saved to file 4-Output/ch4_adiabatic.xml as solution no energy.\n"
     ]
    }
   ],
   "source": [
    "f.energy_enabled = False                       # No energy for starters\n",
    "\n",
    "tol_ss = [1.0e-5, 1.0e-9]  # tolerance [rtol atol] for steady-state problem\n",
    "tol_ts = [1.0e-5, 1.0e-9]  # tolerance [rtol atol] for time stepping\n",
    "\n",
    "f.flame.set_steady_tolerances(default=tol_ss)\n",
    "f.flame.set_transient_tolerances(default=tol_ts)\n",
    "\n",
    "# Set calculation parameters\n",
    "f.set_max_jac_age(50, 50)                           # Maximum number of times the Jacobian will be used before it \n",
    "                                                    # must be re-evaluated\n",
    "f.set_time_step(1.0e-5, [2, 5, 10, 20, 80])         # Set time steps (in seconds) whenever Newton convergence fails \n",
    "f.set_refine_criteria(ratio=10.0, slope=1, curve=1) # Refinement criteria\n",
    "\n",
    "# Calculation\n",
    "loglevel = 1                                        # amount of diagnostic output (0 to 5)\n",
    "refine_grid = 'disabled'                            # 'refine' or 'remesh' to enable refinement\n",
    "                                                    # 'disabled' to disable\n",
    "\n",
    "f.solve(loglevel, refine_grid)                                      # solve the flame on the grid\n",
    "f.save('4-Output/ch4_adiabatic.xml', 'no energy','solution with no energy')  # save solution"
   ]
  },
  {
   "cell_type": "markdown",
   "metadata": {},
   "source": [
    "#### Second flame"
   ]
  },
  {
   "cell_type": "code",
   "execution_count": 7,
   "metadata": {},
   "outputs": [],
   "source": [
    "%%capture\n",
    "f.energy_enabled = True                                 # Energy equation enabled\n",
    "refine_grid = 'refine'                                 # Calculation and save of the results\n",
    "\n",
    "f.set_refine_criteria(ratio=5.0, slope=0.5, curve=0.5)  # Refinement criteria when energy equation is enabled\n",
    "\n",
    "f.solve(loglevel, refine_grid)\n",
    "f.save('4-Output/ch4_adiabatic.xml', 'energy', 'solution with the energy equation enabled')"
   ]
  },
  {
   "cell_type": "code",
   "execution_count": 8,
   "metadata": {},
   "outputs": [
    {
     "name": "stdout",
     "output_type": "stream",
     "text": [
      "mixture-averaged flamespeed = 1.138558 m/s\n"
     ]
    }
   ],
   "source": [
    "print('mixture-averaged flamespeed = {0:7f} m/s'.format(f.u[0]))  # m/s"
   ]
  },
  {
   "cell_type": "markdown",
   "metadata": {},
   "source": [
    "#### Third flame and so on ..."
   ]
  },
  {
   "cell_type": "code",
   "execution_count": 9,
   "metadata": {},
   "outputs": [],
   "source": [
    "%%capture\n",
    "f.set_refine_criteria(ratio=2.0, slope=0.05, curve=0.05) # Refinement criteria should be changed ...\n",
    "\n",
    "f.solve(loglevel, refine_grid)                           \n",
    "f.save('4-Output/ch4_adiabatic.xml', 'energy continuation','solution with the energy equation enabled continuation')"
   ]
  },
  {
   "cell_type": "code",
   "execution_count": 10,
   "metadata": {},
   "outputs": [
    {
     "name": "stdout",
     "output_type": "stream",
     "text": [
      "mixture-averaged flamespeed continuation = 1.070030 m/s\n",
      "mixture-averaged final T = 2201.068248 K\n"
     ]
    }
   ],
   "source": [
    "points = f.flame.n_points\n",
    "print('mixture-averaged flamespeed continuation = {0:7f} m/s'.format(f.u[0]))  # m/s\n",
    "print('mixture-averaged final T = {0:7f} K'.format(f.T[points - 1]))  # K"
   ]
  },
  {
   "cell_type": "markdown",
   "metadata": {},
   "source": [
    "#### Fourth flame and so on ..."
   ]
  },
  {
   "cell_type": "code",
   "execution_count": 11,
   "metadata": {},
   "outputs": [],
   "source": [
    "%%capture\n",
    "\n",
    "f.transport_model = 'Multi'      # Switch transport model\n",
    "\n",
    "f.solve(loglevel, refine_grid)\n",
    "\n",
    "f.save('4-Output/ch4_adiabatic.xml', 'energy_multi',\n",
    "       'solution with the multicomponent transport and energy equation enabled')"
   ]
  },
  {
   "cell_type": "code",
   "execution_count": 12,
   "metadata": {},
   "outputs": [
    {
     "name": "stdout",
     "output_type": "stream",
     "text": [
      "multicomponent flamespeed = 1.081526 m/s\n",
      "multicomponent final T = 2201.849447 K\n"
     ]
    }
   ],
   "source": [
    "points = f.flame.n_points\n",
    "print('multicomponent flamespeed = {0:7f} m/s'.format(f.u[0]))  # m/s\n",
    "print('multicomponent final T = {0:7f} K'.format(f.T[points - 1]))  # K"
   ]
  },
  {
   "cell_type": "markdown",
   "metadata": {},
   "source": [
    "You may notice that there are small differences on the flamespeed and on the final temperature between the two transport models, as it was predictable."
   ]
  },
  {
   "cell_type": "markdown",
   "metadata": {},
   "source": [
    "### 1.3 Manipulate the results"
   ]
  },
  {
   "cell_type": "markdown",
   "metadata": {},
   "source": [
    "#### Save your results"
   ]
  },
  {
   "cell_type": "code",
   "execution_count": 13,
   "metadata": {},
   "outputs": [
    {
     "name": "stdout",
     "output_type": "stream",
     "text": [
      "Solution saved to '4-Output/ch4_adiabatic.csv'.\n"
     ]
    }
   ],
   "source": [
    "f.write_csv('4-Output/ch4_adiabatic.csv', quiet=False)  # Write the velocity, temperature, density, and mole fractions \n",
    "                                               # to a CSV file"
   ]
  },
  {
   "cell_type": "markdown",
   "metadata": {},
   "source": [
    "#### Plot your results (temperature, density, velocity, ...)"
   ]
  },
  {
   "cell_type": "code",
   "execution_count": 14,
   "metadata": {},
   "outputs": [
    {
     "data": {
      "image/png": "[encoded data removed]",
      "text/plain": [
       "<Figure size 1008x720 with 4 Axes>"
      ]
     },
     "metadata": {
      "needs_background": "light"
     },
     "output_type": "display_data"
    }
   ],
   "source": [
    "rcParams['figure.figsize'] = (14, 10)\n",
    "\n",
    "# Get the different arrays\n",
    "z = f.flame.grid\n",
    "T = f.T\n",
    "u = f.u\n",
    "ifuel = gas.species_index('CH4')\n",
    "\n",
    "fig=figure(1)\n",
    "\n",
    "# create first subplot - adiabatic flame temperature\n",
    "a=fig.add_subplot(221)\n",
    "a.plot(z,T)\n",
    "title(r'$T_{adiabatic}$ vs. Position', fontsize=15)\n",
    "xlabel(r'Position [m]')\n",
    "ylabel(\"Adiabatic Flame Temperature [K]\")\n",
    "a.xaxis.set_major_locator(MaxNLocator(10)) # this controls the number of tick marks on the axis\n",
    "\n",
    "# create second subplot - velocity\n",
    "b=fig.add_subplot(222)\n",
    "b.plot(z,u)\n",
    "title(r'Velocity vs. Position', fontsize=15)\n",
    "xlabel(r'Position [m]')\n",
    "ylabel(\"velocity [m/s]\")\n",
    "b.xaxis.set_major_locator(MaxNLocator(10)) \n",
    "\n",
    "# create third subplot - rho\n",
    "c=fig.add_subplot(223)\n",
    "p = zeros(f.flame.n_points,'d')\n",
    "for n in range(f.flame.n_points):\n",
    "    f.set_gas_state(n)\n",
    "    p[n]= gas.density_mass\n",
    "c.plot(z,p)\n",
    "title(r'Rho vs. Position', fontsize=15)\n",
    "xlabel(r'Position [m]')\n",
    "ylabel(\"Rho [$kg/m^3$]\")\n",
    "c.xaxis.set_major_locator(MaxNLocator(10)) \n",
    "\n",
    "\n",
    "# create fourth subplot - specie CH4\n",
    "d=fig.add_subplot(224)\n",
    "ch4 = zeros(f.flame.n_points,'d')\n",
    "for n in range(f.flame.n_points):\n",
    "    f.set_gas_state(n)\n",
    "    ch4[n]= gas.Y[ifuel]\n",
    "d.plot(z,ch4)\n",
    "title(r'CH4 vs. Position', fontsize=15)\n",
    "xlabel(r'Position [m]')\n",
    "ylabel(\"CH4 Mole Fraction\")\n",
    "d.xaxis.set_major_locator(MaxNLocator(10))\n",
    "\n",
    "# Set title\n",
    "fig.text(0.5,0.95,r'Adiabatic $CH_{4}$ + Air Free Flame at Phi = 0.8 Ti = 600K and P = 1atm',fontsize=22,horizontalalignment='center')\n",
    "\n",
    "subplots_adjust(left=0.08, right=0.96, wspace=0.25, hspace=0.25)"
   ]
  },
  {
   "cell_type": "markdown",
   "metadata": {},
   "source": [
    "<div class=\"alert alert-danger \"><b> The plots here describe the flame front. The evolution of the variables and the different values seem coherent with the simulation.  </b></div>"
   ]
  },
  {
   "cell_type": "markdown",
   "metadata": {},
   "source": [
    "## 2. A burner-stabilized rich premixed methane-oxygen flame at low pressure"
   ]
  },
  {
   "cell_type": "markdown",
   "metadata": {},
   "source": [
    "<p class=\"bg-primary\" style=\"padding:1em\"> This script will show you the creation of a burner. This is basically the same thing as a premixed flame, except that the flame is stabilized on a burner and not freely proapagating. </p> "
   ]
  },
  {
   "cell_type": "markdown",
   "metadata": {},
   "source": [
    "![title](Images/burnervsfree.pdf)\n",
    "From R.J. Kee, M.E. Coltrin and P. Glarborg *Chemically Reacting Flow*"
   ]
  },
  {
   "cell_type": "markdown",
   "metadata": {},
   "source": [
    "### 2.1 Initial solution"
   ]
  },
  {
   "cell_type": "markdown",
   "metadata": {},
   "source": [
    "<div class=\"alert alert-danger \"><b> Try to set a solution from :<br>\n",
    "- the gri30 mechanism (CH4/air flame) <br>\n",
    "- with a pressure of 1 bar, a temperature of 373 K, an equivalence ratio of 1.3\n",
    "<b></div>"
   ]
  },
  {
   "cell_type": "code",
   "execution_count": 15,
   "metadata": {},
   "outputs": [],
   "source": [
    "# Import gas phases with mixture transport model\n",
    "gas = ct.Solution('gri30.cti')\n",
    "\n",
    "# Parameter values :\n",
    "# General\n",
    "p = 1e5  # pressure\n",
    "tin = 373  # unburned gas temperature\n",
    "phi = 1.3\n",
    "\n",
    "fuel = 'CH4: 1'\n",
    "oxidizer = 'O2:1.0, N2:3.76'\n",
    "\n",
    "# Set gas state to that of the unburned gas\n",
    "gas.TP = tin, p\n",
    "gas.set_equivalence_ratio(phi, fuel, oxidizer)"
   ]
  },
  {
   "cell_type": "markdown",
   "metadata": {},
   "source": [
    "<div class=\"alert alert-danger \"><b> Try to construct a BurnerFlame of width 2 cm and implement the limit conditions (f.burner instead of f.inlet for this case).\n",
    "<b></div>"
   ]
  },
  {
   "cell_type": "code",
   "execution_count": 16,
   "metadata": {},
   "outputs": [],
   "source": [
    "f = ct.BurnerFlame(gas, width=0.2)\n",
    "\n",
    "f.burner.T =  gas.T\n",
    "f.burner.X =  gas.X              # Conditions\n",
    "\n",
    "mdot = 0.04\n",
    "f.burner.mdot = mdot"
   ]
  },
  {
   "cell_type": "markdown",
   "metadata": {},
   "source": [
    "Here, the strategy is, as above, a four step calculation. For the purpose of this training, we have commented lines so that the result is only done in one calculation.<br>\n",
    "As you might notice, the calculation works and it converges, but it takes more time than doing it by running four calculations.<br>\n",
    "Therefore, the choice is entirely yours and dependent on the fuel you are using (heptane will take more time to converge than methane for instance).<br><br>\n",
    "It is possible that your flame does not converge in some simulations (sometimes, the Newton solver used to compute the flame is crashing if the chemistry is too sharp - meaning that the chemical timesteps are very small - or for other reasons). You have several parameters that you can play on to make it work :\n",
    "- increase or decrease the tolerances for steady-state and time stepping (whether absolute or relative).\n",
    "- increase your ratio in the refine criteria.\n",
    "- take a slower time step with more steps.<br>\n",
    "\n",
    "NB : If you do not want the solver to plot the lines of computing, just uncomment the **%%capture** command.<br>\n",
    "NB2 : Note that two functions might be useful for your future developments :\n",
    "- if you want to **save** a solution in a xml file, you can use the <code>save()</code> function on the freeflame object.\n",
    "- if you want to **restore** a solution from a xml file, you can use the <code>restore()</code> function. This is very useful if you want to analyse old results or if you want a flame to converge without starting from a linear initialization.\n",
    "\n",
    "NB3 : To specify the grid refinement criteria, it is possible to set the function <code>set_refine_criteria</code> with correct values. This enables to have more control on the way the solver refine the curve. The different fields definitions are :<br>\n",
    "- **ratio** : additional points will be added if the ratio of the spacing on either side of a grid point exceeds\n",
    "this value\n",
    "- **slope** : maximum difference in value between two adjacent points, scaled by the maximum difference in the profile (0.0 < slope < 1.0). Adds points in regions of high slope.\n",
    "- **curve** : maximum difference in slope between two adjacent intervals, scaled by the maximum difference in the profile (0.0 < curve < 1.0). Adds points in regions of high curvature.\n",
    "- **prune** : if the slope or curve criteria are satisfied to the level of prune, the grid point is assumed not to be needed and is removed. Set prune significantly smaller than slope and curve. Set to zero to disable pruning the grid.<br>\n",
    "For a first computation, it is best to put the ratio value to a sufficiently high value; and to let the\n",
    "'slope' and 'curve' values to 1. Use 'prune' if you see that Cantera tries to refine your grid too much,\n",
    "and that the number of points starts to exceed a reasonable value (approximately 200 points is enough)."
   ]
  },
  {
   "cell_type": "code",
   "execution_count": 17,
   "metadata": {
    "scrolled": true
   },
   "outputs": [
    {
     "name": "stdout",
     "output_type": "stream",
     "text": [
      "\n",
      "..............................................................................\n",
      "Attempt Newton solution of steady-state problem...    failure. \n",
      "Take 1 timesteps       1.5e-05      5.342\n",
      "Attempt Newton solution of steady-state problem...    failure. \n",
      "Take 2 timesteps     3.375e-05      4.579\n",
      "Attempt Newton solution of steady-state problem...    failure. \n",
      "Take 5 timesteps     0.0002563      3.704\n",
      "Attempt Newton solution of steady-state problem...    failure. \n",
      "Take 10 timesteps     0.0001539      5.737\n",
      "Attempt Newton solution of steady-state problem...    failure. \n",
      "Take 20 timesteps      0.004213      4.328\n",
      "Attempt Newton solution of steady-state problem...    failure. \n",
      "Take 20 timesteps          0.82      2.376\n",
      "Attempt Newton solution of steady-state problem...    success.\n",
      "\n",
      "Problem solved on [7] point grid(s).\n",
      "\n",
      "..............................................................................\n",
      "##############################################################################\n",
      "Refining grid in flame.\n",
      "    New points inserted after grid points 0 1 2 3 4 \n",
      "    to resolve C2H C2H2 C2H3 C2H4 C2H5 C2H6 CH CH2 CH2(S) CH2CO CH2O CH2OH CH3 CH3OH CH4 CO CO2 H H2 H2O HCCO HCCOH HCN HCNO HCO HNCO HNO HO2 HOCN N2 N2O NH NH2 NH3 NO O O2 OH T u \n",
      "##############################################################################\n",
      "\n",
      "..............................................................................\n",
      "Attempt Newton solution of steady-state problem...    failure. \n",
      "Take 1 timesteps       1.5e-05      5.158\n",
      "Attempt Newton solution of steady-state problem...    failure. \n",
      "Take 2 timesteps     3.375e-05      4.495\n",
      "Attempt Newton solution of steady-state problem...    failure. \n",
      "Take 5 timesteps     0.0002563      3.418\n",
      "Attempt Newton solution of steady-state problem...    failure. \n",
      "Take 10 timesteps      0.009853       3.65\n",
      "Attempt Newton solution of steady-state problem...    failure. \n",
      "Take 20 timesteps         2.876      1.464\n",
      "Attempt Newton solution of steady-state problem...    success.\n",
      "\n",
      "Problem solved on [12] point grid(s).\n",
      "\n",
      "..............................................................................\n",
      "##############################################################################\n",
      "Refining grid in flame.\n",
      "    New points inserted after grid points 0 1 2 3 6 10 \n",
      "    to resolve C C2H2 C2H4 C2H6 CH CH2 CH2(S) CH2CO CH2O CH2OH CH3 CH3O CH3OH CH4 CN CO CO2 H H2 H2O H2O2 HCCO HCCOH HCN HCNO HCO HNCO HNO HO2 HOCN N N2 N2O NCO NH NH2 NH3 NO NO2 O O2 OH T point 10 u \n",
      "##############################################################################\n",
      "\n",
      "..............................................................................\n",
      "Attempt Newton solution of steady-state problem...    failure. \n",
      "Take 1 timesteps         1e-05      5.829\n",
      "Attempt Newton solution of steady-state problem...    failure. \n",
      "Take 2 timesteps      2.25e-05      5.311\n",
      "Attempt Newton solution of steady-state problem...    failure. \n",
      "Take 5 timesteps     0.0001709      4.713\n",
      "Attempt Newton solution of steady-state problem...    failure. \n",
      "Take 10 timesteps     4.561e-05      5.908\n",
      "Attempt Newton solution of steady-state problem...    failure. \n",
      "Take 20 timesteps      0.008427      3.701\n",
      "Attempt Newton solution of steady-state problem...    failure. \n",
      "Take 20 timesteps     2.815e-05      5.759\n",
      "Attempt Newton solution of steady-state problem...    failure. \n",
      "Take 20 timesteps       0.04161      3.064\n",
      "Attempt Newton solution of steady-state problem...    failure. \n",
      "Take 20 timesteps         61.49    -0.9595\n",
      "Attempt Newton solution of steady-state problem...    success.\n",
      "\n",
      "Problem solved on [18] point grid(s).\n",
      "\n",
      "..............................................................................\n",
      "##############################################################################\n",
      "Refining grid in flame.\n",
      "    New points inserted after grid points 0 1 2 3 \n",
      "    to resolve C C2H C2H2 C2H3 C2H4 C2H5 C2H6 C3H8 CH CH2 CH2(S) CH2CO CH2O CH2OH CH3 CH3CHO CH3O CH3OH CH4 CN CO CO2 H H2 H2O H2O2 HCCO HCCOH HCN HCNO HCO HNCO HNO HO2 HOCN N N2 N2O NCO NH NH2 NH3 NO NO2 O O2 OH T u \n",
      "##############################################################################\n",
      "\n",
      "..............................................................................\n",
      "Attempt Newton solution of steady-state problem...    failure. \n",
      "Take 1 timesteps         1e-05      5.833\n",
      "Attempt Newton solution of steady-state problem...    failure. \n",
      "Take 2 timesteps      2.25e-05      5.459\n",
      "Attempt Newton solution of steady-state problem...    failure. \n",
      "Take 5 timesteps     0.0001139      5.176\n",
      "Attempt Newton solution of steady-state problem...    failure. \n",
      "Take 10 timesteps     6.082e-05      5.505\n",
      "Attempt Newton solution of steady-state problem...    failure. \n",
      "Take 20 timesteps     3.292e-05      6.524\n",
      "Attempt Newton solution of steady-state problem...    failure. \n",
      "Take 20 timesteps      0.004805      4.102\n",
      "Attempt Newton solution of steady-state problem...    failure. \n",
      "Take 20 timesteps         2.104    -0.3803\n",
      "Attempt Newton solution of steady-state problem...    success.\n",
      "\n",
      "Problem solved on [22] point grid(s).\n",
      "\n",
      "..............................................................................\n",
      "##############################################################################\n",
      "Refining grid in flame.\n",
      "    New points inserted after grid points 0 1 2 3 4 12 \n",
      "    to resolve C C2H C2H2 C2H3 C2H4 C2H5 C2H6 C3H8 CH CH2 CH2(S) CH2CHO CH2CO CH2O CH2OH CH3 CH3CHO CH3O CH3OH CH4 CO CO2 H H2 H2O H2O2 HCCO HCCOH HCN HCNO HCO HNCO HNO HO2 HOCN N N2 N2O NCO NH NH2 NH3 NO NO2 O O2 OH T u \n",
      "##############################################################################\n",
      "\n",
      "..............................................................................\n",
      "Attempt Newton solution of steady-state problem...    failure. \n",
      "Take 1 timesteps       1.5e-05      5.519\n",
      "Attempt Newton solution of steady-state problem...    failure. \n",
      "Take 2 timesteps     3.375e-05      5.143\n",
      "Attempt Newton solution of steady-state problem...    failure. \n",
      "Take 5 timesteps     0.0002563      4.954\n",
      "Attempt Newton solution of steady-state problem...    failure. \n",
      "Take 10 timesteps       0.00146      4.593\n",
      "Attempt Newton solution of steady-state problem...    failure. \n",
      "Take 20 timesteps      0.004994      4.151\n",
      "Attempt Newton solution of steady-state problem...    failure. \n",
      "Take 20 timesteps          3.28      1.092\n",
      "Attempt Newton solution of steady-state problem...    success.\n",
      "\n",
      "Problem solved on [28] point grid(s).\n",
      "\n",
      "..............................................................................\n",
      "##############################################################################\n",
      "Refining grid in flame.\n",
      "    New points inserted after grid points 0 1 2 3 4 5 \n",
      "    to resolve C2H C2H2 C2H3 C2H4 C2H5 C2H6 C3H8 CH2 CH2(S) CH2CHO CH2CO CH2O CH2OH CH3 CH3CHO CH3O CH3OH CH4 CO CO2 H H2 H2O H2O2 HCCO HCCOH HCN HCNO HCO HNCO HO2 N2 N2O NH3 NO NO2 O O2 OH T u \n",
      "##############################################################################\n",
      "\n",
      "..............................................................................\n",
      "Attempt Newton solution of steady-state problem...    success.\n",
      "\n",
      "Problem solved on [34] point grid(s).\n",
      "\n",
      "..............................................................................\n",
      "##############################################################################\n",
      "Refining grid in flame.\n",
      "    New points inserted after grid points 0 1 2 3 4 5 6 7 \n",
      "    to resolve C2H C2H2 C2H3 C2H4 C2H5 C2H6 C3H7 C3H8 CH CH2 CH2(S) CH2CHO CH2CO CH2O CH2OH CH3 CH3CHO CH3O CH3OH CH4 CO CO2 H H2 H2O H2O2 HCCO HCCOH HCN HCNO HCO HNCO HO2 N2 NH2 NH3 NO NO2 O O2 OH T u \n",
      "##############################################################################\n",
      "\n",
      "..............................................................................\n",
      "Attempt Newton solution of steady-state problem...    success.\n",
      "\n",
      "Problem solved on [42] point grid(s).\n",
      "\n",
      "..............................................................................\n",
      "##############################################################################\n",
      "Refining grid in flame.\n",
      "    New points inserted after grid points 0 1 2 3 4 5 6 7 8 9 10 11 12 \n",
      "    to resolve C2H C2H2 C2H3 C2H4 C2H5 C2H6 C3H8 CH2 CH2(S) CH2CHO CH2CO CH2O CH2OH CH3 CH3CHO CH3O CH3OH CH4 CO CO2 H H2 H2O H2O2 HCCO HCCOH HCN HCNO HCO HNCO HO2 N2 NO NO2 O O2 OH T u \n",
      "##############################################################################\n",
      "\n",
      "..............................................................................\n",
      "Attempt Newton solution of steady-state problem...    success.\n",
      "\n",
      "Problem solved on [55] point grid(s).\n",
      "\n",
      "..............................................................................\n",
      "##############################################################################\n",
      "Refining grid in flame.\n",
      "    New points inserted after grid points 0 1 2 3 4 5 6 7 8 9 10 11 12 13 14 15 16 17 18 19 \n",
      "    to resolve C2H2 C2H3 C2H4 C2H5 C2H6 C3H8 CH2 CH2CHO CH2CO CH2O CH2OH CH3 CH3CHO CH3O CH3OH CO H H2O2 HCCO HCCOH HCO HO2 N2 NO2 O OH \n",
      "##############################################################################\n",
      "\n",
      "..............................................................................\n",
      "Attempt Newton solution of steady-state problem...    success.\n",
      "\n",
      "Problem solved on [75] point grid(s).\n",
      "\n",
      "..............................................................................\n",
      "##############################################################################\n",
      "Refining grid in flame.\n",
      "    New points inserted after grid points 8 9 10 13 14 15 16 17 18 19 20 21 22 23 24 25 26 27 28 29 30 31 \n",
      "    to resolve C2H3 C2H4 C2H5 C2H6 C3H8 CH2 CH2CHO CH2CO CH2O CH3 CH3CHO H H2O2 HCCO HCO HO2 O OH \n",
      "##############################################################################\n",
      "\n",
      "..............................................................................\n",
      "Attempt Newton solution of steady-state problem...    success.\n",
      "\n",
      "Problem solved on [97] point grid(s).\n",
      "\n",
      "..............................................................................\n",
      "no new points needed in flame\n",
      "Solution saved to file 4-Output/ch4_burner_flame.xml as solution energy_soret.\n"
     ]
    }
   ],
   "source": [
    "#%%capture\n",
    "#################\n",
    "#f.energy_enabled = False\n",
    "\n",
    "tol_ss = [1.0e-5, 1.0e-9]  # [rtol atol] for steady-state\n",
    "tol_ts = [1.0e-5, 1.0e-4]  # [rtol atol] for time stepping\n",
    "\n",
    "f.flame.set_steady_tolerances(default=tol_ss)\n",
    "f.flame.set_transient_tolerances(default=tol_ts)\n",
    "\n",
    "f.set_refine_criteria(ratio=10.0, slope=1, curve=1)\n",
    "\n",
    "f.set_max_jac_age(50, 50)\n",
    "\n",
    "f.set_time_step(1.0e-5, [1, 2, 5, 10, 20])\n",
    "\n",
    "loglevel = 1  # amount of diagnostic output (0 to 5)\n",
    "\n",
    "#refine_grid = 'refine'  # True to enable refinement, False to\n",
    "\n",
    "#f.solve(loglevel, refine_grid)\n",
    "\n",
    "#f.save('4-Output/ch4_burner_flame.xml', 'no_energy',\n",
    "#       'solution with the energy equation disabled')\n",
    "\n",
    "#################\n",
    "f.energy_enabled = True\n",
    "\n",
    "f.set_refine_criteria(ratio=3.0, slope=0.1, curve=0.2)\n",
    "\n",
    "#f.solve(loglevel, refine_grid='refine')\n",
    "\n",
    "#f.save('4-Output/ch4_burner_flame.xml', 'energy',\n",
    "#       'solution with the energy equation enabled')\n",
    "\n",
    "#################\n",
    "f.transport_model = 'Multi'\n",
    "\n",
    "#f.solve(loglevel, refine_grid='refine')\n",
    "\n",
    "#f.save('4-Output/ch4_burner_flame.xml', 'energy_multi',\n",
    "#       'solution with the energy equation enabled and multicomponent transport')\n",
    "\n",
    "#################\n",
    "f.soret_enabled = True\n",
    "\n",
    "f.solve(loglevel, refine_grid='refine')\n",
    "\n",
    "f.save('4-Output/ch4_burner_flame.xml', 'energy_soret',\n",
    "       'solution with the energy equation enabled and multicomponent transport')\n"
   ]
  },
  {
   "cell_type": "markdown",
   "metadata": {},
   "source": [
    "<div class=\"alert alert-danger \"><b> Here the plot is for the temperature. Try to change it to plot the laminar flame speed.\n",
    "<b></div>"
   ]
  },
  {
   "cell_type": "code",
   "execution_count": 18,
   "metadata": {},
   "outputs": [
    {
     "data": {
      "image/png": "[encoded data removed]",
      "text/plain": [
       "<Figure size 1008x720 with 1 Axes>"
      ]
     },
     "metadata": {
      "needs_background": "light"
     },
     "output_type": "display_data"
    },
    {
     "name": "stdout",
     "output_type": "stream",
     "text": [
      "Solution saved to '4-Output/ch4_burner_flame.csv'.\n"
     ]
    }
   ],
   "source": [
    "import matplotlib.pyplot as plt\n",
    "plt.plot(f.grid, f.u)\n",
    "plt.xlabel('grid (m)',fontsize=15)\n",
    "plt.ylabel('Laminar flame speed ($m/s$)',fontsize=15)\n",
    "plt.title('Laminar flame speed vs x-axis for an equivalence ratio of 1.3', fontsize=20)\n",
    "plt.show()\n",
    "\n",
    "f.write_csv('4-Output/ch4_burner_flame.csv', quiet=False)"
   ]
  },
  {
   "cell_type": "markdown",
   "metadata": {},
   "source": [
    "NB : This type of flame is not used in practice as most of the combustion chambers are based on the study of premixed flames configurations.. Nevertheless, it can be useful for some special configurations that you may want to study.<br>\n",
    "Next, we will see the **counter-flow diffusion flame** as this is an important configuration to study when studying a combustion chamber. However, if you need to look for other types, some more are available (see above)."
   ]
  },
  {
   "cell_type": "markdown",
   "metadata": {},
   "source": [
    "## 3. An opposed-flow ethane/air diffusion flame"
   ]
  },
  {
   "cell_type": "markdown",
   "metadata": {},
   "source": [
    "A counter-flow diffusion flame is basically a flame where the oxidizer and the fuel meet to burn (they are not mixed before burning, contrary to the two others types that we have seen before)."
   ]
  },
  {
   "cell_type": "markdown",
   "metadata": {},
   "source": [
    "![title](Images/CDF.png)\n",
    "From Pfitzner, Michael & Müller, Hagen & Ferraro, Federica. (2013). Implementation of a Steady Laminar Flamelet Model for nonpremixed combustion in LES and RANS simulations. "
   ]
  },
  {
   "cell_type": "markdown",
   "metadata": {},
   "source": [
    "First of all, the solution object is instanciated as usual. The mass flow rate of the oxidizer and the fuel have been fitted so that the flame is in stoichiometric conditions. In addition to the composition, the temperature and the pressure, the density and the mass flow rate are given. By dividing the second by the first, the velocity of each gases is given which leads to the calculation of the strain rate, an important parameter to counter-flow diffusion flame."
   ]
  },
  {
   "cell_type": "code",
   "execution_count": 21,
   "metadata": {},
   "outputs": [
    {
     "name": "stdout",
     "output_type": "stream",
     "text": [
      "Velocity of the fuel : 0.19953599999999996\n",
      "Velocity of the oxidizer : 0.6192496551724137\n",
      "Strain rate of the diffusion flame : 40.93928275862068\n"
     ]
    }
   ],
   "source": [
    "gas = ct.Solution('gri30.xml', 'gri30_mix')\n",
    "\n",
    "p = 1e5  # pressure\n",
    "\n",
    "comp_f = 'C2H6:1'                       # fuel composition\n",
    "tin_f = 300.0                           # fuel inlet temperature\n",
    "\n",
    "rho_f = p / (8.314 / 0.030 * tin_f)     # fuel inlet density\n",
    "mdot_f = 0.24                           # fuel inlet mass flow rate (kg/m^2/s)\n",
    "vel_f = mdot_f / rho_f                  # fuel inlet velocity\n",
    "print('Velocity of the fuel : ' + str(vel_f))\n",
    "\n",
    "comp_o = 'O2:0.21, N2:0.78, AR:0.01'    # oxidizer composition\n",
    "tin_o = 300.0                           # oxidizer inlet temperature\n",
    "\n",
    "rho_o = p / (8.314 / 0.029 * tin_o)     # oxidizer inlet density\n",
    "mdot_o = 0.72                           # oxidizer inlet mass flow rate (kg/m^2/s)\n",
    "vel_o = mdot_o / rho_o                  # oxidizer inlet velocity\n",
    "print('Velocity of the oxidizer : ' + str(vel_o))\n",
    "\n",
    "gas.TP = tin_o, p\n",
    "\n",
    "width = 0.02\n",
    "a = (vel_o + vel_f) / width              # calculation of the strain rate (s^-1)\n",
    "print('Strain rate of the diffusion flame : ' + str(a))"
   ]
  },
  {
   "cell_type": "markdown",
   "metadata": {},
   "source": [
    "This will instanciate the counterflow diffusion flame. As you might notice, and this is valid for all the other cases, you can instanciate the initial grid yourself. This allows you to refine the grid when you want. This can be a good trick when your simulation is crashing and you want to compute it again.<br><br>\n",
    "As far as the inlets are concerned, the composition, temperature and mass flow rate needs to be specified."
   ]
  },
  {
   "cell_type": "code",
   "execution_count": 22,
   "metadata": {},
   "outputs": [],
   "source": [
    "initial_grid = np.linspace(0, width, 6)\n",
    "f = ct.CounterflowDiffusionFlame(gas, initial_grid)\n",
    "\n",
    "# Set the state of the two inlets\n",
    "f.fuel_inlet.mdot = mdot_f\n",
    "f.fuel_inlet.X = comp_f\n",
    "f.fuel_inlet.T = tin_f\n",
    "\n",
    "f.oxidizer_inlet.mdot = mdot_o\n",
    "f.oxidizer_inlet.X = comp_o\n",
    "f.oxidizer_inlet.T = tin_o"
   ]
  },
  {
   "cell_type": "markdown",
   "metadata": {},
   "source": [
    "This starts the calculation of the counterflow diffusion flame. By experience, you will see that, out of this wonderful tutorial case, diffusion flames are hard to converge. You can either play with the size of the domain and every parameter said all along the tutorial (indeed, sometimes it converges better if the domain is smaller), or you can try a method that is developed here in CERFACS that resolves **the diffusion flame in the z-space**.<br>\n",
    "If you want some more information about that, come and ask the chemistry team of cerfacs."
   ]
  },
  {
   "cell_type": "code",
   "execution_count": 23,
   "metadata": {
    "scrolled": true
   },
   "outputs": [
    {
     "name": "stdout",
     "output_type": "stream",
     "text": [
      "\n",
      "..............................................................................\n",
      "Attempt Newton solution of steady-state problem...    failure. \n",
      "Take 10 timesteps     2.848e-05      4.327\n",
      "Attempt Newton solution of steady-state problem...    failure. \n",
      "Take 10 timesteps     0.0007298      3.785\n",
      "Attempt Newton solution of steady-state problem...    failure. \n",
      "Take 10 timesteps       0.01247        1.5\n",
      "Attempt Newton solution of steady-state problem...    success.\n",
      "\n",
      "Problem solved on [6] point grid(s).\n",
      "\n",
      "..............................................................................\n",
      "grid refinement disabled.\n",
      "\n",
      "..............................................................................\n",
      "Attempt Newton solution of steady-state problem...    failure. \n",
      "Take 10 timesteps     0.0002563      5.361\n",
      "Attempt Newton solution of steady-state problem...    failure. \n",
      "Take 10 timesteps      0.001297      4.781\n",
      "Attempt Newton solution of steady-state problem...    success.\n",
      "\n",
      "Problem solved on [6] point grid(s).\n",
      "\n",
      "..............................................................................\n",
      "##############################################################################\n",
      "Refining grid in flame.\n",
      "    New points inserted after grid points 0 1 2 3 \n",
      "    to resolve AR C2H C2H2 C2H3 C2H4 C2H5 C2H6 C3H7 C3H8 CH CH2 CH2(S) CH2CHO CH2CO CH2O CH2OH CH3 CH3CHO CH3O CH3OH CH4 CO CO2 H H2 H2CN H2O H2O2 HCCO HCCOH HCN HCNO HCO HNCO HO2 N2 NH2 NH3 NO NO2 O O2 OH T u \n",
      "##############################################################################\n",
      "\n",
      "..............................................................................\n",
      "Attempt Newton solution of steady-state problem...    failure. \n",
      "Take 10 timesteps     1.602e-05      6.866\n",
      "Attempt Newton solution of steady-state problem...    failure. \n",
      "Take 10 timesteps     6.082e-05      5.774\n",
      "Attempt Newton solution of steady-state problem...    failure. \n",
      "Take 10 timesteps     0.0006928      5.162\n",
      "Attempt Newton solution of steady-state problem...    failure. \n",
      "Take 10 timesteps      0.005261      3.914\n",
      "Attempt Newton solution of steady-state problem...    success.\n",
      "\n",
      "Problem solved on [10] point grid(s).\n",
      "\n",
      "..............................................................................\n",
      "##############################################################################\n",
      "Refining grid in flame.\n",
      "    New points inserted after grid points 1 2 3 4 5 \n",
      "    to resolve C2H2 C2H3 C2H4 C2H5 C2H6 C3H7 C3H8 CH2 CH2CHO CH2CO CH2O CH2OH CH3 CH3CHO CH3O CH3OH CH4 CO CO2 H H2 H2O H2O2 HCCO HCCOH HCN HCNO HCO HNCO HO2 N2O NH3 NO NO2 O O2 OH T u \n",
      "##############################################################################\n",
      "\n",
      "..............................................................................\n",
      "Attempt Newton solution of steady-state problem...    failure. \n",
      "Take 10 timesteps     0.0001139       5.45\n",
      "Attempt Newton solution of steady-state problem...    failure. \n",
      "Take 10 timesteps      0.001297      4.582\n",
      "Attempt Newton solution of steady-state problem...    success.\n",
      "\n",
      "Problem solved on [15] point grid(s).\n",
      "\n",
      "..............................................................................\n",
      "##############################################################################\n",
      "Refining grid in flame.\n",
      "    New points inserted after grid points 2 3 4 5 6 7 8 \n",
      "    to resolve C C2H C2H2 C2H3 C2H5 C3H7 C3H8 CH CH2 CH2(S) CH2CHO CH2CO CH2O CH2OH CH3 CH3OH CH4 CN CO H H2 H2O2 HCCO HCCOH HCN HCNO HCO HNCO HO2 N N2O NCO NH NH2 NH3 NO NO2 O O2 OH T \n",
      "##############################################################################\n",
      "\n",
      "..............................................................................\n",
      "Attempt Newton solution of steady-state problem...    failure. \n",
      "Take 10 timesteps     0.0001709      4.947\n",
      "Attempt Newton solution of steady-state problem...    success.\n",
      "\n",
      "Problem solved on [22] point grid(s).\n",
      "\n",
      "..............................................................................\n",
      "##############################################################################\n",
      "Refining grid in flame.\n",
      "    New points inserted after grid points 3 4 6 7 8 9 10 11 12 \n",
      "    to resolve C C2H C2H3 C2H4 C2H5 C3H7 C3H8 CH CH2 CH2(S) CH2O CH2OH CH3 CH3O CN CO2 H H2O2 HCCO HCCOH HCN HCNO HCO HNCO HNO HO2 HOCN N N2O NCO NH NH2 NO O OH \n",
      "##############################################################################\n",
      "\n",
      "..............................................................................\n",
      "Attempt Newton solution of steady-state problem...    success.\n",
      "\n",
      "Problem solved on [31] point grid(s).\n",
      "\n",
      "..............................................................................\n",
      "##############################################################################\n",
      "Refining grid in flame.\n",
      "    New points inserted after grid points 12 13 14 15 19 20 \n",
      "    to resolve C C2H CH CH2 CH2(S) CH2O CH2OH CN H H2O2 HCCO HCCOH HCO HNO HOCN N NCO NH NH2 NO \n",
      "##############################################################################\n",
      "\n",
      "..............................................................................\n",
      "Attempt Newton solution of steady-state problem...    success.\n",
      "\n",
      "Problem solved on [37] point grid(s).\n",
      "\n",
      "..............................................................................\n",
      "##############################################################################\n",
      "Refining grid in flame.\n",
      "    New points inserted after grid points 15 16 \n",
      "    to resolve C CH CN HCO N \n",
      "##############################################################################\n",
      "\n",
      "..............................................................................\n",
      "Attempt Newton solution of steady-state problem...    success.\n",
      "\n",
      "Problem solved on [39] point grid(s).\n",
      "\n",
      "..............................................................................\n",
      "no new points needed in flame\n",
      "Solution saved to file c2h6_diffusion.xml as solution energy.\n",
      "\n",
      "..............................................................................\n",
      "Attempt Newton solution of steady-state problem...    success.\n",
      "\n",
      "Problem solved on [39] point grid(s).\n",
      "\n",
      "..............................................................................\n",
      "##############################################################################\n",
      "Refining grid in flame.\n",
      "    New points inserted after grid points 0 1 2 3 4 5 6 7 8 9 10 11 12 13 14 15 16 17 18 19 20 21 22 23 24 25 26 27 28 29 30 33 \n",
      "    to resolve AR C C2H C2H2 C2H3 C2H4 C2H5 C2H6 C3H7 C3H8 CH CH2 CH2(S) CH2CHO CH2CO CH2O CH2OH CH3 CH3CHO CH3OH CH4 CN CO CO2 H H2 H2O2 HCCO HCCOH HCN HCNO HCO HNCO HNO HO2 HOCN N N2 N2O NCO NH NH2 NH3 NO NO2 O O2 OH V point 2 point 22 point 33 point 7 \n",
      "##############################################################################\n",
      "\n",
      "..............................................................................\n",
      "Attempt Newton solution of steady-state problem...    failure. \n",
      "Take 10 timesteps     0.0003844      4.223\n",
      "Attempt Newton solution of steady-state problem...    failure. \n",
      "Take 10 timesteps      0.009853      3.041\n",
      "Attempt Newton solution of steady-state problem...    success.\n",
      "\n",
      "Problem solved on [71] point grid(s).\n",
      "\n",
      "..............................................................................\n",
      "##############################################################################\n",
      "Refining grid in flame.\n",
      "    New points inserted after grid points 5 8 10 11 12 13 14 15 17 18 19 20 21 22 23 24 26 27 28 29 30 31 32 33 34 38 44 45 46 47 48 49 50 51 52 53 54 \n",
      "    to resolve C C2H C2H2 C2H3 C2H4 C2H5 C3H7 C3H8 CH CH2 CH2(S) CH2CHO CH2CO CH2O CH2OH CH3 CH3OH CH4 H2O2 HCCO HCCOH HCN HCNO HCO HO2 N N2O NCO NH2 NO2 O OH point 15 point 44 point 5 \n",
      "##############################################################################\n",
      "\n",
      "..............................................................................\n",
      "Attempt Newton solution of steady-state problem...    success.\n",
      "\n",
      "Problem solved on [108] point grid(s).\n",
      "\n",
      "..............................................................................\n",
      "##############################################################################\n",
      "Refining grid in flame.\n",
      "    New points inserted after grid points 11 17 36 37 38 41 48 49 50 79 80 81 82 \n",
      "    to resolve C C2H C2H3 C3H7 CH2 H2O2 HCCO HO2 \n",
      "##############################################################################\n",
      "\n",
      "..............................................................................\n",
      "Attempt Newton solution of steady-state problem...    success.\n",
      "\n",
      "Problem solved on [121] point grid(s).\n",
      "\n",
      "..............................................................................\n",
      "##############################################################################\n",
      "Refining grid in flame.\n",
      "    New points inserted after grid points 15 16 21 22 \n",
      "    to resolve C3H7 \n",
      "##############################################################################\n",
      "\n",
      "..............................................................................\n",
      "Attempt Newton solution of steady-state problem...    success.\n",
      "\n",
      "Problem solved on [125] point grid(s).\n",
      "\n",
      "..............................................................................\n",
      "no new points needed in flame\n",
      "Solution saved to file 4-Output/c2h6_diffusion.xml as solution energy continuation.\n",
      "Solution saved to '4-Output/c2h6_diffusion.csv'.\n"
     ]
    }
   ],
   "source": [
    "#%%capture\n",
    "# First flame:\n",
    "# disable the energy equation\n",
    "f.energy_enabled = False\n",
    "\n",
    "# Set error tolerances\n",
    "tol_ss = [1.0e-5, 1.0e-11]  # [rtol, atol] for steady-state problem\n",
    "tol_ts = [1.0e-5, 1.0e-11]  # [rtol, atol] for time stepping\n",
    "f.flame.set_steady_tolerances(default=tol_ss)\n",
    "f.flame.set_transient_tolerances(default=tol_ts)\n",
    "\n",
    "# and solve the problem without refining the grid\n",
    "f.solve(loglevel=1, refine_grid='disabled')\n",
    "\n",
    "#################\n",
    "# Second flame:\n",
    "# specify grid refinement criteria, turn on the energy equation,\n",
    "f.energy_enabled = True\n",
    "\n",
    "f.set_refine_criteria(ratio=3, slope=0.8, curve=0.8)\n",
    "\n",
    "# and solve the problem again\n",
    "f.solve(loglevel=1, refine_grid='refine')\n",
    "\n",
    "# save your results\n",
    "f.save('4-Output/c2h6_diffusion.xml', 'energy')\n",
    "\n",
    "#################\n",
    "# Third flame:\n",
    "# specify grid refinement criteria, turn on the energy equation,\n",
    "f.energy_enabled = True\n",
    "\n",
    "f.set_refine_criteria(ratio=2, slope=0.2, curve=0.2, prune=0.04)\n",
    "\n",
    "# and solve the problem again\n",
    "f.solve(loglevel=1, refine_grid='refine')\n",
    "\n",
    "# save your results\n",
    "f.save('4-Output/c2h6_diffusion.xml', 'energy continuation')\n",
    "\n",
    "#################################################################\n",
    "# Save your results if needed\n",
    "#################################################################\n",
    "# write the velocity, temperature, and mole fractions to a CSV file\n",
    "f.write_csv('4-Output/c2h6_diffusion.csv', quiet=False)"
   ]
  },
  {
   "cell_type": "markdown",
   "metadata": {},
   "source": [
    "These are interesting quantities to plot, such as the different mass fractions and the temperature of the flame. This is all done in the following graph (with the values being adimensionalised)."
   ]
  },
  {
   "cell_type": "code",
   "execution_count": 24,
   "metadata": {},
   "outputs": [],
   "source": [
    "# Get interesting values\n",
    "z = f.flame.grid\n",
    "T = f.T\n",
    "u = f.u\n",
    "\n",
    "# Get interesting indices for computation of species\n",
    "fuel_species = 'C2H6'\n",
    "ifuel = gas.species_index(fuel_species)\n",
    "io2 = gas.species_index('O2')\n",
    "in2 = gas.species_index('N2')\n",
    "\n",
    "# Initiate interesting vectors\n",
    "c2h6 = np.zeros(f.flame.n_points,'d')\n",
    "o2 = np.zeros(f.flame.n_points,'d')\n",
    "hr = np.zeros(f.flame.n_points,'d')\n",
    "\n",
    "# Computes interesting quantities for analyzing a counter-flow flame\n",
    "for n in range(f.flame.n_points):\n",
    "    f.set_gas_state(n)\n",
    "    c2h6[n]= gas.Y[ifuel]\n",
    "    o2[n]= gas.Y[io2]\n",
    "    hr[n] = - np.dot(gas.net_production_rates, gas.partial_molar_enthalpies)"
   ]
  },
  {
   "cell_type": "code",
   "execution_count": 25,
   "metadata": {},
   "outputs": [
    {
     "data": {
      "image/png": "[encoded data removed]",
      "text/plain": [
       "<Figure size 1008x720 with 1 Axes>"
      ]
     },
     "metadata": {
      "needs_background": "light"
     },
     "output_type": "display_data"
    }
   ],
   "source": [
    "fig=figure(1)\n",
    "\n",
    "a=fig.add_subplot(111)\n",
    "a.plot(z,T/np.max(T),z,c2h6/np.max(c2h6),z,o2/np.max(o2))\n",
    "plt.title(r'$T_{adiabatic}$ vs. Position',fontsize=25)\n",
    "plt.xlabel(r'Position [m]', fontsize=15)\n",
    "plt.ylabel('Normalized values of different quantities',fontsize=15)\n",
    "plt.legend(['Temperature','$Y_{C_2H_6}$', '$Y_{O_2}$'],fontsize=15)\n",
    "show()"
   ]
  },
  {
   "cell_type": "markdown",
   "metadata": {},
   "source": [
    "## 4. Compute your own premixed flame"
   ]
  },
  {
   "cell_type": "markdown",
   "metadata": {},
   "source": [
    "Please go on the website :<br>\n",
    "https://chemistry.cerfacs.fr/fr/"
   ]
  },
  {
   "cell_type": "markdown",
   "metadata": {},
   "source": [
    "You will find the reference website of cerfacs as far as chemistry is concerned. If you go to **Chemical Database** and **Data table**, you will notice that several mechanisms can be used for your computation."
   ]
  },
  {
   "cell_type": "markdown",
   "metadata": {},
   "source": [
    "<div class=\"alert alert-danger \"><b> The task now will be to :<br>\n",
    "- compute two premixed flames : one including the gri30 and the other the Lu.cti (under methane/skeletal on the website).<br>\n",
    "- the flames will be fuel/air at an equivalence ratio of 1.1, a cold gases temperature of 400K and a pressure of 2 bars.<br>\n",
    "- Try to post-process your data by plotting the flame speed of both flames.<br>\n",
    "The solution you are supposed to get is shown below.<br>\n",
    "NB : the transport used should be a mix one.<b></div>"
   ]
  },
  {
   "cell_type": "markdown",
   "metadata": {},
   "source": [
    "![title](Images/Comparison.png)"
   ]
  },
  {
   "cell_type": "markdown",
   "metadata": {},
   "source": [
    "### Here is where you should code your premixed flame"
   ]
  },
  {
   "cell_type": "code",
   "execution_count": 27,
   "metadata": {},
   "outputs": [
    {
     "name": "stdout",
     "output_type": "stream",
     "text": [
      "\n",
      "..............................................................................\n",
      "Attempt Newton solution of steady-state problem...    failure. \n",
      "Take 2 timesteps       1.5e-05      1.861\n",
      "Attempt Newton solution of steady-state problem...    failure. \n",
      "Take 5 timesteps     7.594e-05      1.662\n",
      "Attempt Newton solution of steady-state problem...    failure. \n",
      "Take 10 timesteps      0.001946     0.8802\n",
      "Attempt Newton solution of steady-state problem...    success.\n",
      "\n",
      "Problem solved on [9] point grid(s).\n",
      "\n",
      "..............................................................................\n",
      "grid refinement disabled.\n",
      "\n",
      "..............................................................................\n",
      "Attempt Newton solution of steady-state problem...    failure. \n",
      "Take 2 timesteps      2.25e-05      5.733\n",
      "Attempt Newton solution of steady-state problem...    failure. \n",
      "Take 5 timesteps     1.424e-05      6.463\n",
      "Attempt Newton solution of steady-state problem...    failure. \n",
      "Take 10 timesteps     2.027e-05      6.468\n",
      "Attempt Newton solution of steady-state problem...    success.\n",
      "\n",
      "Problem solved on [9] point grid(s).\n",
      "\n",
      "..............................................................................\n",
      "##############################################################################\n",
      "Refining grid in flame.\n",
      "    New points inserted after grid points 1 2 3 4 \n",
      "    to resolve C C2H2 C2H3 C2H4 C2H5 C2H6 C3H8 CH CH2 CH2(S) CH2CHO CH2CO CH2O CH2OH CH3 CH3CHO CH3O CH3OH CH4 CN CO CO2 H H2 H2O H2O2 HCCO HCN HCNO HCO HNCO HNO HO2 HOCN N N2 N2O NCO NH NH2 NH3 NO NO2 O O2 OH T u \n",
      "##############################################################################\n",
      "\n",
      "..............................................................................\n",
      "Attempt Newton solution of steady-state problem...    failure. \n",
      "Take 2 timesteps       1.5e-05       5.64\n",
      "Attempt Newton solution of steady-state problem...    failure. \n",
      "Take 5 timesteps     5.695e-05      5.853\n",
      "Attempt Newton solution of steady-state problem...    failure. \n",
      "Take 10 timesteps     2.281e-05      5.884\n",
      "Attempt Newton solution of steady-state problem...    success.\n",
      "\n",
      "Problem solved on [13] point grid(s).\n",
      "\n",
      "..............................................................................\n",
      "##############################################################################\n",
      "Refining grid in flame.\n",
      "    New points inserted after grid points 3 4 5 6 7 \n",
      "    to resolve C C2H C2H2 C2H3 C2H4 C2H5 C2H6 C3H7 C3H8 CH CH2 CH2(S) CH2CHO CH2CO CH2O CH2OH CH3 CH3CHO CH3O CH3OH CH4 CN CO CO2 H H2 H2O H2O2 HCCO HCCOH HCN HCNO HCO HNCO HNO HO2 HOCN N N2 N2O NCO NH NH2 NH3 NO NO2 O O2 OH T u \n",
      "##############################################################################\n",
      "\n",
      "..............................................................................\n",
      "Attempt Newton solution of steady-state problem...    failure. \n",
      "Take 2 timesteps      2.25e-05      5.654\n",
      "Attempt Newton solution of steady-state problem...    failure. \n",
      "Take 5 timesteps     0.0001139      5.372\n",
      "Attempt Newton solution of steady-state problem...    failure. \n",
      "Take 10 timesteps     2.027e-05      5.448\n",
      "Attempt Newton solution of steady-state problem...    success.\n",
      "\n",
      "Problem solved on [18] point grid(s).\n",
      "\n",
      "..............................................................................\n",
      "##############################################################################\n",
      "Refining grid in flame.\n",
      "    New points inserted after grid points 5 6 7 8 9 \n",
      "    to resolve C C2H C2H2 C2H3 C2H4 C2H5 C2H6 C3H7 C3H8 CH CH2 CH2(S) CH2CHO CH2CO CH2O CH2OH CH3 CH3CHO CH3O CH3OH CH4 CN CO CO2 H H2 H2O H2O2 HCCO HCCOH HCN HCNN HCNO HCO HNCO HNO HO2 HOCN N N2 N2O NCO NH NH2 NH3 NO NO2 O O2 OH T u \n",
      "##############################################################################\n",
      "\n",
      "..............................................................................\n",
      "Attempt Newton solution of steady-state problem...    success.\n",
      "\n",
      "Problem solved on [23] point grid(s).\n",
      "\n",
      "..............................................................................\n",
      "##############################################################################\n",
      "Refining grid in flame.\n",
      "    New points inserted after grid points 7 8 9 10 11 12 \n",
      "    to resolve C C2H C2H2 C2H3 C2H4 C2H5 C2H6 C3H7 C3H8 CH CH2 CH2(S) CH2CHO CH2CO CH2O CH2OH CH3 CH3CHO CH3O CH3OH CH4 CN CO CO2 H H2 H2O H2O2 HCCO HCCOH HCN HCNO HCO HNCO HNO HO2 HOCN N N2 N2O NCO NH NH2 NH3 NO2 O O2 OH T u \n",
      "##############################################################################\n",
      "\n",
      "..............................................................................\n",
      "Attempt Newton solution of steady-state problem...    success.\n",
      "\n",
      "Problem solved on [29] point grid(s).\n",
      "\n",
      "..............................................................................\n",
      "##############################################################################\n",
      "Refining grid in flame.\n",
      "    New points inserted after grid points 9 10 11 12 13 14 15 \n",
      "    to resolve C C2H C2H2 C2H3 C2H4 C2H5 C2H6 C3H7 C3H8 CH CH2 CH2(S) CH2CHO CH2CO CH2O CH2OH CH3 CH3CHO CH3O CH3OH CH4 CO H H2 H2O H2O2 HCCO HCCOH HCN HCNO HCO HNCO HO2 N N2 NCO NH NH2 NO2 O O2 OH u \n",
      "##############################################################################\n",
      "\n",
      "..............................................................................\n",
      "Attempt Newton solution of steady-state problem...    success.\n",
      "\n",
      "Problem solved on [36] point grid(s).\n",
      "\n",
      "..............................................................................\n",
      "##############################################################################\n",
      "Refining grid in flame.\n",
      "    New points inserted after grid points 11 12 14 15 16 17 18 19 \n",
      "    to resolve C C2H C2H2 C2H3 C2H4 C2H5 C3H7 C3H8 CH CH2 CH2(S) CH2CHO CH2CO CH2OH CH3 CH3CHO CH3O HCCO HCCOH HCN HCNO HCO N \n",
      "##############################################################################\n",
      "\n",
      "..............................................................................\n",
      "Attempt Newton solution of steady-state problem...    success.\n",
      "\n",
      "Problem solved on [44] point grid(s).\n",
      "\n",
      "..............................................................................\n",
      "no new points needed in flame\n",
      "\n",
      "..............................................................................\n",
      "Attempt Newton solution of steady-state problem...    success.\n",
      "\n",
      "Problem solved on [44] point grid(s).\n",
      "\n",
      "..............................................................................\n",
      "##############################################################################\n",
      "Refining grid in flame.\n",
      "    New points inserted after grid points 0 2 5 6 7 8 9 10 11 12 13 14 15 16 17 18 19 20 21 22 23 24 25 26 27 28 29 30 31 32 33 34 35 36 37 38 39 40 41 \n",
      "    to resolve C C2H C2H2 C2H3 C2H4 C2H5 C2H6 C3H7 C3H8 CH CH2 CH2(S) CH2CHO CH2CO CH2O CH2OH CH3 CH3CHO CH3O CH3OH CH4 CO CO2 H H2 H2O H2O2 HCCO HCCOH HCN HCNO HCO HNCO HO2 N N2 NCO NH2 NH3 NO NO2 O O2 OH T point 0 point 15 point 2 point 40 u \n",
      "##############################################################################\n",
      "\n",
      "..............................................................................\n",
      "Attempt Newton solution of steady-state problem...    success.\n",
      "\n",
      "Problem solved on [83] point grid(s).\n",
      "\n",
      "..............................................................................\n",
      "##############################################################################\n",
      "Refining grid in flame.\n",
      "    New points inserted after grid points 2 6 10 13 14 15 16 17 18 19 20 21 22 23 24 25 26 27 28 29 30 31 32 33 34 35 36 37 38 39 40 41 42 43 44 45 46 47 48 49 50 51 52 53 54 55 56 57 58 59 60 65 66 69 70 71 72 75 77 79 80 \n",
      "    to resolve C C2H C2H2 C2H3 C2H4 C2H5 C2H6 C3H7 C3H8 CH CH2 CH2(S) CH2CHO CH2CO CH2O CH2OH CH3 CH3CHO CH3O CH3OH CH4 CO CO2 H H2 H2O H2O2 HCCO HCCOH HCN HCNO HCO HNCO HO2 N N2 NCO NO NO2 O O2 OH T point 2 point 6 point 77 u \n",
      "##############################################################################\n",
      "\n",
      "..............................................................................\n",
      "Attempt Newton solution of steady-state problem...    success.\n",
      "\n",
      "Problem solved on [144] point grid(s).\n",
      "\n",
      "..............................................................................\n",
      "##############################################################################\n",
      "Refining grid in flame.\n",
      "    New points inserted after grid points 1 19 23 24 25 26 27 28 29 30 31 32 33 35 36 37 38 39 40 41 42 43 44 45 46 47 48 49 50 51 52 53 54 55 56 57 58 59 60 61 62 63 64 65 66 67 68 69 70 71 72 73 74 75 76 77 78 79 80 81 82 83 84 85 86 87 88 89 90 91 92 93 94 95 96 97 98 99 100 142 \n",
      "    to resolve C C2H C2H2 C2H3 C2H4 C2H5 C2H6 C3H7 C3H8 CH CH2 CH2(S) CH2CHO CH2CO CH2O CH2OH CH3 CH3CHO CH3O CH3OH CH4 CO H H2 H2O2 HCCO HCCOH HCN HCO HNCO HO2 N2 NO NO2 O OH point 1 point 142 point 27 point 47 point 96 \n",
      "##############################################################################\n",
      "\n",
      "..............................................................................\n",
      "Attempt Newton solution of steady-state problem...    success.\n",
      "\n",
      "Problem solved on [224] point grid(s).\n",
      "\n",
      "..............................................................................\n",
      "##############################################################################\n",
      "Refining grid in flame.\n",
      "    New points inserted after grid points 47 66 \n",
      "    to resolve point 47 point 66 \n",
      "##############################################################################\n",
      "\n",
      "..............................................................................\n",
      "Attempt Newton solution of steady-state problem...    success.\n",
      "\n",
      "Problem solved on [226] point grid(s).\n",
      "\n",
      "..............................................................................\n",
      "no new points needed in flame\n",
      "\n",
      "..............................................................................\n",
      "Attempt Newton solution of steady-state problem...    failure. \n",
      "Take 2 timesteps       1.5e-05      1.869\n",
      "Attempt Newton solution of steady-state problem...    failure. \n",
      "Take 5 timesteps     7.594e-05      1.664\n",
      "Attempt Newton solution of steady-state problem...    failure. \n",
      "Take 10 timesteps      0.001946      0.786\n",
      "Attempt Newton solution of steady-state problem...    success.\n",
      "\n",
      "Problem solved on [9] point grid(s).\n",
      "\n",
      "..............................................................................\n",
      "grid refinement disabled.\n",
      "\n",
      "..............................................................................\n",
      "Attempt Newton solution of steady-state problem...    failure. \n",
      "Take 2 timesteps      2.25e-05      5.773\n",
      "Attempt Newton solution of steady-state problem...    failure. \n",
      "Take 5 timesteps     2.848e-05      6.299\n",
      "Attempt Newton solution of steady-state problem...    failure. \n",
      "Take 10 timesteps     7.602e-06      6.788\n",
      "Attempt Newton solution of steady-state problem...    success.\n",
      "\n",
      "Problem solved on [9] point grid(s).\n",
      "\n",
      "..............................................................................\n",
      "##############################################################################\n",
      "Refining grid in flame.\n",
      "    New points inserted after grid points 1 2 3 4 \n",
      "    to resolve C C2H2 C2H3 C2H4 C2H5 C2H6 CH CH2 CH2(S) CH2CHO CH2CO CH2O CH2OH CH3 CH3O CH3OH CH4 CO CO2 H H2 H2O H2O2 HCCO HCO HO2 N2 O O2 OH T u \n",
      "##############################################################################\n",
      "\n",
      "..............................................................................\n",
      "Attempt Newton solution of steady-state problem...    failure. \n",
      "Take 2 timesteps       1.5e-05      5.693\n",
      "Attempt Newton solution of steady-state problem...    failure. \n",
      "Take 5 timesteps     5.695e-05      6.019\n",
      "Attempt Newton solution of steady-state problem...    failure. \n",
      "Take 10 timesteps     3.041e-05      5.591\n",
      "Attempt Newton solution of steady-state problem...    success.\n",
      "\n",
      "Problem solved on [13] point grid(s).\n",
      "\n",
      "..............................................................................\n",
      "##############################################################################\n",
      "Refining grid in flame.\n",
      "    New points inserted after grid points 3 4 5 6 7 \n",
      "    to resolve C C2H2 C2H3 C2H4 C2H5 C2H6 CH CH2 CH2(S) CH2CHO CH2CO CH2O CH2OH CH3 CH3O CH3OH CH4 CO CO2 H H2 H2O H2O2 HCCO HCO HO2 N2 O O2 OH T u \n",
      "##############################################################################\n",
      "\n",
      "..............................................................................\n",
      "Attempt Newton solution of steady-state problem...    failure. \n",
      "Take 2 timesteps       1.5e-05      5.656\n",
      "Attempt Newton solution of steady-state problem...    failure. \n",
      "Take 5 timesteps     7.594e-05       5.36\n",
      "Attempt Newton solution of steady-state problem...    failure. \n",
      "Take 10 timesteps     2.027e-05      5.887\n",
      "Attempt Newton solution of steady-state problem...    success.\n",
      "\n",
      "Problem solved on [18] point grid(s).\n",
      "\n",
      "..............................................................................\n",
      "##############################################################################\n",
      "Refining grid in flame.\n",
      "    New points inserted after grid points 5 6 7 8 9 \n",
      "    to resolve C C2H2 C2H3 C2H4 C2H5 C2H6 CH CH2 CH2(S) CH2CHO CH2CO CH2O CH2OH CH3 CH3O CH3OH CH4 CO CO2 H H2 H2O H2O2 HCCO HCO HO2 N2 O O2 OH T u \n",
      "##############################################################################\n",
      "\n",
      "..............................................................................\n",
      "Attempt Newton solution of steady-state problem...    success.\n",
      "\n",
      "Problem solved on [23] point grid(s).\n",
      "\n",
      "..............................................................................\n",
      "##############################################################################\n",
      "Refining grid in flame.\n",
      "    New points inserted after grid points 8 9 10 11 12 \n",
      "    to resolve C C2H2 C2H3 C2H4 C2H5 C2H6 CH CH2 CH2(S) CH2CHO CH2CO CH2O CH2OH CH3 CH3O CH3OH CH4 CO CO2 H H2 H2O H2O2 HCCO HCO HO2 N2 O O2 OH T u \n",
      "##############################################################################\n",
      "\n",
      "..............................................................................\n",
      "Attempt Newton solution of steady-state problem...    success.\n",
      "\n",
      "Problem solved on [28] point grid(s).\n",
      "\n",
      "..............................................................................\n",
      "##############################################################################\n",
      "Refining grid in flame.\n",
      "    New points inserted after grid points 8 9 10 11 12 13 14 \n",
      "    to resolve C C2H2 C2H3 C2H4 C2H5 C2H6 CH CH2 CH2(S) CH2CHO CH2CO CH2O CH2OH CH3 CH3O CH3OH CH4 CO H H2 H2O H2O2 HCCO HCO HO2 N2 O O2 OH T u \n",
      "##############################################################################\n",
      "\n",
      "..............................................................................\n",
      "Attempt Newton solution of steady-state problem...    success.\n",
      "\n",
      "Problem solved on [35] point grid(s).\n",
      "\n",
      "..............................................................................\n",
      "##############################################################################\n",
      "Refining grid in flame.\n",
      "    New points inserted after grid points 10 11 14 15 16 17 18 \n",
      "    to resolve C C2H2 C2H3 C2H4 C2H5 CH CH2 CH2(S) CH2CHO CH2CO CH2OH CH3 CH3O HCCO HCO \n",
      "##############################################################################\n",
      "\n",
      "..............................................................................\n",
      "Attempt Newton solution of steady-state problem...    success.\n",
      "\n",
      "Problem solved on [42] point grid(s).\n",
      "\n",
      "..............................................................................\n",
      "no new points needed in flame\n",
      "\n",
      "..............................................................................\n",
      "Attempt Newton solution of steady-state problem...    success.\n",
      "\n",
      "Problem solved on [42] point grid(s).\n",
      "\n",
      "..............................................................................\n",
      "##############################################################################\n",
      "Refining grid in flame.\n",
      "    New points inserted after grid points 0 2 5 6 7 8 9 10 11 12 13 14 15 16 17 18 19 20 21 22 23 24 25 26 27 28 29 30 31 32 33 34 35 36 37 38 39 \n",
      "    to resolve C C2H2 C2H3 C2H4 C2H5 C2H6 CH CH2 CH2(S) CH2CHO CH2CO CH2O CH2OH CH3 CH3O CH3OH CH4 CO CO2 H H2 H2O H2O2 HCCO HCO HO2 N2 O O2 OH T point 0 point 14 point 2 point 38 point 7 u \n",
      "##############################################################################\n",
      "\n",
      "..............................................................................\n",
      "Attempt Newton solution of steady-state problem...    success.\n",
      "\n",
      "Problem solved on [79] point grid(s).\n",
      "\n",
      "..............................................................................\n",
      "##############################################################################\n",
      "Refining grid in flame.\n",
      "    New points inserted after grid points 2 6 10 11 12 13 14 15 16 17 18 19 20 21 22 23 24 25 26 27 28 29 30 31 32 33 34 35 36 37 38 39 40 41 42 43 44 45 46 47 48 49 50 51 52 53 54 55 56 61 62 65 66 67 68 71 73 \n",
      "    to resolve C C2H2 C2H3 C2H4 C2H5 C2H6 CH CH2 CH2(S) CH2CHO CH2CO CH2O CH2OH CH3 CH3O CH3OH CH4 CO CO2 H H2 H2O H2O2 HCCO HCO HO2 N2 O O2 OH T point 12 point 2 point 6 point 73 u \n",
      "##############################################################################\n",
      "\n",
      "..............................................................................\n",
      "Attempt Newton solution of steady-state problem...    success.\n",
      "\n",
      "Problem solved on [136] point grid(s).\n",
      "\n",
      "..............................................................................\n",
      "##############################################################################\n",
      "Refining grid in flame.\n",
      "    New points inserted after grid points 1 16 17 18 21 22 23 24 25 26 27 28 29 30 31 33 34 35 36 37 38 39 40 41 42 43 44 45 46 47 48 49 50 51 52 53 54 55 56 57 58 59 60 61 62 63 64 65 66 67 68 69 70 71 72 73 74 75 76 77 78 79 80 81 82 83 84 85 86 87 88 89 90 91 92 93 94 \n",
      "    to resolve C C2H2 C2H3 C2H4 C2H5 C2H6 CH CH2 CH2(S) CH2CHO CH2CO CH2O CH2OH CH3 CH3O CH3OH CH4 CO H H2 H2O H2O2 HCCO HCO HO2 N2 O OH point 1 point 17 point 25 point 49 point 90 \n",
      "##############################################################################\n",
      "\n",
      "..............................................................................\n",
      "Attempt Newton solution of steady-state problem...    success.\n",
      "\n",
      "Problem solved on [213] point grid(s).\n",
      "\n",
      "..............................................................................\n",
      "##############################################################################\n",
      "Refining grid in flame.\n",
      "    New points inserted after grid points 20 47 66 73 74 75 76 77 78 79 80 81 82 116 117 118 \n",
      "    to resolve C2H3 C2H5 C2H6 CH2O CH3O H2O2 point 20 point 47 point 66 \n",
      "##############################################################################\n",
      "\n",
      "..............................................................................\n",
      "Attempt Newton solution of steady-state problem...    success.\n",
      "\n",
      "Problem solved on [229] point grid(s).\n",
      "\n",
      "..............................................................................\n",
      "##############################################################################\n",
      "Refining grid in flame.\n",
      "    New points inserted after grid points 21 75 93 135 \n",
      "    to resolve point 135 point 21 point 75 point 93 \n",
      "##############################################################################\n",
      "\n",
      "..............................................................................\n",
      "Attempt Newton solution of steady-state problem...    success.\n",
      "\n",
      "Problem solved on [233] point grid(s).\n",
      "\n",
      "..............................................................................\n",
      "##############################################################################\n",
      "Refining grid in flame.\n",
      "    New points inserted after grid points 75 \n",
      "    to resolve point 75 \n",
      "##############################################################################\n",
      "\n",
      "..............................................................................\n",
      "Attempt Newton solution of steady-state problem...    success.\n",
      "\n",
      "Problem solved on [234] point grid(s).\n",
      "\n",
      "..............................................................................\n",
      "no new points needed in flame\n"
     ]
    },
    {
     "name": "stderr",
     "output_type": "stream",
     "text": [
      "/Users/wirtz/anaconda3/lib/python3.7/site-packages/matplotlib/figure.py:98: MatplotlibDeprecationWarning: \n",
      "Adding an axes using the same arguments as a previous axes currently reuses the earlier instance.  In a future version, a new instance will always be created and returned.  Meanwhile, this warning can be suppressed, and the future behavior ensured, by passing a unique label to each axes instance.\n",
      "  \"Adding an axes using the same arguments as a previous axes \"\n"
     ]
    },
    {
     "data": {
      "image/png": "[encoded data removed]",
      "text/plain": [
       "<Figure size 1008x720 with 1 Axes>"
      ]
     },
     "metadata": {
      "needs_background": "light"
     },
     "output_type": "display_data"
    }
   ],
   "source": [
    "import cantera as ct\n",
    "import numpy as np\n",
    "from matplotlib.pylab import *\n",
    "\n",
    "names = ['gri30.cti', 'Mechanisms/Lu.cti']\n",
    "fuels = ['CH4','CH4']\n",
    "fig=figure(1)\n",
    "for i,n in enumerate(names):\n",
    "    gas = ct.Solution(n)                            # Import gas phases with mixture transport model\n",
    "\n",
    "    p = 2e5                                         # pressure\n",
    "    tin = 400.0                                     # unburned gas temperature\n",
    "    phi = 1.1                                       # equivalence ratio\n",
    "\n",
    "    fuel = {fuels[i]: 1}                            # Fuel composition\n",
    "    oxidizer = {'O2': 1, 'N2': 3.76}                # Oxygen composition\n",
    "    \n",
    "    gas.TP = tin, p\n",
    "    gas.set_equivalence_ratio(phi, fuel, oxidizer)\n",
    "    \n",
    "    f = ct.FreeFlame(gas, width=0.02)   # Create the free laminar premixed flame specifying the width of the grid\n",
    "    f.inlet.X = gas.X                   # Inlet condition on mass fraction\n",
    "    f.inlet.T = gas.T                   # Inlet condition on temperature\n",
    "    \n",
    "    f.energy_enabled = False                       # No energy for starters\n",
    "\n",
    "    tol_ss = [1.0e-5, 1.0e-9]  # tolerance [rtol atol] for steady-state problem\n",
    "    tol_ts = [1.0e-5, 1.0e-9]  # tolerance [rtol atol] for time stepping\n",
    "\n",
    "    f.flame.set_steady_tolerances(default=tol_ss)\n",
    "    f.flame.set_transient_tolerances(default=tol_ts)\n",
    "\n",
    "    # Set calculation parameters\n",
    "    f.set_max_jac_age(50, 50)                           # Maximum number of times the Jacobian will be used before it \n",
    "                                                        # must be re-evaluated\n",
    "    f.set_time_step(1.0e-5, [2, 5, 10, 20, 80])         # Set time steps (in seconds) whenever Newton convergence fails \n",
    "    f.set_refine_criteria(ratio=10.0, slope=1, curve=1) # Refinement criteria\n",
    "\n",
    "    # Calculation\n",
    "    loglevel = 1                                        # amount of diagnostic output (0 to 5)\n",
    "    refine_grid = 'disabled'                            # 'refine' or 'remesh' to enable refinement\n",
    "                                                    # 'disabled' to disable\n",
    "\n",
    "    f.solve(loglevel, refine_grid)                                      # solve the flame on the grid\n",
    "\n",
    "    f.energy_enabled = True                                 # Energy equation enabled\n",
    "    refine_grid = 'refine'                                 # Calculation and save of the results\n",
    "\n",
    "    f.set_refine_criteria(ratio=5.0, slope=0.5, curve=0.5)  # Refinement criteria when energy equation is enabled\n",
    "\n",
    "    f.solve(loglevel, refine_grid)\n",
    "\n",
    "    f.set_refine_criteria(ratio=2.0, slope=0.05, curve=0.05) # Refinement criteria should be changed ...\n",
    "    f.solve(loglevel, refine_grid)                           \n",
    "\n",
    "\n",
    "    rcParams['figure.figsize'] = (14, 10)\n",
    "\n",
    "    # Get the different arrays\n",
    "    z = f.flame.grid\n",
    "    u = f.u\n",
    "    ifuel = gas.species_index(fuels[i])\n",
    "\n",
    "    # create second subplot - velocity\n",
    "    b=fig.add_subplot(111)\n",
    "    b.plot(z,u)\n",
    "    title(r'Velocity vs. Position', fontsize=25)\n",
    "    xlabel(r'Position [m]', fontsize=15)\n",
    "    ylabel(\"velocity [m/s]\", fontsize=15)\n",
    "    b.xaxis.set_major_locator(MaxNLocator(10)) \n",
    "plt.show()\n",
    "fig.savefig('4-Output/Comparison.png')"
   ]
  },
  {
   "cell_type": "markdown",
   "metadata": {},
   "source": [
    "This introduces the notion of types of mechanisms. To represent your chemistry, you will have :\n",
    "- **detailed mechanisms** such as the gri30 which are very complete but also containing a lot of species (so hard to integrate into solvers such as AVBP).\n",
    "- **global mechanisms** that are very simple (usually 6 species and 2 equations) but that may be inaccurate.\n",
    "- **ARC mechanisms** that are an inbetween solution (among others) and that is chosen to be used at CERFACS. The Lu mechanism used here is an intermediate step to access to an ARC mechanism and thus shows some differences with the detailed, as you might see on the graph.<br>\n",
    "\n",
    "Nevertheless, be always careful when you use this or this detailed mechanism as a reference for your computations. Indeed, it might be accurate with a certain error bar or developed for special conditions that are not yours."
   ]
  },
  {
   "cell_type": "code",
   "execution_count": null,
   "metadata": {},
   "outputs": [],
   "source": []
  }
 ],
 "metadata": {
  "kernelspec": {
   "display_name": "Python 3 (ipykernel)",
   "language": "python",
   "name": "python3"
  },
  "language_info": {
   "codemirror_mode": {
    "name": "ipython",
    "version": 3
   },
   "file_extension": ".py",
   "mimetype": "text/x-python",
   "name": "python",
   "nbconvert_exporter": "python",
   "pygments_lexer": "ipython3",
   "version": "3.10.12"
  }
 },
 "nbformat": 4,
 "nbformat_minor": 4
}
