{
 "cells": [
  {
   "cell_type": "code",
   "execution_count": 1,
   "id": "5da52dab-836e-4bfe-9f3e-49729154b28a",
   "metadata": {
    "tags": []
   },
   "outputs": [],
   "source": [
    "###############################################################\n",
    "#\n",
    "# Constant pressure or Constant-volume reactor, \n",
    "#             adiabatic kinetics simulation.\n",
    "#              \n",
    "###############################################################\n",
    "\n",
    "#import :\n",
    "\n",
    "import sys\n",
    "from cantera import *\n",
    "import numpy as np\n",
    "import pandas as pd\n",
    "import csv"
   ]
  },
  {
   "cell_type": "code",
   "execution_count": 5,
   "id": "6eadfce1-cc55-488c-b2bc-58d42e710d47",
   "metadata": {
    "tags": []
   },
   "outputs": [
    {
     "name": "stdout",
     "output_type": "stream",
     "text": [
      "\n",
      "  CH4_BFER_mix:\n",
      "\n",
      "       temperature   1000 K\n",
      "          pressure   1.0132e+05 Pa\n",
      "           density   0.33676 kg/m^3\n",
      "  mean mol. weight   27.633 kg/kmol\n",
      "   phase of matter   gas\n",
      "\n",
      "                          1 kg             1 kmol     \n",
      "                     ---------------   ---------------\n",
      "          enthalpy        5.8795e+05        1.6247e+07  J\n",
      "   internal energy        2.8706e+05        7.9325e+06  J\n",
      "           entropy            8664.6        2.3943e+05  J/K\n",
      "    Gibbs function       -8.0767e+06       -2.2319e+08  J\n",
      " heat capacity c_p            1340.7             37049  J/K\n",
      " heat capacity c_v            1039.8             28734  J/K\n",
      "\n",
      "                      mass frac. Y      mole frac. X     chem. pot. / RT\n",
      "                     ---------------   ---------------   ---------------\n",
      "                O2           0.22014           0.19011           -28.226\n",
      "               CH4          0.055187          0.095057           -36.538\n",
      "                N2           0.72467           0.71483           -25.186\n",
      "     [   +3 minor]                 0                 0  \n",
      "\n"
     ]
    }
   ],
   "source": [
    "#################################################################\n",
    "# Prepare your run\n",
    "#################################################################\n",
    "#Mechanism used for the process\n",
    "gas = Solution('BFER_methane.yaml', 'CH4_BFER_mix')\n",
    "gas.TPX = 1000.0, one_atm, {'CH4':1, 'O2':2, 'N2':7.52} \n",
    "gas()\n",
    "# cti = Solution('BFER_methane.yaml')\n",
    "# air = Solution('air.yaml')\n",
    "\n",
    "# #Gaseous fuel species\n",
    "# fuel_species = 'CH4'\n",
    "\n",
    "# #Number of species in the.cti file.\n",
    "# m=gas.n_species\n",
    "# # m=cti.n_spec\n",
    "\n",
    "# #Find fuel, nitrogen, and oxygen indices\n",
    "# fuel_species = 'CH4'\n",
    "# # ifuel = cti.species_index(fuel_species)\n",
    "# # io2 = cti.species_index('O2')\n",
    "# # in2 = cti.species_index('N2')\n",
    "# ifuel = gas.species_index(fuel_species)\n",
    "# io2 = gas.species_index('O2')\n",
    "# in2 = gas.species_index('N2')\n",
    "\n",
    "# if ifuel < 0:\n",
    "#     raise \"fuel species \"+fuel_species+\" not present!\"\n",
    "\n",
    "# # if cti.n_atoms(fuel_species,'O') > 0 or  cti.n_atoms(fuel_species,'N') > 0:\n",
    "# #     raise \"Error: only hydrocarbon fuels are supported.\"\n",
    "# if gas.n_atoms(fuel_species,'O') > 0 or  gas.n_atoms(fuel_species,'N') > 0:\n",
    "#     raise \"Error: only hydrocarbon fuels are supported.\""
   ]
  },
  {
   "cell_type": "code",
   "execution_count": 19,
   "id": "13c976dd-1521-46d3-851e-3fa1b26a7990",
   "metadata": {
    "tags": []
   },
   "outputs": [
    {
     "name": "stdout",
     "output_type": "stream",
     "text": [
      "\n",
      "-------------------------------------------------------- \n",
      "    THERMO PROPERTIES: \n",
      "-------------------------------------------------------- \n",
      "\n",
      "\n"
     ]
    }
   ],
   "source": [
    "#################\n",
    "#Enter general parameters\n",
    "\n",
    "\t#Stoechiometry\n",
    "print( \"\")\n",
    "print( \"-------------------------------------------------------- \")\n",
    "print( \"    THERMO PROPERTIES: \")\n",
    "print( \"-------------------------------------------------------- \")\n",
    "print( \"\")\n",
    "#phi        = input('Enter Stoichiometric ratio phi : ')\n",
    "#phi        = float(phi)\n",
    "phi=1\n",
    "print( \"\")\n",
    "\n",
    "\t\t#Air composition\n",
    "air_N2_O2_ratio = 3.76   \n",
    "# stoich_O2 = cti.n_atoms(fuel_species,'C') + 0.25*cti.n_atoms(fuel_species,'H')\n",
    "stoich_O2 = gas.n_atoms(fuel_species,'C') + 0.25*gas.n_atoms(fuel_species,'H')\n",
    "\n",
    "\t\t#Mass fraction vector\n",
    "x = np.zeros(m,'d')\n",
    "x[ifuel] = phi\n",
    "x[io2] = stoich_O2\n",
    "x[in2] = stoich_O2*air_N2_O2_ratio\n",
    "\n",
    "\n",
    "\t# Specify intial pressures and temperature of the reactor\n",
    "#Ti = input('Enter temperature (in kelvin) : ')\n",
    "#Ti = float(Ti)       # Kelvin\n",
    "Ti=1000\n",
    "\n",
    "#Pi = input('Enter pressure (in bar) : ')\n",
    "#Pi = float(Pi)*1e5         # Pascal\n",
    "Pi= 1e5\n",
    "\n",
    "\t#Set initial conditions\n",
    "# cti.TPX = Ti, Pi, x\n",
    "gas.TPX = Ti, Pi, x\n",
    "\n"
   ]
  },
  {
   "cell_type": "code",
   "execution_count": 20,
   "id": "d3c52301-c3b0-4f32-8d20-c49870d7202c",
   "metadata": {
    "tags": []
   },
   "outputs": [
    {
     "name": "stdout",
     "output_type": "stream",
     "text": [
      "\n",
      "  CH4_BFER_mix:\n",
      "\n",
      "       temperature   1000 K\n",
      "          pressure   1e+05 Pa\n",
      "           density   0.33235 kg/m^3\n",
      "  mean mol. weight   27.633 kg/kmol\n",
      "   phase of matter   gas\n",
      "\n",
      "                          1 kg             1 kmol     \n",
      "                     ---------------   ---------------\n",
      "          enthalpy        5.8795e+05        1.6247e+07  J\n",
      "   internal energy        2.8706e+05        7.9325e+06  J\n",
      "           entropy            8668.6        2.3954e+05  J/K\n",
      "    Gibbs function       -8.0806e+06        -2.233e+08  J\n",
      " heat capacity c_p            1340.7             37049  J/K\n",
      " heat capacity c_v            1039.8             28734  J/K\n",
      "\n",
      "                      mass frac. Y      mole frac. X     chem. pot. / RT\n",
      "                     ---------------   ---------------   ---------------\n",
      "                O2           0.22014           0.19011           -28.239\n",
      "               CH4          0.055187          0.095057           -36.551\n",
      "                N2           0.72467           0.71483           -25.199\n",
      "     [   +3 minor]                 0                 0  \n",
      "\n"
     ]
    }
   ],
   "source": [
    "gas()"
   ]
  },
  {
   "cell_type": "code",
   "execution_count": 21,
   "id": "0518173f-5a7b-4fa5-9053-6e50462930fc",
   "metadata": {
    "tags": []
   },
   "outputs": [
    {
     "name": "stdout",
     "output_type": "stream",
     "text": [
      "--------------------------------------------------- \n",
      "    Equilibirum conditions: \n",
      "--------------------------------------------------- \n",
      "\n",
      "For a constant volume equilibrium, enter :      UV \n",
      "For a constant pressure equilibrium, enter :    HP \n",
      "\n",
      "\n"
     ]
    }
   ],
   "source": [
    "#################################################################\n",
    "# Program starts here\n",
    "#################################################################\n",
    "#Create the batch reactor\n",
    "# r   = IdealGasReactor(cti)\n",
    "r   = IdealGasReactor(gas)\n",
    "\n",
    "\n",
    "#Specify the conditions: Pression or Volume constant\n",
    "print ( \"--------------------------------------------------- \")\n",
    "print ( \"    Equilibirum conditions: \")\n",
    "print ( \"--------------------------------------------------- \")\n",
    "print ( \"\")\n",
    "print ( \"For a constant volume equilibrium, enter :      UV \")\n",
    "print ( \"For a constant pressure equilibrium, enter :    HP \")\n",
    "print ( \"\")\n",
    "#cond  = input('Specify the equilibrium condition : ')\n",
    "#cond  = str(cond)\n",
    "cond = \"HP\"\n",
    "print ( \"\")\n",
    "while cond != 'HP' and cond != 'UV':\n",
    "     print ( \"You must choose between UV and HP !  \")\n",
    "     cond  = input('Specify the equilibrium condition : ')\n",
    "     cond  = str(cond)\n",
    "\n",
    "\t#Particular case of a constant-pressure reactor\n",
    "if cond == 'HP':\n",
    "\t# Define a wall between the reactor and the environment, and\n",
    "\t# make it flexible, so that the pressure in the reactor is held\n",
    "\t# at the environment pressure.\n",
    "     # env = Reservoir(air)\n",
    "    env = Reservoir(gas)\n",
    "    w = Wall(r,env)\n",
    "    w.expansion_rate_coeff = 1.0e6   # set expansion parameter. dV/dt = KA(P_1 - P_2)\n",
    "    w.area                 = 1.0       # set wall area\n",
    "\n",
    "\n",
    "# Now create a reactor network consisting of the single batch reactor\n",
    "# Reason: the only way to advance reactors in time is through a network\n",
    "sim = ReactorNet([r])\n",
    "\n",
    "#################\n",
    "#Computational properties: we're going to advance the network in time"
   ]
  },
  {
   "cell_type": "code",
   "execution_count": 22,
   "id": "1d607467-81e6-4c8d-869e-03fd79640849",
   "metadata": {
    "tags": []
   },
   "outputs": [
    {
     "name": "stdout",
     "output_type": "stream",
     "text": [
      "\n",
      "  CH4_BFER_mix:\n",
      "\n",
      "       temperature   1000 K\n",
      "          pressure   1e+05 Pa\n",
      "           density   0.33235 kg/m^3\n",
      "  mean mol. weight   27.633 kg/kmol\n",
      "   phase of matter   gas\n",
      "\n",
      "                          1 kg             1 kmol     \n",
      "                     ---------------   ---------------\n",
      "          enthalpy        5.8795e+05        1.6247e+07  J\n",
      "   internal energy        2.8706e+05        7.9325e+06  J\n",
      "           entropy            8668.6        2.3954e+05  J/K\n",
      "    Gibbs function       -8.0806e+06        -2.233e+08  J\n",
      " heat capacity c_p            1340.7             37049  J/K\n",
      " heat capacity c_v            1039.8             28734  J/K\n",
      "\n",
      "                      mass frac. Y      mole frac. X     chem. pot. / RT\n",
      "                     ---------------   ---------------   ---------------\n",
      "                O2           0.22014           0.19011           -28.239\n",
      "               CH4          0.055187          0.095057           -36.551\n",
      "                N2           0.72467           0.71483           -25.199\n",
      "     [   +3 minor]                 0                 0  \n",
      "\n"
     ]
    }
   ],
   "source": [
    "gas()"
   ]
  },
  {
   "cell_type": "code",
   "execution_count": 23,
   "id": "a9b44a09-f04f-406c-9c7f-158264802109",
   "metadata": {
    "tags": []
   },
   "outputs": [
    {
     "name": "stdout",
     "output_type": "stream",
     "text": [
      "\n",
      "-------------------------------------------------------- \n",
      "    COMPUTATIONAL PROPERTIES: \n",
      "-------------------------------------------------------- \n",
      "\n"
     ]
    },
    {
     "name": "stdin",
     "output_type": "stream",
     "text": [
      "Enter number of time steps:  40000\n",
      "Enter the time step (in s):  8e-8\n"
     ]
    }
   ],
   "source": [
    "print (\"\")\n",
    "print (\"-------------------------------------------------------- \")\n",
    "print (\"    COMPUTATIONAL PROPERTIES: \")\n",
    "print (\"-------------------------------------------------------- \")\n",
    "print (\"\")\n",
    "# Initial simulation time\n",
    "time = 0.0\n",
    "# Specify the number of time steps\n",
    "nt = input('Enter number of time steps: ')\n",
    "nt = int(nt)\n",
    "# Specify the time step\n",
    "dtms = input('Enter the time step (in s): ')\n",
    "dtms = float(dtms)\n",
    "dt = dtms #s\n",
    "#################"
   ]
  },
  {
   "cell_type": "code",
   "execution_count": 24,
   "id": "26bdcc80-00f5-4bc2-b3e2-2998e9f00217",
   "metadata": {
    "tags": []
   },
   "outputs": [],
   "source": [
    "# Run the simulation\n",
    "tim = np.zeros(nt, 'd')\n",
    "temp = np.zeros(nt, 'd')\n",
    "press = np.zeros(nt, 'd')\n",
    "mfrac = np.zeros([nt, m, len(gas.species_names)], 'd')  # Modify this line\n",
    "\n",
    "# Loop for nt time steps of dt seconds.\n",
    "data = []  # Create a list to store the data\n",
    "for n in range(nt):\n",
    "    time += dt\n",
    "    sim.advance(time)\n",
    "    tim[n] = time\n",
    "    temp[n] = r.T\n",
    "    press[n] = r.thermo.P\n",
    "    mfrac_row = [r.thermo[gas.species_name(i)].Y for i in range(m)]\n",
    "    mfrac[n, :, :] = mfrac_row  # Modify this line\n",
    "    data.append([sim.time, r.T, r.thermo.P] + mfrac_row)"
   ]
  },
  {
   "cell_type": "code",
   "execution_count": 12,
   "id": "d6e0bb48-5889-401f-9883-7f10c4f6d0a5",
   "metadata": {
    "tags": []
   },
   "outputs": [
    {
     "name": "stdout",
     "output_type": "stream",
     "text": [
      "output written to Reactor_HP.csv\n"
     ]
    }
   ],
   "source": [
    "#################################################################\n",
    "# Save your results if needed\n",
    "#################################################################\n",
    "# write output CSV file for importing into Excel\n",
    "if cond == 'HP':\n",
    "     csvfile = 'Reactor_HP.csv'\n",
    "elif cond == 'UV':\n",
    "     csvfile = 'Reactor_UV.csv'\n",
    "\n",
    "csv_file = csvfile\n",
    "with open(csv_file, 'w') as outfile:\n",
    "\twriter = csv.writer(outfile)\n",
    "\twriter.writerow(['Time','Temperature','Pressure']+gas.species_names)\n",
    "\tfor n in range(nt):\n",
    "    \t\twriter.writerow([tim[n], temp[n], press[n]]+list(mfrac[n,:]))\n",
    "print ('output written to '+csvfile)\n"
   ]
  },
  {
   "cell_type": "code",
   "execution_count": 25,
   "id": "2fc7d082-e8a3-4fde-9524-2dd1f0c44bf8",
   "metadata": {
    "tags": []
   },
   "outputs": [
    {
     "name": "stdout",
     "output_type": "stream",
     "text": [
      "\n",
      "  CH4_BFER_mix:\n",
      "\n",
      "       temperature   2647.7 K\n",
      "          pressure   1e+05 Pa\n",
      "           density   0.12335 kg/m^3\n",
      "  mean mol. weight   27.155 kg/kmol\n",
      "   phase of matter   gas\n",
      "\n",
      "                          1 kg             1 kmol     \n",
      "                     ---------------   ---------------\n",
      "          enthalpy        5.8795e+05        1.5966e+07  J\n",
      "   internal energy       -2.2274e+05       -6.0486e+06  J\n",
      "           entropy             10221        2.7755e+05  J/K\n",
      "    Gibbs function       -2.6474e+07        -7.189e+08  J\n",
      " heat capacity c_p            1538.7             41783  J/K\n",
      " heat capacity c_v            1232.5             33469  J/K\n",
      "\n",
      "                      mass frac. Y      mole frac. X     chem. pot. / RT\n",
      "                     ---------------   ---------------   ---------------\n",
      "                O2          0.020401          0.017313           -33.871\n",
      "               H2O           0.12394           0.18682           -41.449\n",
      "               CH4       -2.3749e-14       -4.0198e-14           -725.99\n",
      "                CO          0.035716          0.034626           -37.094\n",
      "               CO2          0.095271          0.058785           -54.029\n",
      "                N2           0.72467           0.70245            -28.28\n",
      "\n"
     ]
    }
   ],
   "source": [
    "gas()"
   ]
  },
  {
   "cell_type": "code",
   "execution_count": 26,
   "id": "5eb0d14e-7c77-49db-b244-342b09fdb183",
   "metadata": {
    "tags": []
   },
   "outputs": [
    {
     "data": {
      "image/png": "[encoded data removed]",
      "text/plain": [
       "<Figure size 640x480 with 4 Axes>"
      ]
     },
     "metadata": {},
     "output_type": "display_data"
    }
   ],
   "source": [
    "import matplotlib.pyplot as plt\n",
    "\n",
    "plt.clf()\n",
    "plt.subplot(2, 2, 1)\n",
    "plt.plot(tim, temp[:])\n",
    "plt.xlabel('Time (s)')\n",
    "plt.ylabel('Temperature (K)')\n",
    "\n",
    "plt.subplot(2, 2, 2)\n",
    "plt.plot(tim, mfrac[:, gas.species_index('H2O')])\n",
    "plt.xlabel('Time (s)')\n",
    "plt.ylabel('H2O Mass Fraction')\n",
    "\n",
    "plt.subplot(2, 2, 3)\n",
    "plt.plot(tim, mfrac[:, gas.species_index('O2')])\n",
    "plt.xlabel('Time (s)')\n",
    "plt.ylabel('O2 Mass Fraction')\n",
    "\n",
    "plt.subplot(2, 2, 4)\n",
    "plt.plot(tim, mfrac[:, gas.species_index('CH4')])\n",
    "plt.xlabel('Time (s)')\n",
    "plt.ylabel('CH4 Mass Fraction')\n",
    "\n",
    "plt.tight_layout()  # This adjusts the spacing between subplots\n",
    "plt.show()\n"
   ]
  },
  {
   "cell_type": "code",
   "execution_count": null,
   "id": "03563c32-b438-4a08-ab85-939ddcb88bbb",
   "metadata": {},
   "outputs": [],
   "source": []
  }
 ],
 "metadata": {
  "kernelspec": {
   "display_name": "Python 3 (ipykernel)",
   "language": "python",
   "name": "python3"
  },
  "language_info": {
   "codemirror_mode": {
    "name": "ipython",
    "version": 3
   },
   "file_extension": ".py",
   "mimetype": "text/x-python",
   "name": "python",
   "nbconvert_exporter": "python",
   "pygments_lexer": "ipython3",
   "version": "3.10.12"
  }
 },
 "nbformat": 4,
 "nbformat_minor": 5
}
