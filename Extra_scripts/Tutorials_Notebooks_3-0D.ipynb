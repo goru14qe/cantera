{
 "cells": [
  {
   "cell_type": "markdown",
   "metadata": {},
   "source": [
    "# IV - 0D computations"
   ]
  },
  {
   "cell_type": "markdown",
   "metadata": {},
   "source": [
    "## 1. Knowledge of 0D computations"
   ]
  },
  {
   "cell_type": "markdown",
   "metadata": {},
   "source": [
    "The following link may help you to find the answers or the documentation you need :\n",
    "https://cantera.org/documentation/docs-2.4/sphinx/html/cython/zerodim.html\n",
    "https://cantera.org/science/reactors.html\n",
    "<br>\n",
    "The first one is about the function that can be used for computing a reactor and the second one explains the equations that are computed.<br>"
   ]
  },
  {
   "cell_type": "markdown",
   "metadata": {},
   "source": [
    "### ReactorBase class"
   ]
  },
  {
   "cell_type": "markdown",
   "metadata": {},
   "source": [
    "0D Reactors are often used in combustion to model auto-ignition time and the chemistry associated to it. For reactors and reservoirs, the classe used *ReactorBase* is the following :<br>\n",
    "<code>ReactorBase(ThermoPhase contents, name=None, arguments)</code>\n",
    "<br><br>\n",
    "Here are the different types of reactors you can have for a 0D computation :\n",
    "1. **Reservoir**<br>\n",
    "Reactors with a constant state. The temperature, pressure, and chemical composition in a reservoir never change from their initial values.\n",
    "\n",
    "2. **Reactor**\n",
    "3. **IdealGasReactor**<br>\n",
    "Constant volume, zero-dimensional reactor for ideal gas mixtures.\n",
    "4. **ConstPressureReactor**<br>\n",
    "Homogeneous, constant pressure, zero-dimensional reactor. The volume of the reactor changes as a function of time in order to keep the pressure constant.\n",
    "5. **IdealGasConstPressureReactor**<br>\n",
    "Homogeneous, constant pressure, zero-dimensional reactor for ideal gas mixtures. The volume of the reactor changes as a function of time in order to keep the pressure constant.\n",
    "6. **FlowReactor**<br>\n",
    "A steady-state plug flow reactor with constant cross sectional area. Time integration follows a fluid element along the length of the reactor. The reactor is assumed to be frictionless and adiabatic."
   ]
  },
  {
   "cell_type": "markdown",
   "metadata": {},
   "source": [
    "### FlowDevice class"
   ]
  },
  {
   "cell_type": "markdown",
   "metadata": {},
   "source": [
    "Reactors can be added inlets and outlets, to be able to loop or chain several reactors, control mass flow rates, volume or pressure. Here are the properties of the common baseclass *FlowDevice* for flow controllers between reactors and reservoirs :<br>\n",
    "<code>FlowDevice(upstream, downstream, name=None, arguments)</code>\n",
    "<br><br>\n",
    "The FlowDevice controls the fluids passage between an upstream and a downstream object, which should be specified. The arguments depend upon the different types of flow controllers available in Cantera :\n",
    "1. **MassFlowController**<br>\n",
    "Mass flow controllers maintain a specified mass flow rate independent of upstream and downstream conditions. Unlike a real mass flow controller, a MassFlowController object will maintain the flow even if the downstream pressure is greater than the upstream pressure.\n",
    "2. **Valve**<br>\n",
    "Valves are flow devices with mass flow rate that is a function of the pressure drop across them. Valve objects are often used between an upstream reactor and a downstream reactor or reservoir to maintain them both at nearly the same pressure. By setting the constant Kv to a sufficiently large value, very small pressure differences will result in flow between the reactors that counteracts the pressure difference.\n",
    "3. **PressureController**<br>\n",
    "A pressure controller is designed to be used in conjunction, typically, with a MassFlowController. The master flow controller is installed on the inlet of the reactor, and the corresponding PressureController is installed on the outlet of the reactor. The PressureController mass flow rate is equal to the master mass flow rate, plus a small correction dependent on the pressure difference."
   ]
  },
  {
   "cell_type": "markdown",
   "metadata": {},
   "source": [
    "### Walls"
   ]
  },
  {
   "cell_type": "markdown",
   "metadata": {},
   "source": [
    "Reactors can also add heat transfer and heterogeneous reactions at the walls, through a special\n",
    "object \"wall\". Walls separate two reactors, or a reactor and a reservoir. A wall has a finite area, may\n",
    "conduct or radiate heat between the two reactors on either side, and may move like a piston. They are\n",
    "stateless objects in Cantera, meaning that no differential equation is integrated to determine any wall\n",
    "property. A heterogeneous reaction mechanism may be specified for one or both of the wall surfaces."
   ]
  },
  {
   "cell_type": "markdown",
   "metadata": {},
   "source": [
    "### ReactorNet"
   ]
  },
  {
   "cell_type": "markdown",
   "metadata": {},
   "source": [
    "Now, the evolution of a reactor, or a network of reactors -which are 0-D objects- with time, is performed\n",
    "through an integrator object *ReactorNet* :<br>\n",
    "<code><p style=\"text-align: center;\">\n",
    "... (define gases) ...\n",
    "r1 = Reactor(gas1)\n",
    "r2 = Reactor(gas2)\n",
    "... (install walls, inlets, outlets, etc)...\n",
    "reactor_network = ReactorNet([r1, r2])\n",
    "time = 1 #s\n",
    "reactor_network.advance(time)\n",
    "</code></p><br>\n",
    "\n",
    "There are two possibilities to advance a reactor simulation in time :\n",
    "- the ***advance(self, double t)*** option (shown in the example above)<br>\n",
    "This will advance the state of the reactor network in time from the current time to the specified 't' time, taking as many integrator timesteps as necessary.\n",
    "- the ***step(self, double t)*** option. <br>\n",
    "This will take a single internal time step toward the specified time 't' [s]... \n",
    "The use of 'advance' is recommended, unless you need to elucidate a bug."
   ]
  },
  {
   "cell_type": "markdown",
   "metadata": {},
   "source": [
    "## 2. Simple closed vessel"
   ]
  },
  {
   "cell_type": "markdown",
   "metadata": {},
   "source": [
    "### Import statements"
   ]
  },
  {
   "cell_type": "code",
   "execution_count": 1,
   "metadata": {},
   "outputs": [],
   "source": [
    "import sys\n",
    "import numpy as np\n",
    "import cantera as ct\n",
    "import matplotlib.pyplot as plt\n",
    "from matplotlib import *"
   ]
  },
  {
   "cell_type": "markdown",
   "metadata": {},
   "source": [
    "### Set the mechanism properties"
   ]
  },
  {
   "cell_type": "code",
   "execution_count": 2,
   "metadata": {},
   "outputs": [],
   "source": [
    "gas = ct.Solution('BFER_methane.yaml','CH4_BFER')\n",
    "gas.TPX = 1600.0, ct.one_atm, 'CH4: 1, O2: 2, N2: 7.52'"
   ]
  },
  {
   "cell_type": "markdown",
   "metadata": {},
   "source": [
    "### Create the reactor and the ReactorNet associated to it"
   ]
  },
  {
   "cell_type": "code",
   "execution_count": 3,
   "metadata": {},
   "outputs": [],
   "source": [
    "# Create Reactor and fill with gas\n",
    "r = ct.Reactor(gas)\n",
    "\n",
    "# Prepare the simulation with a ReactorNet object\n",
    "sim = ct.ReactorNet([r])\n",
    "time = 8e-8"
   ]
  },
  {
   "cell_type": "markdown",
   "metadata": {},
   "source": [
    "### Compute the reactor"
   ]
  },
  {
   "cell_type": "code",
   "execution_count": 4,
   "metadata": {
    "scrolled": true
   },
   "outputs": [
    {
     "name": "stdout",
     "output_type": "stream",
     "text": [
      "     t [s]      T [K]   vol [m3]       u [J/kg]\n"
     ]
    },
    {
     "data": {
      "text/plain": [
       "3309.7781702905536"
      ]
     },
     "execution_count": 4,
     "metadata": {},
     "output_type": "execute_result"
    }
   ],
   "source": [
    "# Arrays to hold the datas\n",
    "n_points = 400\n",
    "times = np.zeros(n_points)\n",
    "data = np.zeros((n_points, 4))\n",
    "\n",
    "# Advance the simulation in time\n",
    "# and print the internal evolution of temperature, volume and internal energy\n",
    "print(('%10s %10s %10s %14s' % ('t [s]', 'T [K]', 'vol [m3]', 'u [J/kg]')))\n",
    "for n in range(n_points):\n",
    "    time += 8e-8\n",
    "    sim.advance(time)\n",
    "    times[n] = time  # time in s\n",
    "    data[n, 0] = r.T                               # set the temperature in the first column\n",
    "    data[n, 1:] = r.thermo['O2', 'CO2', 'CH4'].X     # set the molar fractions in the other column\n",
    "    #print(('%10.3e %10.3f %10.3f %14.6e' % (sim.time, r.T, r.thermo.v, r.thermo.u)))\n",
    "\n",
    "gas.T"
   ]
  },
  {
   "cell_type": "markdown",
   "metadata": {},
   "source": [
    "### Plot results"
   ]
  },
  {
   "cell_type": "code",
   "execution_count": null,
   "metadata": {},
   "outputs": [],
   "source": [
    "rcParams['figure.figsize'] = (14, 10)\n",
    "\n",
    "plt.clf()\n",
    "\n",
    "plt.subplot(2, 2, 1)\n",
    "plt.plot(times, data[:, 0])\n",
    "plt.xlabel('Time (ms)')\n",
    "plt.ylabel('Temperature (K)')\n",
    "\n",
    "plt.subplot(2, 2, 2)\n",
    "plt.plot(times, data[:, 1])\n",
    "plt.xlabel('Time (ms)')\n",
    "plt.ylabel('O2 Mole Fraction')\n",
    "\n",
    "plt.subplot(2, 2, 3)\n",
    "plt.plot(times, data[:, 2])\n",
    "plt.xlabel('Time (ms)')\n",
    "plt.ylabel('CO2 Mole Fraction')\n",
    "\n",
    "plt.subplot(2, 2, 4)\n",
    "plt.plot(times, data[:, 3])\n",
    "plt.xlabel('Time (ms)')\n",
    "plt.ylabel('CH4 Mole Fraction')\n",
    "\n",
    "plt.show()"
   ]
  },
  {
   "cell_type": "markdown",
   "metadata": {},
   "source": [
    "There are the characteristic evolutions that one can observe when simulating 0D cases. You should be aware that your case must auto-ignite (for some temperature, it is not sufficiently hot to auto-ignite, therefore nothing happens) and that the simulated time should be sufficient to capture the time where it ignites."
   ]
  },
  {
   "cell_type": "markdown",
   "metadata": {},
   "source": [
    "<div class=\"alert alert-danger \"><b>Try to move the temperature of the gas state :<br>\n",
    "- at 960 K<br>\n",
    "- at 1040 K\n",
    "<br><br>\n",
    "What do you observe ?</b></div>"
   ]
  },
  {
   "cell_type": "markdown",
   "metadata": {},
   "source": [
    "As you can see, slightly shifting the temperature up or down moves the auto-ignition time. As you never know a priori the order of magnitude of the ignition time, it is good to use the step version until you reach burnt gases."
   ]
  },
  {
   "cell_type": "markdown",
   "metadata": {},
   "source": [
    "## 3. A simple constant pressure reactor"
   ]
  },
  {
   "cell_type": "markdown",
   "metadata": {},
   "source": [
    "Here, we want to create a simple constant pressure reactor. To do so, it is necessary to create a reactor and its environment (which will be a Reservoir). The interface between the two objects created is handled by a wall, of which the expansion rate can be defined by the user."
   ]
  },
  {
   "cell_type": "markdown",
   "metadata": {},
   "source": [
    "### Set the mechanism properties"
   ]
  },
  {
   "cell_type": "code",
   "execution_count": null,
   "metadata": {},
   "outputs": [],
   "source": [
    "# Mechanisms used for the process\n",
    "gri3 = ct.Solution('gri30.xml')\n",
    "air = ct.Solution('air.xml')\n",
    "\n",
    "# Gas state\n",
    "gri3.TPX = 1000.0, ct.one_atm, 'CH4:0.5,O2:1,N2:3.76'"
   ]
  },
  {
   "cell_type": "markdown",
   "metadata": {},
   "source": [
    "### Set the reservoir"
   ]
  },
  {
   "cell_type": "markdown",
   "metadata": {},
   "source": [
    "<div class=\"alert alert-danger \"><b> Try to set :<br>\n",
    "- an IdealGasReactor object with the gri3 object created above<br>\n",
    "- a Reservoir representing the environment with the air object created above\n",
    "</p></div>"
   ]
  },
  {
   "cell_type": "code",
   "execution_count": null,
   "metadata": {},
   "outputs": [],
   "source": [
    "# Reactor and environment\n",
    "r = ct.IdealGasReactor(gri3)\n",
    "env = ct.Reservoir(air)\n",
    "\n",
    "# Wall\n",
    "w = ct.Wall(r, env)\n",
    "w.expansion_rate_coeff = 1.0e6  # set expansion parameter. dV/dt = KA(P_1 - P_2)\n",
    "w.area = 1.0\n",
    "\n",
    "# Prepare the simulation with a ReactorNet object\n",
    "sim = ct.ReactorNet([r])\n",
    "time = 4.e-1"
   ]
  },
  {
   "cell_type": "markdown",
   "metadata": {},
   "source": [
    "As explained in the lecture, note that the environment defines the air in which the reactor is set in. We also define a wall between the reactor and the environment, and make it flexible, so that the pressure in the reactor is held at the environment pressure."
   ]
  },
  {
   "cell_type": "markdown",
   "metadata": {},
   "source": [
    "### Simulate the reactor"
   ]
  },
  {
   "cell_type": "code",
   "execution_count": null,
   "metadata": {},
   "outputs": [],
   "source": [
    "# Arrays to hold the datas\n",
    "times = np.zeros(200)\n",
    "data = np.zeros((200, 4))\n",
    "\n",
    "# Advance the simulation in time\n",
    "print(('%10s %10s %10s %14s' % ('t [s]', 'T [K]', 'P [Pa]', 'h [J/kg]')))\n",
    "for n in range(200):\n",
    "    time += 5.e-3\n",
    "    sim.advance(time)\n",
    "    times[n] = time  # time in s\n",
    "    data[n, 0] = r.T\n",
    "    data[n, 1:] = r.thermo['O2', 'CO2', 'CH4'].X\n",
    "    print(('%10.3e %10.3f %10.3f %14.6e' % (sim.time, r.T,\n",
    "                                            r.thermo.P, r.thermo.h)))"
   ]
  },
  {
   "cell_type": "code",
   "execution_count": null,
   "metadata": {},
   "outputs": [],
   "source": [
    "rcParams['figure.figsize'] = (14, 10)\n",
    "\n",
    "plt.clf()\n",
    "\n",
    "plt.subplot(2, 2, 1)\n",
    "plt.plot(times, data[:, 0])\n",
    "plt.xlabel('Time (ms)')\n",
    "plt.ylabel('Temperature (K)')\n",
    "\n",
    "plt.subplot(2, 2, 2)\n",
    "plt.plot(times, data[:, 1])\n",
    "plt.xlabel('Time (ms)')\n",
    "plt.ylabel('O2 Mole Fraction')\n",
    "\n",
    "plt.subplot(2, 2, 3)\n",
    "plt.plot(times, data[:, 2])\n",
    "plt.xlabel('Time (ms)')\n",
    "plt.ylabel('CO2 Mole Fraction')\n",
    "\n",
    "plt.subplot(2, 2, 4)\n",
    "plt.plot(times, data[:, 3])\n",
    "plt.xlabel('Time (ms)')\n",
    "plt.ylabel('CH4 Mole Fraction')\n",
    "\n",
    "plt.show()"
   ]
  },
  {
   "cell_type": "markdown",
   "metadata": {},
   "source": [
    "<div class=\"alert alert-danger \"> Try to modify the script by creating an <b> IdealGasConstPressureReactor </b> instead of setting the environment into a reservoir to maintain the pressure.</div>"
   ]
  },
  {
   "cell_type": "markdown",
   "metadata": {},
   "source": [
    "### Reset gas state and set the new IdealGasConstPressureReactor"
   ]
  },
  {
   "cell_type": "code",
   "execution_count": null,
   "metadata": {},
   "outputs": [],
   "source": [
    "# Mechanisms used for the process\n",
    "gri3 = ct.Solution('gri30.xml')\n",
    "\n",
    "# Gas state\n",
    "gri3.TPX = 1000.0, ct.one_atm, 'CH4:0.5,O2:1,N2:3.76'\n",
    "\n",
    "r = ct.IdealGasConstPressureReactor(gri3)\n",
    "\n",
    "# Prepare the simulation with a ReactorNet object\n",
    "sim = ct.ReactorNet([r])\n",
    "time = 4.e-1"
   ]
  },
  {
   "cell_type": "markdown",
   "metadata": {},
   "source": [
    "### Simulate the new case"
   ]
  },
  {
   "cell_type": "code",
   "execution_count": null,
   "metadata": {},
   "outputs": [],
   "source": [
    "# Arrays to hold the datas\n",
    "times = np.zeros(200)\n",
    "data = np.zeros((200, 4))\n",
    "\n",
    "# Advance the simulation in time\n",
    "print(('%10s %10s %10s %14s' % ('t [s]', 'T [K]', 'P [Pa]', 'h [J/kg]')))\n",
    "for n in range(200):\n",
    "    time += 5.e-3\n",
    "    sim.advance(time)\n",
    "    times[n] = time  # time in s\n",
    "    data[n, 0] = r.T\n",
    "    data[n, 1:] = r.thermo['O2', 'CO2', 'CH4'].X\n",
    "    print(('%10.3e %10.3f %10.3f %14.6e' % (sim.time, r.T,\n",
    "                                            r.thermo.P, r.thermo.h)))"
   ]
  },
  {
   "cell_type": "markdown",
   "metadata": {},
   "source": [
    "### Plot the results and compare with the previous one"
   ]
  },
  {
   "cell_type": "code",
   "execution_count": null,
   "metadata": {},
   "outputs": [],
   "source": [
    "rcParams['figure.figsize'] = (14, 10)\n",
    "\n",
    "plt.clf()\n",
    "\n",
    "plt.subplot(2, 2, 1)\n",
    "plt.plot(times, data[:, 0])\n",
    "plt.xlabel('Time (ms)')\n",
    "plt.ylabel('Temperature (K)')\n",
    "\n",
    "plt.subplot(2, 2, 2)\n",
    "plt.plot(times, data[:, 1])\n",
    "plt.xlabel('Time (ms)')\n",
    "plt.ylabel('O2 Mole Fraction')\n",
    "\n",
    "plt.subplot(2, 2, 3)\n",
    "plt.plot(times, data[:, 2])\n",
    "plt.xlabel('Time (ms)')\n",
    "plt.ylabel('CO2 Mole Fraction')\n",
    "\n",
    "plt.subplot(2, 2, 4)\n",
    "plt.plot(times, data[:, 3])\n",
    "plt.xlabel('Time (ms)')\n",
    "plt.ylabel('CH4 Mole Fraction')\n",
    "\n",
    "plt.show()"
   ]
  },
  {
   "cell_type": "markdown",
   "metadata": {},
   "source": [
    "## 4. An example of application : mixing two streams"
   ]
  },
  {
   "cell_type": "markdown",
   "metadata": {},
   "source": [
    "Up until now, we have seen how to generate simple closed vessels. However, it is sometimes interesting\n",
    "to mix different streams, or to feed the exhaust of a reservoir with constant parameters to a reacting\n",
    "reactor. In this exercise, we will design a script that simulates the stoichiometric constant volume\n",
    "mixing of a stream of air with a stream of pure gaseous methane."
   ]
  },
  {
   "cell_type": "markdown",
   "metadata": {},
   "source": [
    "![title](Images/Scheme.png)"
   ]
  },
  {
   "cell_type": "markdown",
   "metadata": {},
   "source": [
    "### Set the two gases and the molar mass associated"
   ]
  },
  {
   "cell_type": "markdown",
   "metadata": {},
   "source": [
    "<div class=\"alert alert-danger \"><b> You will have to :<br>\n",
    "- set a first gas a with an air mixture at 0.21 of O2, 0.01 of AR and 0.78 of N2<br>\n",
    "- set a second gas b with a gri30 mixture at 1 of CH4\n",
    "<b></div>"
   ]
  },
  {
   "cell_type": "code",
   "execution_count": null,
   "metadata": {},
   "outputs": [],
   "source": [
    "gas_a = ct.Solution('air.xml')\n",
    "gas_a.TPX = 300, ct.one_atm, 'O2:0.21, N2:0.78, AR:0.01'\n",
    "mw_a = gas_a.mean_molecular_weight/1000 #kg/mol\n",
    "\n",
    "gas_b = ct.Solution('gri30.xml')\n",
    "gas_b.TPX = 300.0, ct.one_atm, 'CH4:1'\n",
    "mw_b = gas_b.mean_molecular_weight/1000 #kg/mol"
   ]
  },
  {
   "cell_type": "markdown",
   "metadata": {},
   "source": [
    "### Creation of two reservoirs and an exhaust one (ReactorBase)"
   ]
  },
  {
   "cell_type": "markdown",
   "metadata": {},
   "source": [
    "<div class=\"alert alert-danger \"><b> You will have to :<br>\n",
    "- set a first reservoir from gas a<br>\n",
    "- set a second reservoir from gas b<br>\n",
    "- set a downstream reservoir filled with gas b\n",
    "<b></div>"
   ]
  },
  {
   "cell_type": "code",
   "execution_count": null,
   "metadata": {},
   "outputs": [],
   "source": [
    "res_a = ct.Reservoir(gas_a)\n",
    "res_b = ct.Reservoir(gas_b)\n",
    "downstream = ct.Reservoir(gas_b)"
   ]
  },
  {
   "cell_type": "markdown",
   "metadata": {},
   "source": [
    "### Generate the reactor that will receive the mixed stream (ReactorBase)"
   ]
  },
  {
   "cell_type": "markdown",
   "metadata": {},
   "source": [
    "<div class=\"alert alert-danger \"><b> You will have to :<br>\n",
    "- change the condition of the gas b to respect an air mix.<br>\n",
    "- create and IdealGasReactor with the energy equation set to 'on'.\n",
    "<b></div>"
   ]
  },
  {
   "cell_type": "code",
   "execution_count": null,
   "metadata": {},
   "outputs": [],
   "source": [
    "gas_b.TPX = 300, ct.one_atm, 'O2:1., N2:3.78, CH4:0.5'\n",
    "mixer = ct.IdealGasReactor(gas_b, energy='on')"
   ]
  },
  {
   "cell_type": "markdown",
   "metadata": {},
   "source": [
    "Watch out here, the mixture should be the one of gas_b, as the reactions will occur with the mechanism from gri30 (and not from the air)."
   ]
  },
  {
   "cell_type": "markdown",
   "metadata": {},
   "source": [
    "### Creation of the mass flow controller that will control the mixing (FlowDevice)"
   ]
  },
  {
   "cell_type": "markdown",
   "metadata": {},
   "source": [
    "Now that you have specified all the elements of the reactor, you need to detail the link between them. This is what is done in the following lines :"
   ]
  },
  {
   "cell_type": "code",
   "execution_count": null,
   "metadata": {},
   "outputs": [],
   "source": [
    "mfca = ct.MassFlowController(res_a, mixer, mdot=mw_a*2./0.21)\n",
    "mfcb = ct.MassFlowController(res_b, mixer, mdot=mw_b*1.0)"
   ]
  },
  {
   "cell_type": "markdown",
   "metadata": {},
   "source": [
    "### Creation of the valve between the mixer and the downstream (FlowDevice)"
   ]
  },
  {
   "cell_type": "markdown",
   "metadata": {},
   "source": [
    "Finally, the valve is created."
   ]
  },
  {
   "cell_type": "code",
   "execution_count": null,
   "metadata": {},
   "outputs": [],
   "source": [
    "outlet = ct.Valve(mixer, downstream, K=10.0)"
   ]
  },
  {
   "cell_type": "markdown",
   "metadata": {},
   "source": [
    "This valve will enable the system to keep a constant pressure at the inlet of the mixer and at the outlet."
   ]
  },
  {
   "cell_type": "markdown",
   "metadata": {},
   "source": [
    "### Creation of the net reactor to compute simulation"
   ]
  },
  {
   "cell_type": "markdown",
   "metadata": {},
   "source": [
    "<div class=\"alert alert-danger \"><b> You need to create the ReactorNet with the mixer. <b></div>"
   ]
  },
  {
   "cell_type": "code",
   "execution_count": null,
   "metadata": {},
   "outputs": [],
   "source": [
    "sim = ct.ReactorNet([mixer])"
   ]
  },
  {
   "cell_type": "code",
   "execution_count": null,
   "metadata": {},
   "outputs": [],
   "source": [
    "# Since the mixer is a reactor, we need to integrate in time to reach steady\n",
    "# state. A few residence times should be enough.\n",
    "print('{0:>14s} {1:>14s} {2:>14s} {3:>14s} {4:>14s}'.format('t [s]', 'T [K]', 'h [J/kg]', 'P [Pa]', 'X_CH4'))\n",
    "t = 0.0\n",
    "for n in range(100):\n",
    "    tres = mixer.mass/(mfca.mdot(t) + mfcb.mdot(t))\n",
    "    t += 2*tres\n",
    "    sim.advance(t)\n",
    "    print('{0:14.5g} {1:14.5g} {2:14.5g} {3:14.5g} {4:14.5g}'.format(t, mixer.T, mixer.thermo.h, mixer.thermo.P, mixer.thermo['CH4'].X[0]))\n",
    "\n",
    "print(mixer.thermo.report())"
   ]
  },
  {
   "cell_type": "markdown",
   "metadata": {},
   "source": [
    "Notice that the gas did not ignite, and that the composition is indeed stoichiometric. We could trigger\n",
    "the ignition, by assuming that the reactor is 'already lit'. To do so, you need to initialize the content\n",
    "of the reactor with hot gases. The simplest way to do so is by filling it with stoichiometric mixture of\n",
    "air and methane at equilibrium. This is easily done by replacing the lines :<br>\n",
    "<code>\n",
    "gas_b.TPX = 300.0, ct.one_atm, 'O2:0.21, N2:0.78, AR:0.01'\n",
    "mixer = ct.IdealGasReactor(gas_b)\n",
    "</code><br>\n",
    "with :\n",
    "<br><code>\n",
    "gas_b.TPX = 300.0,ct.one_atm,'O2:1., N2:3.78, CH4:0.5'\n",
    "gas_b.equilibrate(\"HP\")\n",
    "mixer = ct.IdealGasReactor(gas_b)\n",
    "</code>"
   ]
  },
  {
   "cell_type": "markdown",
   "metadata": {},
   "source": [
    "## 5. Autoignition timing"
   ]
  },
  {
   "cell_type": "markdown",
   "metadata": {},
   "source": [
    "An interesting feature of 0D simulations is that it allows to compute the temporal evolution of a\n",
    "mixture under specific conditions towards its equilibrium state. That evolution can be viewed as\n",
    "a sort of **autoignition** of the mixture.<br>\n",
    "To go further, that last exercise will guide you through\n",
    "such a computation of the autoignition timing of a methane/air mixture. Several definitions of the\n",
    "autoignition timing can be found in the literature. The most commonly accepted definition relies\n",
    "on the temperature gradient : the time of the sharpest temperature increase is spotted as being the\n",
    "autoignition point. In order to catch this time with precision, the time step of the simulation should\n",
    "be as small as possible."
   ]
  },
  {
   "cell_type": "markdown",
   "metadata": {},
   "source": [
    "### Create the gas object"
   ]
  },
  {
   "cell_type": "code",
   "execution_count": null,
   "metadata": {},
   "outputs": [],
   "source": [
    "gas = ct.Solution('gri30.cti')\n",
    "gas.TPX = 1250, ct.one_atm, 'CH4:0.5, O2:1, N2:3.76'"
   ]
  },
  {
   "cell_type": "markdown",
   "metadata": {},
   "source": [
    "### Initialisation of the different values"
   ]
  },
  {
   "cell_type": "code",
   "execution_count": null,
   "metadata": {},
   "outputs": [],
   "source": [
    "# Initial temperatures\n",
    "Temperature_range = list(range(800, 1700, 100))\n",
    "\n",
    "# Specify the number of time steps and the time step size\n",
    "nt = 100000\n",
    "dt = 1.e-4  # s\n",
    "\n",
    "# Storing auto ignitions\n",
    "auto_ignitions = []"
   ]
  },
  {
   "cell_type": "code",
   "execution_count": null,
   "metadata": {},
   "outputs": [],
   "source": [
    "for index, Temperature in enumerate(Temperature_range):\n",
    "    #################################################################\n",
    "    # Initial temperature, Pressure and stoichiometry\n",
    "    gas.TPX = Temperature, ct.one_atm, 'CH4:0.5, O2:1, N2:3.76'\n",
    "    # Create the batch reactor\n",
    "    r = ct.IdealGasReactor(gas)\n",
    "    # Now create a reactor network consisting of the single batch reactor\n",
    "    sim = ct.ReactorNet([r])\n",
    "    # Storage space\n",
    "    mfrac = []\n",
    "    # ...\n",
    "    time = []\n",
    "    temperature = []\n",
    "    HR = []\n",
    "    # Run the simulation\n",
    "    # Initial simulation time\n",
    "    current_time = 0.0\n",
    "    # Loop for nt time steps of dt seconds.\n",
    "    for n in range(nt):\n",
    "        current_time += dt\n",
    "        sim.advance(current_time)\n",
    "        time.append(current_time)\n",
    "        temperature.append(r.T)\n",
    "        mfrac.append(r.thermo.Y)\n",
    "        HR.append(- np.dot(gas.net_production_rates, gas.partial_molar_enthalpies))\n",
    "    #################################################################\n",
    "    # Catch the autoignition timing\n",
    "    #################################################################\n",
    "    # Get the ignition delay time by the maximum value of the Heat Release rate\n",
    "    auto_ignition = time[HR.index(max(HR))]\n",
    "    print('For T = ' + str(Temperature) + ', Autoignition time = ' + str(auto_ignition) + ' s')\n",
    "    # Posterity\n",
    "    FinalTemp = temperature[nt - 1]\n",
    "    auto_ignitions.append(auto_ignition)\n",
    "    # #################################################################\n",
    "    # # Save results\n",
    "    # #################################################################\n",
    "    # # write output CSV file for importing into Excel\n",
    "    # csv_file = '3-Output/Phi-1_P-1_T-' + str(Temperature) + '_UV.csv'\n",
    "    # with open(csv_file, 'w') as outfile:\n",
    "    # writer = csv.writer(outfile)\n",
    "    # writer.writerow(['Auto ignition time [s]', 'Final Temperature [K]'] + gas.species_names)\n",
    "    # writer.writerow([auto_ignition, FinalTemp] + list(mfrac[:]))\n",
    "    # print('output written to ' + csv_file)\n",
    "T_invert = [1000 / Temperature for Temperature in Temperature_range]"
   ]
  },
  {
   "cell_type": "code",
   "execution_count": null,
   "metadata": {},
   "outputs": [],
   "source": [
    "#################################################################\n",
    "# Plot results\n",
    "#################################################################\n",
    "# create plot\n",
    "plt.plot(Temperature_range, auto_ignitions, 'b-o')\n",
    "plt.xlabel(r'Temperature [K]', fontsize=20)\n",
    "plt.ylabel(\"Auto ignition [s]\", fontsize=20)\n",
    "plt.yscale('log')\n",
    "plt.title(r'Autoignition of $CH_{4}$ + Air mixture at $\\Phi$ = 1, and P = 1 bar',\n",
    "fontsize=22, horizontalalignment='center')\n",
    "plt.axis(fontsize=20)\n",
    "plt.grid()\n",
    "plt.show()"
   ]
  },
  {
   "cell_type": "markdown",
   "metadata": {},
   "source": [
    "This is a typical curve of the auto-ignition time as a function of the initial temperature, meaning that when the temperature increases, this time is reduced."
   ]
  },
  {
   "cell_type": "code",
   "execution_count": null,
   "metadata": {},
   "outputs": [],
   "source": []
  }
 ],
 "metadata": {
  "kernelspec": {
   "display_name": "Python 3",
   "language": "python",
   "name": "python3"
  },
  "language_info": {
   "codemirror_mode": {
    "name": "ipython",
    "version": 3
   },
   "file_extension": ".py",
   "mimetype": "text/x-python",
   "name": "python",
   "nbconvert_exporter": "python",
   "pygments_lexer": "ipython3",
   "version": "3.10.12"
  }
 },
 "nbformat": 4,
 "nbformat_minor": 2
}
