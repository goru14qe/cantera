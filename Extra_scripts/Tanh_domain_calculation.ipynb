{
 "cells": [
  {
   "cell_type": "code",
   "execution_count": 4,
   "metadata": {},
   "outputs": [
    {
     "name": "stdout",
     "output_type": "stream",
     "text": [
      "Sphere Coordinates (x, y, z, R, w): (0.0065, 0.005, 0.0115, 0.005, 0.0001)\n"
     ]
    }
   ],
   "source": [
    "import math\n",
    "\n",
    "def calculate_sphere_coordinates(domain_min_x, domain_max_x, domain_min_y, domain_max_y, domain_min_z, domain_max_z, flow_direction):\n",
    "    # Calculate the sphere's coordinates based on the flow direction\n",
    "    if flow_direction == '+x':\n",
    "        x = domain_max_x\n",
    "        y = (domain_min_y + domain_max_y) / 2\n",
    "        z = (domain_min_z + domain_max_z) / 2\n",
    "    elif flow_direction == '-x':\n",
    "        x = domain_min_x\n",
    "        y = (domain_min_y + domain_max_y) / 2\n",
    "        z = (domain_min_z + domain_max_z) / 2\n",
    "    elif flow_direction == '+y':\n",
    "        x = (domain_min_x + domain_max_x) / 2\n",
    "        y = domain_max_y\n",
    "        z = (domain_min_z + domain_max_z) / 2\n",
    "    elif flow_direction == '-y':\n",
    "        x = (domain_min_x + domain_max_x) / 2\n",
    "        y = domain_min_y\n",
    "        z = (domain_min_z + domain_max_z) / 2\n",
    "    elif flow_direction == '+z':\n",
    "        x = (domain_min_x + domain_max_x) / 2\n",
    "        y = (domain_min_y + domain_max_y) / 2\n",
    "        z = domain_max_z\n",
    "    elif flow_direction == '-z':\n",
    "        x = (domain_min_x + domain_max_x) / 2\n",
    "        y = (domain_min_y + domain_max_y) / 2\n",
    "        z = domain_min_z\n",
    "    else:\n",
    "        raise ValueError(\"Invalid flow direction. Use '+x', '-x', '+y', '-y', '+z', or '-z'.\")\n",
    "\n",
    "    # Calculate the sphere's radius based on the length of the face normal to the flow direction\n",
    "    if flow_direction in ('+x', '-x'):\n",
    "        R = (domain_max_y - domain_min_y) / 2\n",
    "    elif flow_direction in ('+y', '-y'):\n",
    "        R = (domain_max_x - domain_min_x) / 2\n",
    "    elif flow_direction in ('+z', '-z'):\n",
    "        R = (domain_max_x - domain_min_x) / 2\n",
    "\n",
    "    w = 0.0001  # You can change this value if needed\n",
    "\n",
    "    return x, y, z, R, w\n",
    "\n",
    "# Input domain bounds and flow direction\n",
    "domain_min_x = 0.002\n",
    "domain_max_x = 0.0065\n",
    "domain_min_y = 0\n",
    "domain_max_y = 0.01\n",
    "domain_min_z = 0.006\n",
    "domain_max_z = 0.017\n",
    "flow_direction = '+x'\n",
    "\n",
    "# Calculate sphere coordinates, radius, and w for the specified domain and flow direction\n",
    "coordinates = calculate_sphere_coordinates(domain_min_x, domain_max_x, domain_min_y, domain_max_y, domain_min_z, domain_max_z, flow_direction)\n",
    "\n",
    "print(\"Sphere Coordinates (x, y, z, R, w):\", coordinates)\n"
   ]
  }
 ],
 "metadata": {
  "kernelspec": {
   "display_name": "ct-env",
   "language": "python",
   "name": "python3"
  },
  "language_info": {
   "codemirror_mode": {
    "name": "ipython",
    "version": 3
   },
   "file_extension": ".py",
   "mimetype": "text/x-python",
   "name": "python",
   "nbconvert_exporter": "python",
   "pygments_lexer": "ipython3",
   "version": "3.10.12"
  },
  "orig_nbformat": 4
 },
 "nbformat": 4,
 "nbformat_minor": 2
}
