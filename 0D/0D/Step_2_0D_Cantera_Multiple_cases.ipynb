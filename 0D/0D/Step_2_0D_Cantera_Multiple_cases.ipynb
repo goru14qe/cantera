{
 "cells": [
  {
   "cell_type": "markdown",
   "metadata": {},
   "source": [
    "<h1> For Cantera <br>\n",
    "<h5> This file takes up a scheme, and dynamically print out results for Input_Config.\n",
    "<h5> Solves the 0D case for multiple cases.<br>\n",
    "<h5> Print and plot the autoignition time for all of them.<br>"
   ]
  },
  {
   "cell_type": "code",
   "execution_count": 1,
   "id": "2b42f0f4-5286-4b14-aaf8-32d10f099f93",
   "metadata": {
    "tags": []
   },
   "outputs": [],
   "source": [
    "import sys\n",
    "import numpy as np\n",
    "import cantera as ct\n",
    "import matplotlib.pyplot as plt\n",
    "from matplotlib import *\n",
    "import csv"
   ]
  },
  {
   "cell_type": "code",
   "execution_count": 2,
   "id": "42eaa57c-103b-4803-960e-ac2fa93f0fc4",
   "metadata": {
    "tags": []
   },
   "outputs": [
    {
     "name": "stdout",
     "output_type": "stream",
     "text": [
      "\n",
      "  CH4_BFER_mix:\n",
      "\n",
      "       temperature   1000 K\n",
      "          pressure   1.0132e+05 Pa\n",
      "           density   0.33676 kg/m^3\n",
      "  mean mol. weight   27.633 kg/kmol\n",
      "   phase of matter   gas\n",
      "\n",
      "                          1 kg             1 kmol     \n",
      "                     ---------------   ---------------\n",
      "          enthalpy        5.8795e+05        1.6247e+07  J\n",
      "   internal energy        2.8706e+05        7.9325e+06  J\n",
      "           entropy            8664.6        2.3943e+05  J/K\n",
      "    Gibbs function       -8.0767e+06       -2.2319e+08  J\n",
      " heat capacity c_p            1340.7             37049  J/K\n",
      " heat capacity c_v            1039.8             28734  J/K\n",
      "\n",
      "                      mass frac. Y      mole frac. X     chem. pot. / RT\n",
      "                     ---------------   ---------------   ---------------\n",
      "                O2           0.22014           0.19011           -28.226\n",
      "               CH4          0.055187          0.095057           -36.538\n",
      "                N2           0.72467           0.71483           -25.186\n",
      "     [   +3 minor]                 0                 0  \n",
      "\n",
      "None\n",
      "Density: 3.37e-01 kg/m³\n",
      "Kinematic Viscosity: 1.24e-04 m²/s\n",
      "Thermal Conductivity: 7.67e-02 W/m/K\n",
      "\n",
      "\n",
      "Species: O2\n",
      "Mass Fraction: 2.20e-01\n",
      "Mix Diffusion Coefficient: 1.59e-04\n",
      "\n",
      "Species: H2O\n",
      "Mass Fraction: 0.00e+00\n",
      "Mix Diffusion Coefficient: 2.10e-04\n",
      "\n",
      "Species: CH4\n",
      "Mass Fraction: 5.52e-02\n",
      "Mix Diffusion Coefficient: 1.86e-04\n",
      "\n",
      "Species: CO\n",
      "Mass Fraction: 0.00e+00\n",
      "Mix Diffusion Coefficient: 1.62e-04\n",
      "\n",
      "Species: CO2\n",
      "Mass Fraction: 0.00e+00\n",
      "Mix Diffusion Coefficient: 1.32e-04\n",
      "\n",
      "Species: N2\n",
      "Mass Fraction: 7.25e-01\n",
      "Mix Diffusion Coefficient: 1.62e-04\n",
      "\n"
     ]
    }
   ],
   "source": [
    "scheme = 'BFER_methane'\n",
    "gas = ct.Solution(scheme'.yaml', 'CH4_BFER_mix')\n",
    "gas.TPX = 1000.0, ct.one_atm, {'CH4':1, 'O2':2, 'N2':7.52} \n",
    "\n",
    "density = gas.density\n",
    "viscosity = gas.viscosity\n",
    "thermal_conductivity = gas.thermal_conductivity\n",
    "kinematic_viscosity = viscosity / density  # m²/s\n",
    "\n",
    "species_names = gas.species_names\n",
    "#molar_masses = gas.molecular_weights  # kg/kmol\n",
    "diff_coeffs = gas.mix_diff_coeffs  # m²/s\n",
    "mass_fractions = gas.Y\n",
    "\n",
    "print(gas())    \n",
    "print(f\"Density: {density:.2e} kg/m³\")\n",
    "print(f\"Kinematic Viscosity: {kinematic_viscosity:.2e} m²/s\")\n",
    "print(f\"Thermal Conductivity: {thermal_conductivity:.2e} W/m/K\\n\\n\")\n",
    "\n",
    "for i, specie in enumerate(species_names):\n",
    "    print(f\"Species: {specie}\")\n",
    "    #print(f\"Molar Mass: {molar_masses[i]:.2e} kg/kmol\")\n",
    "    print(f\"Mass Fraction: {mass_fractions[i]:.2e}\")\n",
    "    print(f\"Mix Diffusion Coefficient: {diff_coeffs[i]:.2e}\")\n",
    "    print(\"\")"
   ]
  },
  {
   "cell_type": "code",
   "execution_count": 3,
   "id": "e00588cb-0a48-4f9b-bf9d-173d3388b7d3",
   "metadata": {
    "tags": []
   },
   "outputs": [],
   "source": [
    "# Initial temperatures\n",
    "Temperature_range = list(range(800, 1700, 200))\n",
    "\n",
    "# Specify the number of time steps and the time step size\n",
    "nt = 100000\n",
    "dt = 8.e-8  # s\n",
    "\n",
    "# Storing auto ignitions\n",
    "auto_ignitions = []"
   ]
  },
  {
   "cell_type": "code",
   "execution_count": 4,
   "id": "0c9944d8-273a-4bf2-a559-efdc76c6eb19",
   "metadata": {
    "tags": []
   },
   "outputs": [
    {
     "name": "stdout",
     "output_type": "stream",
     "text": [
      "For T = 800, Autoignition time = 0.008000000000016327 s\n",
      "For T = 1000, Autoignition time = 0.0014802399999995438 s\n",
      "For T = 1200, Autoignition time = 0.00012671999999999965 s\n",
      "For T = 1400, Autoignition time = 2.399999999999985e-05 s\n",
      "For T = 1600, Autoignition time = 7.280000000000006e-06 s\n"
     ]
    }
   ],
   "source": [
    "for index, Temperature in enumerate(Temperature_range):\n",
    "    #################################################################\n",
    "    # Initial temperature, Pressure and stoichiometry\n",
    "    gas.TPX = Temperature, ct.one_atm, {'CH4':1, 'O2':2, 'N2':7.52} \n",
    "    # Create the batch reactor\n",
    "    r = ct.IdealGasReactor(gas)\n",
    "    # Now create a reactor network consisting of the single batch reactor\n",
    "    sim = ct.ReactorNet([r])\n",
    "    # Storage space\n",
    "    mfrac = []\n",
    "    # ...\n",
    "    time = []\n",
    "    temperature = []\n",
    "    HR = []\n",
    "    # Run the simulation\n",
    "    # Initial simulation time\n",
    "    current_time = 0.0\n",
    "    # Loop for nt time steps of dt seconds.\n",
    "    for n in range(nt):\n",
    "        current_time += dt\n",
    "        sim.advance(current_time)\n",
    "        time.append(current_time)\n",
    "        temperature.append(r.T)\n",
    "        mfrac.append(r.thermo.Y)\n",
    "        HR.append(- np.dot(gas.net_production_rates, gas.partial_molar_enthalpies)) #Calculates the heat release rate using the net production rates of species and their partial molar enthalpies.\n",
    "    #################################################################\n",
    "    # Catch the autoignition timing\n",
    "    #################################################################\n",
    "    # Get the ignition delay time by the maximum value of the Heat Release rate\n",
    "    auto_ignition = time[HR.index(max(HR))] #Finds the ignition time (time of maximum heat release rate) by locating the index in the HR list where the maximum value occurs and then finding the corresponding time from the time list\n",
    "    print('For T = ' + str(Temperature) + ', Autoignition time = ' + str(auto_ignition) + ' s')\n",
    "    # Posterity\n",
    "    FinalTemp = temperature[nt - 1]\n",
    "    auto_ignitions.append(auto_ignition)\n",
    "    # #################################################################\n",
    "    # # Save results\n",
    "    # #################################################################\n",
    "    # # write output CSV file for importing into Excel\n",
    "    # csv_file = '3-Output/Phi-1_P-1_T-' + str(Temperature) + '_UV.csv'\n",
    "    # with open(csv_file, 'w') as outfile:\n",
    "    # writer = csv.writer(outfile)\n",
    "    # writer.writerow(['Auto ignition time [s]', 'Final Temperature [K]'] + gas.species_names)\n",
    "    # writer.writerow([auto_ignition, FinalTemp] + list(mfrac[:]))\n",
    "    # print('output written to ' + csv_file)\n",
    "T_invert = [1000 / Temperature for Temperature in Temperature_range]"
   ]
  },
  {
   "cell_type": "code",
   "execution_count": 5,
   "id": "55c750fe-9529-4367-a2d9-1471a6529ee8",
   "metadata": {
    "tags": []
   },
   "outputs": [
    {
     "data": {
      "image/png": "[encoded data removed]",
      "text/plain": [
       "<Figure size 640x480 with 1 Axes>"
      ]
     },
     "metadata": {},
     "output_type": "display_data"
    }
   ],
   "source": [
    "#################################################################\n",
    "# Plot results\n",
    "#################################################################\n",
    "# create plot\n",
    "plt.plot(Temperature_range, auto_ignitions, 'b-o')\n",
    "plt.xlabel(r'Temperature [K]')\n",
    "plt.ylabel(\"Auto ignition [s]\")\n",
    "plt.yscale('log')\n",
    "plt.title(r'Autoignition of $CH_{4}$ + Air mixture at $\\Phi$ = 1, and P = 1 bar',\n",
    "fontsize=22, horizontalalignment='center')\n",
    "plt.axis()\n",
    "plt.grid()\n",
    "plt.show()"
   ]
  }
 ],
 "metadata": {
  "kernelspec": {
   "display_name": "Python 3 (ipykernel)",
   "language": "python",
   "name": "python3"
  },
  "language_info": {
   "codemirror_mode": {
    "name": "ipython",
    "version": 3
   },
   "file_extension": ".py",
   "mimetype": "text/x-python",
   "name": "python",
   "nbconvert_exporter": "python",
   "pygments_lexer": "ipython3",
   "version": "3.10.12"
  }
 },
 "nbformat": 4,
 "nbformat_minor": 5
}
