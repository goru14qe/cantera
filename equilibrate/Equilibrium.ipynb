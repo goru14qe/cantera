{
 "cells": [
  {
   "cell_type": "code",
   "execution_count": 1,
   "metadata": {
    "tags": []
   },
   "outputs": [],
   "source": [
    "import cantera as ct\n",
    "import numpy as np\n",
    "import csv\n",
    "from matplotlib import *\n",
    "import matplotlib.pyplot as plt\n",
    "import sys"
   ]
  },
  {
   "cell_type": "code",
   "execution_count": 2,
   "metadata": {
    "tags": []
   },
   "outputs": [],
   "source": [
    "gas = ct.Solution('BFER_methane.yaml', 'CH4_BFER_mix')       # create an object representing the gas phase\n",
    "gas.TPX = 295.0, ct.one_atm, {'CH4':1, 'O2':2, 'N2':7.52}   # set initial state"
   ]
  },
  {
   "cell_type": "code",
   "execution_count": 3,
   "metadata": {
    "tags": []
   },
   "outputs": [
    {
     "name": "stdout",
     "output_type": "stream",
     "text": [
      "295.0\n",
      "-------------------------------------------------------\n",
      "Density (rho_0):\t 1.1416e+00 kg/m³\n",
      "Kine Visc (nu_0):\t 1.5588e-05 m²/s\n",
      "cp: \t\t\t1076.20 \n",
      "Therm Cond:(lambda)\t 2.6930e-02 W/m/K\n",
      "\n",
      "\n",
      "['O2', 'H2O', 'CH4', 'CO', 'CO2', 'N2']\n"
     ]
    }
   ],
   "source": [
    "Ini_Temp=gas.T\n",
    "# Get properties\n",
    "density = gas.density\n",
    "viscosity = gas.viscosity\n",
    "thermal_conductivity = gas.thermal_conductivity\n",
    "kinematic_viscosity = viscosity / density  # m²/s\n",
    "cp = gas.cp\n",
    "\n",
    "species_names = gas.species_names\n",
    "molar_masses = gas.molecular_weights/1000  # Molar masses in kg/mol\n",
    "diff_coeffs = gas.mix_diff_coeffs  # m²/s\n",
    "mass_fractions = gas.Y\n",
    "mol_frac = gas.X\n",
    "\n",
    "print(gas.T)\n",
    "print(\"-------------------------------------------------------\")\n",
    "print(f\"Density (rho_0):\\t {density:.4e} kg/m³\")\n",
    "print(f\"Kine Visc (nu_0):\\t {kinematic_viscosity:.4e} m²/s\")\n",
    "print(f\"cp: \\t\\t\\t{cp:.2f} \")\n",
    "print(f\"Therm Cond:(lambda)\\t {thermal_conductivity:.4e} W/m/K\\n\\n\")\n",
    "\n",
    "print(gas.species_names)"
   ]
  },
  {
   "cell_type": "code",
   "execution_count": 4,
   "metadata": {},
   "outputs": [
    {
     "name": "stdout",
     "output_type": "stream",
     "text": [
      "#name     Molar Mass\n",
      "O2     0.031998\n",
      "H2O    0.018015\n",
      "CH4    0.016043\n",
      "CO     0.028010\n",
      "CO2    0.044009\n",
      "N2     0.028014\n",
      "\n",
      "\n",
      "#    Initial mass fractions (FLOW)\n",
      "O2     0.220141    H2O    0.000000\n",
      "CH4    0.055187    CO     0.000000\n",
      "CO2    0.000000    N2     0.724672\n",
      "\n",
      "#    Initial diffusion coefficients (FLOW)\n",
      "O2     1.9664e-05    H2O    2.1960e-05\n",
      "CH4    2.2714e-05    CO     2.0201e-05\n",
      "CO2    1.5376e-05    N2     2.0001e-05\n"
     ]
    }
   ],
   "source": [
    "print(\"#name     Molar Mass\")\n",
    "for i in range(len(species_names)):\n",
    "    print(f\"{species_names[i]:<6} {molar_masses[i]:.6f}\")    \n",
    "    \n",
    "print(\"\\n\\n#    Initial mass fractions (FLOW)\")\n",
    "for i in range(len(species_names)):\n",
    "    print(f\"{species_names[i]:<6} {mass_fractions[i]:.6f}\", end=\"    \" if i % 2 == 0 else \"\\n\")\n",
    "\n",
    "print(\"\\n#    Initial diffusion coefficients (FLOW)\")\n",
    "for i in range(len(species_names)):\n",
    "    print(f\"{species_names[i]:<6} {diff_coeffs[i]:.4e}\", end=\"    \" if i % 2 == 0 else \"\\n\")\n"
   ]
  },
  {
   "cell_type": "code",
   "execution_count": 5,
   "metadata": {
    "tags": []
   },
   "outputs": [
    {
     "name": "stdout",
     "output_type": "stream",
     "text": [
      "2255.4635890217205\n",
      "-------------------------------------------------------\n",
      "Density (rho_0):\t 1.4854e-01 kg/m³\n",
      "Kine Visc (nu_0):\t 4.8206e-04 m²/s\n",
      "cp: \t\t\t1516.51 \n",
      "Therm Cond:(lambda)\t 1.5564e-01 W/m/K\n",
      "\n",
      "\n",
      "['O2', 'H2O', 'CH4', 'CO', 'CO2', 'N2']\n"
     ]
    }
   ],
   "source": [
    "gas.equilibrate('HP')                 # equilibrate using Temperature (T) and Pressure (P)\n",
    "\n",
    "Ini_Temp=gas.T\n",
    "# Get properties\n",
    "density = gas.density\n",
    "viscosity = gas.viscosity\n",
    "thermal_conductivity = gas.thermal_conductivity\n",
    "kinematic_viscosity = viscosity / density  # m²/s\n",
    "cp = gas.cp\n",
    "\n",
    "species_names = gas.species_names\n",
    "molar_masses = gas.molecular_weights/1000  # Molar masses in kg/mol\n",
    "diff_coeffs = gas.mix_diff_coeffs  # m²/s\n",
    "mass_fractions = gas.Y\n",
    "mol_frac = gas.X\n",
    "\n",
    "print(gas.T)\n",
    "print(\"-------------------------------------------------------\")\n",
    "print(f\"Density (rho_0):\\t {density:.4e} kg/m³\")\n",
    "print(f\"Kine Visc (nu_0):\\t {kinematic_viscosity:.4e} m²/s\")\n",
    "print(f\"cp: \\t\\t\\t{cp:.2f} \")\n",
    "print(f\"Therm Cond:(lambda)\\t {thermal_conductivity:.4e} W/m/K\\n\\n\")\n",
    "\n",
    "print(gas.species_names)"
   ]
  },
  {
   "cell_type": "code",
   "execution_count": 6,
   "metadata": {},
   "outputs": [
    {
     "name": "stdout",
     "output_type": "stream",
     "text": [
      "#name     Molar Mass\n",
      "O2     0.031998\n",
      "H2O    0.018015\n",
      "CH4    0.016043\n",
      "CO     0.028010\n",
      "CO2    0.044009\n",
      "N2     0.028014\n",
      "\n",
      "\n",
      "#    Initial mass fractions (FLOW)\n",
      "O2     0.005976    H2O    0.123940\n",
      "CH4    0.000000    CO     0.010463\n",
      "CO2    0.134948    N2     0.724672\n",
      "\n",
      "#    Initial diffusion coefficients (FLOW)\n",
      "O2     6.4612e-04    H2O    8.7662e-04\n",
      "CH4    7.0390e-04    CO     6.3707e-04\n",
      "CO2    5.0466e-04    N2     6.5732e-04\n"
     ]
    }
   ],
   "source": [
    "print(\"#name     Molar Mass\")\n",
    "for i in range(len(species_names)):\n",
    "    print(f\"{species_names[i]:<6} {molar_masses[i]:.6f}\")    \n",
    "    \n",
    "print(\"\\n\\n#    Initial mass fractions (FLOW)\")\n",
    "for i in range(len(species_names)):\n",
    "    print(f\"{species_names[i]:<6} {mass_fractions[i]:.6f}\", end=\"    \" if i % 2 == 0 else \"\\n\")\n",
    "\n",
    "print(\"\\n#    Initial diffusion coefficients (FLOW)\")\n",
    "for i in range(len(species_names)):\n",
    "    print(f\"{species_names[i]:<6} {diff_coeffs[i]:.4e}\", end=\"    \" if i % 2 == 0 else \"\\n\")\n"
   ]
  },
  {
   "cell_type": "markdown",
   "metadata": {},
   "source": []
  },
  {
   "cell_type": "code",
   "execution_count": null,
   "metadata": {},
   "outputs": [],
   "source": [
    "gas.thermal_conductivity"
   ]
  },
  {
   "cell_type": "code",
   "execution_count": 14,
   "metadata": {},
   "outputs": [
    {
     "name": "stdout",
     "output_type": "stream",
     "text": [
      "At T=300.0 K, P=101325.0 Pa: Cp_output=1077.3295, Lambda_output=0.0273\n",
      "At T=2000.0 K, P=101325.0 Pa: Cp_output=1536.4785, Lambda_output=0.1362\n"
     ]
    }
   ],
   "source": [
    "gas = ct.Solution('BFER_methane.yaml', 'CH4_BFER_mix')       # create an object representing the gas phase\n",
    "gas.TPX = 300.0, ct.one_atm, {'CH4':1, 'O2':2, 'N2':7.52}   # set initial state\n",
    "output_temperature = 2000.0  # Replace with the actual output temperature\n",
    "pressure = ct.one_atm\n",
    "print(f\"At T={gas.T} K, P={pressure} Pa: Cp_output={gas.cp:.4f}, Lambda_output={gas.thermal_conductivity:.4f}\")\n",
    "gas.TP = output_temperature, pressure\n",
    "cp_output = gas.cp  # Specific heat capacity at constant pressure\n",
    "lambda_output = gas.thermal_conductivity  # Thermal conductivity\n",
    "print(f\"At T={output_temperature} K, P={pressure} Pa: Cp_output={cp_output:.4f}, Lambda_output={lambda_output:.4f}\")"
   ]
  },
  {
   "cell_type": "code",
   "execution_count": null,
   "metadata": {},
   "outputs": [],
   "source": []
  }
 ],
 "metadata": {
  "kernelspec": {
   "display_name": "Python 3 (ipykernel)",
   "language": "python",
   "name": "python3"
  },
  "language_info": {
   "codemirror_mode": {
    "name": "ipython",
    "version": 3
   },
   "file_extension": ".py",
   "mimetype": "text/x-python",
   "name": "python",
   "nbconvert_exporter": "python",
   "pygments_lexer": "ipython3",
   "version": "3.10.12"
  }
 },
 "nbformat": 4,
 "nbformat_minor": 4
}
